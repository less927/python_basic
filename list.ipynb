{
  "nbformat": 4,
  "nbformat_minor": 0,
  "metadata": {
    "colab": {
      "provenance": [],
      "toc_visible": true,
      "authorship_tag": "ABX9TyMjyOZbloLrTXmyibtdrLTS",
      "include_colab_link": true
    },
    "kernelspec": {
      "name": "python3",
      "display_name": "Python 3"
    },
    "language_info": {
      "name": "python"
    }
  },
  "cells": [
    {
      "cell_type": "markdown",
      "metadata": {
        "id": "view-in-github",
        "colab_type": "text"
      },
      "source": [
        "<a href=\"https://colab.research.google.com/github/less927/300-/blob/main/list.ipynb\" target=\"_parent\"><img src=\"https://colab.research.google.com/assets/colab-badge.svg\" alt=\"Open In Colab\"/></a>"
      ]
    },
    {
      "cell_type": "code",
      "execution_count": 1,
      "metadata": {
        "id": "-_3jvaNFBWCI"
      },
      "outputs": [],
      "source": [
        "#리스트 정리"
      ]
    },
    {
      "cell_type": "markdown",
      "source": [
        "리스트는 대괄호를 이용한다 [ ]\n",
        "데이터는 입력한 순서대로 지정되며 , 로 구분한다\n",
        "대괄호에 아무것도 쓰지않으면 빈 리스트가 만들어진다\n"
      ],
      "metadata": {
        "id": "vh0DoAYeDY7V"
      }
    },
    {
      "cell_type": "code",
      "source": [
        "# 1번학생의  국 영 수 점수가 각각 90,95,85인 상황\n",
        "student1 = [90,95,85,80]\n",
        "student1"
      ],
      "metadata": {
        "colab": {
          "base_uri": "https://localhost:8080/"
        },
        "id": "PkcMMHp2Bea0",
        "outputId": "8e91496a-d47c-4353-b772-9fd4924fef7e"
      },
      "execution_count": 3,
      "outputs": [
        {
          "output_type": "execute_result",
          "data": {
            "text/plain": [
              "[90, 95, 85, 80]"
            ]
          },
          "metadata": {},
          "execution_count": 3
        }
      ]
    },
    {
      "cell_type": "code",
      "source": [
        "print (student1[0])\n",
        "print (student1[1])\n",
        "print (student1[2])"
      ],
      "metadata": {
        "colab": {
          "base_uri": "https://localhost:8080/"
        },
        "id": "Ir7wmuS-Eav_",
        "outputId": "2705fa03-a365-4322-c383-bc95b05a23af"
      },
      "execution_count": 10,
      "outputs": [
        {
          "output_type": "stream",
          "name": "stdout",
          "text": [
            "90\n",
            "95\n",
            "85\n"
          ]
        }
      ]
    },
    {
      "cell_type": "code",
      "source": [
        "myFriends = ['James', 'Robert', 'Lisa', 'Mary']\n",
        "myFriends"
      ],
      "metadata": {
        "colab": {
          "base_uri": "https://localhost:8080/"
        },
        "id": "gmglgMP4FnxN",
        "outputId": "8d929a4b-db77-481b-9978-d82d14b112d6"
      },
      "execution_count": 11,
      "outputs": [
        {
          "output_type": "execute_result",
          "data": {
            "text/plain": [
              "['James', 'Robert', 'Lisa', 'Mary']"
            ]
          },
          "metadata": {},
          "execution_count": 11
        }
      ]
    },
    {
      "cell_type": "code",
      "source": [
        "mixedList = [ 0, 2, 3.14, 'python', 'program', True, myFriends]\n",
        "mixedList"
      ],
      "metadata": {
        "colab": {
          "base_uri": "https://localhost:8080/"
        },
        "id": "lv1AOBqlEqQn",
        "outputId": "cf5769fc-966b-4869-e514-9af70d32ceab"
      },
      "execution_count": 13,
      "outputs": [
        {
          "output_type": "execute_result",
          "data": {
            "text/plain": [
              "[0, 2, 3.14, 'python', 'program', True, ['James', 'Robert', 'Lisa', 'Mary']]"
            ]
          },
          "metadata": {},
          "execution_count": 13
        }
      ]
    },
    {
      "cell_type": "code",
      "source": [
        "#리스트 연결하기\n",
        "list_con1=[1,2,3,4]\n",
        "list_con2=[5,6,7,8]\n",
        "list_con = list_con1 + list_con2\n",
        "list_con"
      ],
      "metadata": {
        "colab": {
          "base_uri": "https://localhost:8080/"
        },
        "id": "HykCVnx3EmSA",
        "outputId": "87495a5f-2e8d-47d1-9088-0afa50286fcc"
      },
      "execution_count": 17,
      "outputs": [
        {
          "output_type": "execute_result",
          "data": {
            "text/plain": [
              "[1, 2, 3, 4, 5, 6, 7, 8]"
            ]
          },
          "metadata": {},
          "execution_count": 17
        }
      ]
    },
    {
      "cell_type": "code",
      "source": [
        "list_con1 = [1,2,3,4]\n",
        "list_con = list_con1 * 3\n",
        "list_con"
      ],
      "metadata": {
        "colab": {
          "base_uri": "https://localhost:8080/"
        },
        "id": "GC2u-zN1GDpL",
        "outputId": "2cf429a4-e299-4a15-9bb7-38a8dc637135"
      },
      "execution_count": 20,
      "outputs": [
        {
          "output_type": "execute_result",
          "data": {
            "text/plain": [
              "[1, 2, 3, 4, 1, 2, 3, 4, 1, 2, 3, 4]"
            ]
          },
          "metadata": {},
          "execution_count": 20
        }
      ]
    },
    {
      "cell_type": "code",
      "source": [
        "#리스트에서 항목삭제\n",
        "print(list_con)\n",
        "del list_con[4]\n",
        "print(list_con)"
      ],
      "metadata": {
        "colab": {
          "base_uri": "https://localhost:8080/"
        },
        "id": "XA0aMwH0ID4G",
        "outputId": "07df689b-576f-481e-f2c7-9545ef9ba0db"
      },
      "execution_count": 21,
      "outputs": [
        {
          "output_type": "stream",
          "name": "stdout",
          "text": [
            "[1, 2, 3, 4, 1, 2, 3, 4, 1, 2, 3, 4]\n",
            "[1, 2, 3, 4, 2, 3, 4, 1, 2, 3, 4]\n"
          ]
        }
      ]
    },
    {
      "cell_type": "code",
      "source": [
        "#리스트에서 항목의 존재 여부확인하기\n",
        "print(list_con)\n",
        "print (4 in list_con)\n",
        "print (5 in list_con)"
      ],
      "metadata": {
        "colab": {
          "base_uri": "https://localhost:8080/"
        },
        "id": "JAEXoEVmNEUo",
        "outputId": "f0d856b0-70f1-4992-884a-d7fcbcd12a58"
      },
      "execution_count": 24,
      "outputs": [
        {
          "output_type": "stream",
          "name": "stdout",
          "text": [
            "[1, 2, 3, 4, 2, 3, 4, 1, 2, 3, 4]\n",
            "True\n",
            "False\n"
          ]
        }
      ]
    },
    {
      "cell_type": "code",
      "source": [
        "#리스트중 일부항목 가져오기\n",
        "list_data = [0, 1, 2, 3, 4, 5, 6, 7, 8, 9]\n",
        "print(list_data)\n",
        "print(list_data[0:3])\n",
        "print(list_data[4:8])\n",
        "print(list_data[:3])\n",
        "print(list_data[7:])\n",
        "print(list_data[::2])\n",
        "\n"
      ],
      "metadata": {
        "colab": {
          "base_uri": "https://localhost:8080/"
        },
        "id": "lfUec-YHNTeS",
        "outputId": "0196d761-4aa2-43b4-e852-91b05d77856b"
      },
      "execution_count": 26,
      "outputs": [
        {
          "output_type": "stream",
          "name": "stdout",
          "text": [
            "[0, 1, 2, 3, 4, 5, 6, 7, 8, 9]\n",
            "[0, 1, 2]\n",
            "[4, 5, 6, 7]\n",
            "[0, 1, 2]\n",
            "[7, 8, 9]\n",
            "[0, 2, 4, 6, 8]\n"
          ]
        }
      ]
    },
    {
      "cell_type": "code",
      "source": [],
      "metadata": {
        "id": "vNsfGAN3N5B6"
      },
      "execution_count": null,
      "outputs": []
    }
  ]
}