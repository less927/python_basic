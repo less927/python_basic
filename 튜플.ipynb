{
  "nbformat": 4,
  "nbformat_minor": 0,
  "metadata": {
    "colab": {
      "provenance": [],
      "authorship_tag": "ABX9TyMG/GkfVbjc20bHq5CqZWt0",
      "include_colab_link": true
    },
    "kernelspec": {
      "name": "python3",
      "display_name": "Python 3"
    },
    "language_info": {
      "name": "python"
    }
  },
  "cells": [
    {
      "cell_type": "markdown",
      "metadata": {
        "id": "view-in-github",
        "colab_type": "text"
      },
      "source": [
        "<a href=\"https://colab.research.google.com/github/less927/300-/blob/main/%ED%8A%9C%ED%94%8C.ipynb\" target=\"_parent\"><img src=\"https://colab.research.google.com/assets/colab-badge.svg\" alt=\"Open In Colab\"/></a>"
      ]
    },
    {
      "cell_type": "code",
      "execution_count": null,
      "metadata": {
        "id": "g2XWcIyL3jE2"
      },
      "outputs": [],
      "source": [
        "# 튜플은 리스트와 유사하게 데이터 여러개를 하나로묶는데 이용, 한번 입력되면 변경 불가,\n",
        "# () 이용해서 사용"
      ]
    },
    {
      "cell_type": "code",
      "source": [
        "tuple = (1, 2, 3, 4)\n",
        "tuple"
      ],
      "metadata": {
        "colab": {
          "base_uri": "https://localhost:8080/"
        },
        "id": "7TzcfQTr5Kag",
        "outputId": "b09af6db-4736-4640-d73b-c83d891a608e"
      },
      "execution_count": null,
      "outputs": [
        {
          "output_type": "execute_result",
          "data": {
            "text/plain": [
              "(1, 2, 3, 4)"
            ]
          },
          "metadata": {},
          "execution_count": 2
        }
      ]
    },
    {
      "cell_type": "code",
      "source": [
        "tuple2 = 5, 6, 7, 8\n",
        "tuple2"
      ],
      "metadata": {
        "colab": {
          "base_uri": "https://localhost:8080/"
        },
        "id": "hImirfYR5RPJ",
        "outputId": "863a6d18-bfd7-47f5-ce40-f3f0b4251259"
      },
      "execution_count": null,
      "outputs": [
        {
          "output_type": "execute_result",
          "data": {
            "text/plain": [
              "(5, 6, 7, 8)"
            ]
          },
          "metadata": {},
          "execution_count": 12
        }
      ]
    },
    {
      "cell_type": "code",
      "source": [
        "# 튜플 요소는 변경하거나 삭제할수 없다\n",
        "# index 나 count 처럼 요소를 바꾸지 않는 메소드는 사용 가능"
      ],
      "metadata": {
        "id": "iCCLKsKj5bxM"
      },
      "execution_count": 1,
      "outputs": []
    },
    {
      "cell_type": "code",
      "source": [
        "tuple6= ('a', 'b', 'c', 'd', 'e', 'f')\n",
        "tuple6.index('c')"
      ],
      "metadata": {
        "colab": {
          "base_uri": "https://localhost:8080/"
        },
        "id": "VuxqST1w-Wxj",
        "outputId": "d677c88a-a080-49f3-9791-7083158bedc0"
      },
      "execution_count": 15,
      "outputs": [
        {
          "output_type": "execute_result",
          "data": {
            "text/plain": [
              "2"
            ]
          },
          "metadata": {},
          "execution_count": 15
        }
      ]
    },
    {
      "cell_type": "code",
      "source": [
        "len(tuple6)"
      ],
      "metadata": {
        "colab": {
          "base_uri": "https://localhost:8080/"
        },
        "id": "ryT5o842_F3g",
        "outputId": "8480c742-1f12-48ad-ee95-eb2f63f272f2"
      },
      "execution_count": 16,
      "outputs": [
        {
          "output_type": "execute_result",
          "data": {
            "text/plain": [
              "6"
            ]
          },
          "metadata": {},
          "execution_count": 16
        }
      ]
    },
    {
      "cell_type": "code",
      "source": [
        "tuple6.count('b') # 지정 요소의 갯수를 반환"
      ],
      "metadata": {
        "colab": {
          "base_uri": "https://localhost:8080/"
        },
        "id": "9Eb_PXqS_K0j",
        "outputId": "458b3344-761e-4ce4-93aa-bd4f316f46aa"
      },
      "execution_count": 22,
      "outputs": [
        {
          "output_type": "execute_result",
          "data": {
            "text/plain": [
              "1"
            ]
          },
          "metadata": {},
          "execution_count": 22
        }
      ]
    },
    {
      "cell_type": "code",
      "source": [],
      "metadata": {
        "id": "Eq7hAgpnAYyR"
      },
      "execution_count": null,
      "outputs": []
    }
  ]
}