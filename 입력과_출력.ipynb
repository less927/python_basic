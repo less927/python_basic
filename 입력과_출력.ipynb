{
  "nbformat": 4,
  "nbformat_minor": 0,
  "metadata": {
    "colab": {
      "provenance": [],
      "authorship_tag": "ABX9TyPpNEjVgIGug21jIubDFlP3",
      "include_colab_link": true
    },
    "kernelspec": {
      "name": "python3",
      "display_name": "Python 3"
    },
    "language_info": {
      "name": "python"
    }
  },
  "cells": [
    {
      "cell_type": "markdown",
      "metadata": {
        "id": "view-in-github",
        "colab_type": "text"
      },
      "source": [
        "<a href=\"https://colab.research.google.com/github/less927/300-/blob/main/%EC%9E%85%EB%A0%A5%EA%B3%BC_%EC%B6%9C%EB%A0%A5.ipynb\" target=\"_parent\"><img src=\"https://colab.research.google.com/assets/colab-badge.svg\" alt=\"Open In Colab\"/></a>"
      ]
    },
    {
      "cell_type": "code",
      "execution_count": null,
      "metadata": {
        "id": "-rZNDjAidDNp"
      },
      "outputs": [],
      "source": [
        "# 화면출력"
      ]
    },
    {
      "cell_type": "code",
      "source": [
        "print ('hello python')"
      ],
      "metadata": {
        "colab": {
          "base_uri": "https://localhost:8080/"
        },
        "id": "lIqDH_9tdXgG",
        "outputId": "4c340143-2277-4713-c052-e4e7950e8a2d"
      },
      "execution_count": null,
      "outputs": [
        {
          "output_type": "stream",
          "name": "stdout",
          "text": [
            "hello python\n"
          ]
        }
      ]
    },
    {
      "cell_type": "code",
      "source": [
        "print('best', 'python', 'book')"
      ],
      "metadata": {
        "colab": {
          "base_uri": "https://localhost:8080/"
        },
        "id": "uIiX3c9MdasW",
        "outputId": "f30ea83e-4805-4705-c66b-1eed5439c1af"
      },
      "execution_count": null,
      "outputs": [
        {
          "output_type": "stream",
          "name": "stdout",
          "text": [
            "best python book\n"
          ]
        }
      ]
    },
    {
      "cell_type": "code",
      "source": [
        "print ('best', 'python', 'book', sep = '-:*:-') # sep = 함수안에 두문자열 사이의 구분하는값을 설정, 지정하지않을시 빈칸이 들어감"
      ],
      "metadata": {
        "colab": {
          "base_uri": "https://localhost:8080/"
        },
        "id": "PqM6wMendr4u",
        "outputId": "90c1e0a5-af78-4f8c-fcbb-4c86cef029b5"
      },
      "execution_count": null,
      "outputs": [
        {
          "output_type": "stream",
          "name": "stdout",
          "text": [
            "best-:*:-python-:*:-book\n"
          ]
        }
      ]
    },
    {
      "cell_type": "code",
      "source": [
        "print('abcd' + 'efg')"
      ],
      "metadata": {
        "colab": {
          "base_uri": "https://localhost:8080/"
        },
        "id": "Fj_whpB8eDXY",
        "outputId": "0806f8a3-160a-40a5-8bac-bd03fc5144e0"
      },
      "execution_count": null,
      "outputs": [
        {
          "output_type": "stream",
          "name": "stdout",
          "text": [
            "abcdefg\n"
          ]
        }
      ]
    },
    {
      "cell_type": "code",
      "source": [
        "print('Best', 'python', 'book'+':', 'This book')"
      ],
      "metadata": {
        "colab": {
          "base_uri": "https://localhost:8080/"
        },
        "id": "y20uUbeYef_-",
        "outputId": "ca274d76-7928-461b-9bd0-95288c858137"
      },
      "execution_count": null,
      "outputs": [
        {
          "output_type": "stream",
          "name": "stdout",
          "text": [
            "Best python book: This book\n"
          ]
        }
      ]
    },
    {
      "cell_type": "code",
      "source": [
        "x= 10\n",
        "print(x)"
      ],
      "metadata": {
        "colab": {
          "base_uri": "https://localhost:8080/"
        },
        "id": "0WzzgfKIeuhG",
        "outputId": "12da106e-5684-4569-a75c-bd83af4d1c55"
      },
      "execution_count": null,
      "outputs": [
        {
          "output_type": "stream",
          "name": "stdout",
          "text": [
            "10\n"
          ]
        }
      ]
    },
    {
      "cell_type": "code",
      "source": [
        "name = 'James'\n",
        "ID_num = 789\n",
        "print('name:', name + ',', 'ID Number:',ID_num)"
      ],
      "metadata": {
        "colab": {
          "base_uri": "https://localhost:8080/"
        },
        "id": "xtX-5UBUe2kO",
        "outputId": "7f65064e-3f2e-444c-915d-57e8fa21cd19"
      },
      "execution_count": null,
      "outputs": [
        {
          "output_type": "stream",
          "name": "stdout",
          "text": [
            "name: James, ID Number: 789\n"
          ]
        }
      ]
    },
    {
      "cell_type": "code",
      "source": [
        "print('James id my friend.\\nHe is Korean') # \\n 줄바"
      ],
      "metadata": {
        "colab": {
          "base_uri": "https://localhost:8080/"
        },
        "id": "nlGs8QCjfTWR",
        "outputId": "95d4eb63-2a13-4c0e-aa92-ea0df5db85aa"
      },
      "execution_count": null,
      "outputs": [
        {
          "output_type": "stream",
          "name": "stdout",
          "text": [
            "James id my friend.\n",
            "He is Korean\n"
          ]
        }
      ]
    },
    {
      "cell_type": "code",
      "source": [
        "print('James id my friend.\\n\\nHe is Korean')"
      ],
      "metadata": {
        "colab": {
          "base_uri": "https://localhost:8080/"
        },
        "id": "7aaNJmDkfe4Z",
        "outputId": "59992ef7-7b60-4b4a-b47d-b92d9fed0f34"
      },
      "execution_count": null,
      "outputs": [
        {
          "output_type": "stream",
          "name": "stdout",
          "text": [
            "James id my friend.\n",
            "\n",
            "He is Korean\n"
          ]
        }
      ]
    },
    {
      "cell_type": "code",
      "source": [
        "print('welcome to ')\n",
        "print('python')"
      ],
      "metadata": {
        "colab": {
          "base_uri": "https://localhost:8080/"
        },
        "id": "wQPWXP9kfscv",
        "outputId": "8b8e884a-683e-4917-e258-ee000e2b283a"
      },
      "execution_count": null,
      "outputs": [
        {
          "output_type": "stream",
          "name": "stdout",
          "text": [
            "welcome to \n",
            "python\n"
          ]
        }
      ]
    },
    {
      "cell_type": "code",
      "source": [
        "print ('welcome to ', end='')\n",
        "print ('python')"
      ],
      "metadata": {
        "colab": {
          "base_uri": "https://localhost:8080/"
        },
        "id": "Ke4cHg2ef1Tw",
        "outputId": "da8d87dc-49e8-464d-8cb9-973e4349cc92"
      },
      "execution_count": null,
      "outputs": [
        {
          "output_type": "stream",
          "name": "stdout",
          "text": [
            "welcome to python\n"
          ]
        }
      ]
    },
    {
      "cell_type": "code",
      "source": [
        "print('%type' % data )"
      ],
      "metadata": {
        "colab": {
          "base_uri": "https://localhost:8080/",
          "height": 147
        },
        "id": "UcwMjIt1gssZ",
        "outputId": "c5ab9ad7-bd85-4a2f-98c7-8ee7dc998c7a"
      },
      "execution_count": null,
      "outputs": [
        {
          "output_type": "error",
          "ename": "ValueError",
          "evalue": "unsupported format character 't' (0x74) at index 1",
          "traceback": [
            "\u001b[0;31m---------------------------------------------------------------------------\u001b[0m",
            "\u001b[0;31mValueError\u001b[0m                                Traceback (most recent call last)",
            "\u001b[0;32m<ipython-input-24-720a245cb049>\u001b[0m in \u001b[0;36m<cell line: 1>\u001b[0;34m()\u001b[0m\n\u001b[0;32m----> 1\u001b[0;31m \u001b[0mprint\u001b[0m\u001b[0;34m(\u001b[0m\u001b[0;34m'%type'\u001b[0m \u001b[0;34m%\u001b[0m \u001b[0mdata\u001b[0m \u001b[0;34m)\u001b[0m\u001b[0;34m\u001b[0m\u001b[0;34m\u001b[0m\u001b[0m\n\u001b[0m",
            "\u001b[0;31mValueError\u001b[0m: unsupported format character 't' (0x74) at index 1"
          ]
        }
      ]
    },
    {
      "cell_type": "code",
      "source": [
        "name ='광재'\n",
        "print ('%s는 나의 친구입니다.' % name)"
      ],
      "metadata": {
        "colab": {
          "base_uri": "https://localhost:8080/"
        },
        "id": "B6_v0HzW9uby",
        "outputId": "460755bc-4cd8-41fc-f8ee-27cae08bb366"
      },
      "execution_count": null,
      "outputs": [
        {
          "output_type": "stream",
          "name": "stdout",
          "text": [
            "광재는 나의 친구입니다.\n"
          ]
        }
      ]
    },
    {
      "cell_type": "code",
      "source": [
        "r = 3      # %r int\n",
        "PI = 3.14159265358979    # %f float\n",
        "print(\"반지름:%d, 원주율:%f\" %(r, PI)) #지정된 위치에 데이터출력"
      ],
      "metadata": {
        "colab": {
          "base_uri": "https://localhost:8080/"
        },
        "id": "KehN57Pt-MA5",
        "outputId": "fde41d0c-9b5a-456d-8494-3dd9b1ac8689"
      },
      "execution_count": null,
      "outputs": [
        {
          "output_type": "stream",
          "name": "stdout",
          "text": [
            "반지름:3, 원주율:3.141593\n"
          ]
        }
      ]
    },
    {
      "cell_type": "code",
      "source": [
        "animal_0 = 'cat'\n",
        "animal_1 = 'dog'\n",
        "animal_2 = 'fox'\n",
        "\n",
        "print('Animal: {0}'.format(animal_0))\n",
        "print('Animal: {0},{1},{2}'.format(animal_0, animal_1, animal_2))"
      ],
      "metadata": {
        "colab": {
          "base_uri": "https://localhost:8080/"
        },
        "id": "LkyV3vQD-jk6",
        "outputId": "ce546d8a-ae1c-4e27-9427-1f34aaa599fe"
      },
      "execution_count": null,
      "outputs": [
        {
          "output_type": "stream",
          "name": "stdout",
          "text": [
            "Animal: cat\n",
            "Animal: cat,dog,fox\n"
          ]
        }
      ]
    },
    {
      "cell_type": "code",
      "source": [
        "print ('Aniaml: {1}, {2}, {0}'.format(animal_0, animal_1, animal_2))"
      ],
      "metadata": {
        "colab": {
          "base_uri": "https://localhost:8080/"
        },
        "id": "ABR318oI_isy",
        "outputId": "6f311b07-98d4-42f7-9026-c27190d08c09"
      },
      "execution_count": null,
      "outputs": [
        {
          "output_type": "stream",
          "name": "stdout",
          "text": [
            "Aniaml: dog, fox, cat\n"
          ]
        }
      ]
    },
    {
      "cell_type": "code",
      "source": [
        "print(\"Animal: {0},{2}\".format(animal_0, animal_1, animal_2))"
      ],
      "metadata": {
        "colab": {
          "base_uri": "https://localhost:8080/"
        },
        "id": "kf11uUT5_1an",
        "outputId": "68b26a5d-ed8a-4e89-86d5-bce0f2df35df"
      },
      "execution_count": null,
      "outputs": [
        {
          "output_type": "stream",
          "name": "stdout",
          "text": [
            "Animal: cat,fox\n"
          ]
        }
      ]
    },
    {
      "cell_type": "code",
      "source": [
        "print(\"Animal:{},{},{},\".format(animal_0, animal_1, animal_2))"
      ],
      "metadata": {
        "colab": {
          "base_uri": "https://localhost:8080/"
        },
        "id": "DIxhcCMFAOvQ",
        "outputId": "1a4cf465-743d-465d-98ca-f371f5e76495"
      },
      "execution_count": null,
      "outputs": [
        {
          "output_type": "stream",
          "name": "stdout",
          "text": [
            "Animal:cat,dog,fox,\n"
          ]
        }
      ]
    },
    {
      "cell_type": "code",
      "source": [
        "name = 'thomas'\n",
        "age = 10\n",
        "a = 0.123456789\n",
        "fmt_string = 'String: {0}. Integer Number:{1}. Floating Number:{2}'\n",
        "print(fmt_string.format(name,age,a))"
      ],
      "metadata": {
        "colab": {
          "base_uri": "https://localhost:8080/"
        },
        "id": "9BU8EsSYAb0O",
        "outputId": "1a0b6f07-5cee-45b7-92db-f67ab93da615"
      },
      "execution_count": null,
      "outputs": [
        {
          "output_type": "stream",
          "name": "stdout",
          "text": [
            "String: thomas. Integer Number:10. Floating Number:0.123456789\n"
          ]
        }
      ]
    },
    {
      "cell_type": "code",
      "source": [
        "a =0.123456789\n",
        "print('{0:2f}, {0:.5f}'.format(a))"
      ],
      "metadata": {
        "colab": {
          "base_uri": "https://localhost:8080/"
        },
        "id": "p50d1Pb1A3kA",
        "outputId": "cda748ba-8239-40f5-d501-e5d5cefabb0e"
      },
      "execution_count": null,
      "outputs": [
        {
          "output_type": "stream",
          "name": "stdout",
          "text": [
            "0.123457, 0.12346\n"
          ]
        }
      ]
    },
    {
      "cell_type": "code",
      "source": [
        "#키보드 입력\n",
        "data = input (\"문자열\")"
      ],
      "metadata": {
        "id": "Uqyc16AsBjA7",
        "colab": {
          "base_uri": "https://localhost:8080/"
        },
        "outputId": "73d75689-1aad-4b27-8a77-ff25a81b0da6"
      },
      "execution_count": 2,
      "outputs": [
        {
          "name": "stdout",
          "output_type": "stream",
          "text": [
            "문자열\n"
          ]
        }
      ]
    },
    {
      "cell_type": "code",
      "source": [
        "yourName = input('당신의 이름은?')\n",
        "print('당신은{} 이군요.'.format(yourName))"
      ],
      "metadata": {
        "colab": {
          "base_uri": "https://localhost:8080/"
        },
        "id": "ixRGvE4xOO-B",
        "outputId": "a727c847-9784-4732-fd53-535098257f55"
      },
      "execution_count": 3,
      "outputs": [
        {
          "output_type": "stream",
          "name": "stdout",
          "text": [
            "당신의 이름은?aa\n",
            "당신은aa 이군요.\n"
          ]
        }
      ]
    },
    {
      "cell_type": "code",
      "source": [
        "num = input('숫자를 입력하세요:')\n",
        "print('당신이 입력한 숫자는 {}입니다.'.format(num))"
      ],
      "metadata": {
        "colab": {
          "base_uri": "https://localhost:8080/"
        },
        "id": "iQb9fDDAvloh",
        "outputId": "a1539450-9a31-4840-fac5-4a3865b84b37"
      },
      "execution_count": 6,
      "outputs": [
        {
          "output_type": "stream",
          "name": "stdout",
          "text": [
            "숫자를 입력하세요:11\n",
            "당신이 입력한 숫자는 11입니다.\n"
          ]
        }
      ]
    },
    {
      "cell_type": "code",
      "source": [
        "a = input ('정사각형 한변의 길이는?:')\n",
        "area = int(a) **2\n",
        "print('정사각형의 넓이:{}'.format(area))"
      ],
      "metadata": {
        "colab": {
          "base_uri": "https://localhost:8080/"
        },
        "id": "muVJp__CvsDz",
        "outputId": "86ccd563-ef1b-4e7f-f4c6-d20092ccdf88"
      },
      "execution_count": 8,
      "outputs": [
        {
          "output_type": "stream",
          "name": "stdout",
          "text": [
            "정사각형 한변의 길이는?:5\n",
            "정사각형의 넓이:25\n"
          ]
        }
      ]
    },
    {
      "cell_type": "code",
      "source": [
        "b =input('정사각형 한 변의 길이는?:')\n",
        "area = float (b)**2\n",
        "print('정사각형의 넓이:{}'.format(area))"
      ],
      "metadata": {
        "colab": {
          "base_uri": "https://localhost:8080/"
        },
        "id": "1nWFfbdgwetn",
        "outputId": "8365f1c8-74fc-4c54-85da-c96818b6c5f9"
      },
      "execution_count": 11,
      "outputs": [
        {
          "output_type": "stream",
          "name": "stdout",
          "text": [
            "정사각형 한 변의 길이는?:1.5\n",
            "정사각형의 넓이:2.25\n"
          ]
        }
      ]
    },
    {
      "cell_type": "code",
      "source": [
        "# # 파일 읽고 쓰기\n",
        "# # f = open('file_name', 'mode')\n",
        "\n",
        "# # 파일쓰기 코드 구조\n",
        "# f=open('file_name', 'w')\n",
        "# f.write(str)\n",
        "# f.close()\n",
        "# 파일 생성하고  열어서 작성후 닫는 코드"
      ],
      "metadata": {
        "id": "NtlF2rFzw2xt"
      },
      "execution_count": 13,
      "outputs": []
    },
    {
      "cell_type": "code",
      "source": [
        "cd .."
      ],
      "metadata": {
        "colab": {
          "base_uri": "https://localhost:8080/"
        },
        "id": "UYI_wv2ixcju",
        "outputId": "4b272e14-3b7d-44cc-8f78-d6bc1e6cbdbe"
      },
      "execution_count": 14,
      "outputs": [
        {
          "output_type": "stream",
          "name": "stdout",
          "text": [
            "/\n"
          ]
        }
      ]
    },
    {
      "cell_type": "code",
      "source": [
        "cd"
      ],
      "metadata": {
        "colab": {
          "base_uri": "https://localhost:8080/"
        },
        "id": "dOeYdur20kll",
        "outputId": "5ff39c3d-6eb1-4d65-ac8e-53f93f08e1e9"
      },
      "execution_count": 15,
      "outputs": [
        {
          "output_type": "stream",
          "name": "stdout",
          "text": [
            "/root\n"
          ]
        }
      ]
    },
    {
      "cell_type": "code",
      "source": [
        "ls"
      ],
      "metadata": {
        "id": "-K9OGz9P0lEp"
      },
      "execution_count": 16,
      "outputs": []
    },
    {
      "cell_type": "code",
      "source": [
        "f = open('myFile.txt,'w')"
      ],
      "metadata": {
        "colab": {
          "base_uri": "https://localhost:8080/",
          "height": 110
        },
        "id": "uvtLOvgJ0l60",
        "outputId": "14db450b-e2f6-4b0a-9148-47c7259ce330"
      },
      "execution_count": 18,
      "outputs": [
        {
          "output_type": "error",
          "ename": "SyntaxError",
          "evalue": "unterminated string literal (detected at line 1) (<ipython-input-18-53bb522c1cb7>, line 1)",
          "traceback": [
            "\u001b[0;36m  File \u001b[0;32m\"<ipython-input-18-53bb522c1cb7>\"\u001b[0;36m, line \u001b[0;32m1\u001b[0m\n\u001b[0;31m    f = open('myFile.txt,'w')\u001b[0m\n\u001b[0m                           ^\u001b[0m\n\u001b[0;31mSyntaxError\u001b[0m\u001b[0;31m:\u001b[0m unterminated string literal (detected at line 1)\n"
          ]
        }
      ]
    },
    {
      "cell_type": "code",
      "source": [
        "f = open('myFile.txt,'w')\n",
        "f.write('This is my first file')\n",
        "f.close()"
      ],
      "metadata": {
        "colab": {
          "base_uri": "https://localhost:8080/",
          "height": 110
        },
        "id": "2aLbr3du0v_n",
        "outputId": "7eeb318c-fad1-42aa-8c79-89e692c10ac1"
      },
      "execution_count": 19,
      "outputs": [
        {
          "output_type": "error",
          "ename": "SyntaxError",
          "evalue": "unterminated string literal (detected at line 1) (<ipython-input-19-08878287514d>, line 1)",
          "traceback": [
            "\u001b[0;36m  File \u001b[0;32m\"<ipython-input-19-08878287514d>\"\u001b[0;36m, line \u001b[0;32m1\u001b[0m\n\u001b[0;31m    f = open('myFile.txt,'w')\u001b[0m\n\u001b[0m                           ^\u001b[0m\n\u001b[0;31mSyntaxError\u001b[0m\u001b[0;31m:\u001b[0m unterminated string literal (detected at line 1)\n"
          ]
        }
      ]
    },
    {
      "cell_type": "code",
      "source": [],
      "metadata": {
        "id": "LmfnbD1c3AI2"
      },
      "execution_count": null,
      "outputs": []
    }
  ]
}