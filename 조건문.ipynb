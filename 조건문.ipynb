{
  "nbformat": 4,
  "nbformat_minor": 0,
  "metadata": {
    "colab": {
      "provenance": [],
      "authorship_tag": "ABX9TyMRka6roREsbXJj3z9F+2LR",
      "include_colab_link": true
    },
    "kernelspec": {
      "name": "python3",
      "display_name": "Python 3"
    },
    "language_info": {
      "name": "python"
    }
  },
  "cells": [
    {
      "cell_type": "markdown",
      "metadata": {
        "id": "view-in-github",
        "colab_type": "text"
      },
      "source": [
        "<a href=\"https://colab.research.google.com/github/less927/300-/blob/main/%EC%A1%B0%EA%B1%B4%EB%AC%B8.ipynb\" target=\"_parent\"><img src=\"https://colab.research.google.com/assets/colab-badge.svg\" alt=\"Open In Colab\"/></a>"
      ]
    },
    {
      "cell_type": "code",
      "execution_count": null,
      "metadata": {
        "id": "DGrcKw0VXTXf"
      },
      "outputs": [],
      "source": [
        "# if 문\n",
        "# 단일 조건에 따른 분기"
      ]
    },
    {
      "cell_type": "code",
      "source": [
        "#기본 문법 구성\n",
        "# if <조건문>:\n",
        "#   <코드블록>"
      ],
      "metadata": {
        "id": "2xmERhttYw0-"
      },
      "execution_count": null,
      "outputs": []
    },
    {
      "cell_type": "code",
      "source": [
        "x =100\n",
        "if x >= 90:\n",
        "  print('congrats')\n",
        "  print('granted')\n"
      ],
      "metadata": {
        "colab": {
          "base_uri": "https://localhost:8080/"
        },
        "id": "6NWJUdhRZSxC",
        "outputId": "a511dc03-9b64-4026-a9c8-ffc0aac15baf"
      },
      "execution_count": null,
      "outputs": [
        {
          "output_type": "stream",
          "name": "stdout",
          "text": [
            "congrats\n",
            "granted\n"
          ]
        }
      ]
    },
    {
      "cell_type": "code",
      "source": [
        "x = 95\n",
        "if x >= 90:\n",
        "  print('pass')"
      ],
      "metadata": {
        "colab": {
          "base_uri": "https://localhost:8080/"
        },
        "id": "f5Yt45rqZkr3",
        "outputId": "3089276a-fe89-4f87-f52a-360b26815330"
      },
      "execution_count": null,
      "outputs": [
        {
          "output_type": "stream",
          "name": "stdout",
          "text": [
            "pass\n"
          ]
        }
      ]
    },
    {
      "cell_type": "code",
      "source": [
        "# #단일조건 및 그외 조건에 따른 분기 (if~else)\n",
        "# if <조건문>:\n",
        "#   <코드블록1>\n",
        "\n",
        "# else :\n",
        "#   <코드블록2>"
      ],
      "metadata": {
        "id": "MYONqDSbZ9RD"
      },
      "execution_count": null,
      "outputs": []
    },
    {
      "cell_type": "code",
      "source": [
        "if x >= 90:\n",
        "  print('congrats')\n",
        "else:\n",
        "  print('sorry')"
      ],
      "metadata": {
        "colab": {
          "base_uri": "https://localhost:8080/"
        },
        "id": "eSWR_PcZaP04",
        "outputId": "9de92ee5-01d9-440d-e63e-b32436a5cf71"
      },
      "execution_count": null,
      "outputs": [
        {
          "output_type": "stream",
          "name": "stdout",
          "text": [
            "congrats\n"
          ]
        }
      ]
    },
    {
      "cell_type": "code",
      "source": [
        "# # 여러 조건에 따른 분기 (if, elif, else)\n",
        "# if <조건문1>:\n",
        "#   <코드 블록1>\n",
        "# elif <조건문2>:\n",
        "#   <코드블록2>\n",
        "#   `\n",
        "#   `\n",
        "#   `\n",
        "\n",
        "# elif <조건문n>:\n",
        "#   <조건문n>\n",
        "\n",
        "# else:\n",
        "#   <코드블록m>"
      ],
      "metadata": {
        "id": "jU9HrghfaadB"
      },
      "execution_count": null,
      "outputs": []
    },
    {
      "cell_type": "code",
      "source": [
        "x = 85\n",
        "\n",
        "if x >= 90:\n",
        "  print('very good')\n",
        "elif (x >= 80) and (x < 90):\n",
        "  print('good')\n",
        "else:\n",
        "  print('bad')"
      ],
      "metadata": {
        "colab": {
          "base_uri": "https://localhost:8080/"
        },
        "id": "WbP0eRXMbWF_",
        "outputId": "86e0fdb1-3286-46b8-c8b3-3544aa6cc2bf"
      },
      "execution_count": null,
      "outputs": [
        {
          "output_type": "stream",
          "name": "stdout",
          "text": [
            "good\n"
          ]
        }
      ]
    },
    {
      "cell_type": "code",
      "source": [
        "x = 85\n",
        "\n",
        "if x >= 90:\n",
        "  print('very good')\n",
        "elif 80 <= x < 90:\n",
        "  print('good')\n",
        "else:\n",
        "  print('bad')"
      ],
      "metadata": {
        "colab": {
          "base_uri": "https://localhost:8080/"
        },
        "id": "ZDJVaoZdbxdD",
        "outputId": "4d6f6fb5-63ed-4531-97b5-0fa428044ed8"
      },
      "execution_count": null,
      "outputs": [
        {
          "output_type": "stream",
          "name": "stdout",
          "text": [
            "good\n"
          ]
        }
      ]
    },
    {
      "cell_type": "code",
      "source": [
        "# #중첩조건에 따른 분기\n",
        "# if <조건문 1>:\n",
        "#   if<조건문 1-1>:\n",
        "#     <코드 블록 1-1>  1-1 을 검사한후 만족하면 1-1 수행, 그렇지않으면 1-2 를 수행\n",
        "\n",
        "#   else:\n",
        "#     <코드 블록 1-2>\n",
        "# elif <조건문 2>:\n",
        "#   <코드 블록 2>\n",
        "\n",
        "# else:\n",
        "#   <코드 블록 3>"
      ],
      "metadata": {
        "id": "H9C6sa2rcYpv"
      },
      "execution_count": null,
      "outputs": []
    },
    {
      "cell_type": "code",
      "source": [
        "x = 100\n",
        "if  x >= 90 :\n",
        "  if x == 100:\n",
        "    print('perfect')\n",
        "\n",
        "  else:\n",
        "    print(excellent)\n",
        "\n",
        "elif 80 <= x <90:\n",
        "  print('good')\n",
        "\n",
        "else:\n",
        "  ('bad')"
      ],
      "metadata": {
        "colab": {
          "base_uri": "https://localhost:8080/"
        },
        "id": "Fh4f5v7Eepet",
        "outputId": "4d841cd8-c278-422e-bd32-788d7a48dfe3"
      },
      "execution_count": null,
      "outputs": [
        {
          "output_type": "stream",
          "name": "stdout",
          "text": [
            "perfect\n"
          ]
        }
      ]
    },
    {
      "cell_type": "code",
      "source": [
        "#for 반복문 for 와w while 로 구현가능한 반복문\n",
        "\n",
        "a=0                 #변수 a 를 0으로 지정\n",
        "print (a)           #변수 a 를 출력\n",
        "\n",
        "a = a +1            # 변수 a에 1을 더한후 다시 a에 대입\n",
        "print (a)           # 변수 a 출력\n",
        "\n",
        "a = a +1\n",
        "print (a)\n",
        "\n",
        "a = a +1\n",
        "print (a)\n",
        "\n",
        "a = a +1\n",
        "print (a)\n",
        "\n",
        "a = a +1\n",
        "print (a)"
      ],
      "metadata": {
        "colab": {
          "base_uri": "https://localhost:8080/"
        },
        "id": "iCI5ni2Xfi_2",
        "outputId": "b1ce093b-8493-48fd-9daa-2ce9dc3a6691"
      },
      "execution_count": null,
      "outputs": [
        {
          "output_type": "stream",
          "name": "stdout",
          "text": [
            "0\n",
            "1\n",
            "2\n",
            "3\n",
            "4\n",
            "5\n"
          ]
        }
      ]
    },
    {
      "cell_type": "code",
      "source": [
        "# for <반복 변수> in <반복 범위>:\n",
        "#   # <코드 블록>"
      ],
      "metadata": {
        "id": "1Imw1WY2isus"
      },
      "execution_count": null,
      "outputs": []
    },
    {
      "cell_type": "code",
      "source": [
        "for a in [0, 1, 2, 3, 4, 5]:\n",
        "  print(a)\n",
        "  print(a +10)"
      ],
      "metadata": {
        "colab": {
          "base_uri": "https://localhost:8080/"
        },
        "id": "BTQij9o7jK7L",
        "outputId": "602e39d3-225e-4fb3-8386-0458534ba888"
      },
      "execution_count": null,
      "outputs": [
        {
          "output_type": "stream",
          "name": "stdout",
          "text": [
            "0\n",
            "10\n",
            "1\n",
            "11\n",
            "2\n",
            "12\n",
            "3\n",
            "13\n",
            "4\n",
            "14\n",
            "5\n",
            "15\n"
          ]
        }
      ]
    },
    {
      "cell_type": "code",
      "source": [
        "for a in [0, 1, 2, 3, 4, 5]:\n",
        "  print(a)"
      ],
      "metadata": {
        "id": "7x8pWlPzju11",
        "colab": {
          "base_uri": "https://localhost:8080/"
        },
        "outputId": "dde6b7c4-81e3-44ae-d309-f543b807f7eb"
      },
      "execution_count": null,
      "outputs": [
        {
          "output_type": "stream",
          "name": "stdout",
          "text": [
            "0\n",
            "1\n",
            "2\n",
            "3\n",
            "4\n",
            "5\n"
          ]
        }
      ]
    },
    {
      "cell_type": "code",
      "source": [
        "myFriends = ['James', 'Robert', 'Lisa', 'Mary']\n",
        "for myFriends in myFriends:\n",
        "  print(myFriends)"
      ],
      "metadata": {
        "colab": {
          "base_uri": "https://localhost:8080/"
        },
        "id": "BTeOBswSYMA7",
        "outputId": "5a5257e3-88cf-48f2-f3fd-c8f0289d3893"
      },
      "execution_count": null,
      "outputs": [
        {
          "output_type": "stream",
          "name": "stdout",
          "text": [
            "James\n",
            "Robert\n",
            "Lisa\n",
            "Mary\n"
          ]
        }
      ]
    },
    {
      "cell_type": "code",
      "source": [
        "# range() 의 함수이용\n",
        "# range(start , stop, step)\n",
        "# start 시작 시점, stop 범위 끝지점 step 증감 크기\n",
        "#start stop 0, 양 , 음의 정수, 0 모두사용 가능 step 양,음 정수 사용"
      ],
      "metadata": {
        "id": "eSLFZABNas-Y"
      },
      "execution_count": null,
      "outputs": []
    },
    {
      "cell_type": "code",
      "source": [
        "print( range (0, 10, 1))\n",
        "print( range (0, 10, 2))\n",
        "print( range (0, 10, 3)) # 범위나 스텝을 출력 하지않음"
      ],
      "metadata": {
        "colab": {
          "base_uri": "https://localhost:8080/"
        },
        "id": "sF6KJQDWgKR_",
        "outputId": "2b285c85-3da3-44e2-80e8-732afb4bec5f"
      },
      "execution_count": null,
      "outputs": [
        {
          "output_type": "stream",
          "name": "stdout",
          "text": [
            "range(0, 10)\n",
            "range(0, 10, 2)\n",
            "range(0, 10, 3)\n"
          ]
        }
      ]
    },
    {
      "cell_type": "code",
      "source": [
        "print(list(range(0, 10, 1)))\n",
        "print(list(range(0, 10, 2)))\n",
        "print(list(range(0, 10, 3))) # start 부터 stop 까지만 출력, step 출력하지않음"
      ],
      "metadata": {
        "colab": {
          "base_uri": "https://localhost:8080/"
        },
        "id": "FiRXFhUkgPca",
        "outputId": "9ef1f204-29f6-4ddd-9a44-223db9a0a3fe"
      },
      "execution_count": null,
      "outputs": [
        {
          "output_type": "stream",
          "name": "stdout",
          "text": [
            "[0, 1, 2, 3, 4, 5, 6, 7, 8, 9]\n",
            "[0, 2, 4, 6, 8]\n",
            "[0, 3, 6, 9]\n"
          ]
        }
      ]
    },
    {
      "cell_type": "code",
      "source": [
        "for a in range (0, 6, 1):\n",
        "  print(a)"
      ],
      "metadata": {
        "colab": {
          "base_uri": "https://localhost:8080/"
        },
        "id": "c3eimBVegc2Z",
        "outputId": "a170f113-df78-4e12-cfa1-72f1296f6f37"
      },
      "execution_count": null,
      "outputs": [
        {
          "output_type": "stream",
          "name": "stdout",
          "text": [
            "0\n",
            "1\n",
            "2\n",
            "3\n",
            "4\n",
            "5\n"
          ]
        }
      ]
    },
    {
      "cell_type": "code",
      "source": [
        "for a in range (0, 6, 2):\n",
        " print(a)"
      ],
      "metadata": {
        "colab": {
          "base_uri": "https://localhost:8080/"
        },
        "id": "erHnIzxyh8-T",
        "outputId": "b3ecc39f-bf52-4e34-a148-b386a29a22a0"
      },
      "execution_count": null,
      "outputs": [
        {
          "output_type": "stream",
          "name": "stdout",
          "text": [
            "0\n",
            "2\n",
            "4\n"
          ]
        }
      ]
    },
    {
      "cell_type": "code",
      "source": [
        "print(list(range(0, 10, 1)))\n",
        "print(list(range(0, 10,)))\n",
        "print(list(range(10))) # stop"
      ],
      "metadata": {
        "colab": {
          "base_uri": "https://localhost:8080/"
        },
        "id": "ufTdekjXk4UN",
        "outputId": "c4d4b2de-0b98-4bda-9c8f-f24911314cb9"
      },
      "execution_count": null,
      "outputs": [
        {
          "output_type": "stream",
          "name": "stdout",
          "text": [
            "[0, 1, 2, 3, 4, 5, 6, 7, 8, 9]\n",
            "[0, 1, 2, 3, 4, 5, 6, 7, 8, 9]\n",
            "[0, 1, 2, 3, 4, 5, 6, 7, 8, 9]\n"
          ]
        }
      ]
    },
    {
      "cell_type": "code",
      "source": [
        "print(list(range(0, 20, 5)))\n",
        "print(list(range(-10, 0, 2)))\n",
        "print(list(range(3, -10, -3)))\n",
        "print(list(range(0, -5, 1))) # 0부터 +1 씩 '증가'하여 -5 가 될수 없어서 빈칸 출력"
      ],
      "metadata": {
        "colab": {
          "base_uri": "https://localhost:8080/"
        },
        "id": "BPe6w99_pCKZ",
        "outputId": "9a6fb64b-5699-45cc-efa1-60aced4a9331"
      },
      "execution_count": null,
      "outputs": [
        {
          "output_type": "stream",
          "name": "stdout",
          "text": [
            "[0, 5, 10, 15]\n",
            "[-10, -8, -6, -4, -2]\n",
            "[3, 0, -3, -6, -9]\n",
            "[]\n"
          ]
        }
      ]
    },
    {
      "cell_type": "code",
      "source": [
        "# # 중첩 for 문\n",
        "# for <반복변수1> in  <반복범위1>:\n",
        "#   for<반복변수2> in <반복범위 2>:\n",
        "#     <코드블록>"
      ],
      "metadata": {
        "id": "DsCfJl-5phHm"
      },
      "execution_count": null,
      "outputs": []
    },
    {
      "cell_type": "code",
      "source": [
        "x_list = ['x1', 'x2']\n",
        "y_list = ['y1', 'y2']\n",
        "\n",
        "\n",
        "print('x y')\n",
        "for x in x_list:\n",
        "  for y in y_list:\n",
        "    print(x,y)"
      ],
      "metadata": {
        "colab": {
          "base_uri": "https://localhost:8080/"
        },
        "id": "MIwlg8m2qVYJ",
        "outputId": "87da372d-2d36-40ac-f14b-c3b18d168264"
      },
      "execution_count": null,
      "outputs": [
        {
          "output_type": "stream",
          "name": "stdout",
          "text": [
            "x y\n",
            "x1 y1\n",
            "x1 y2\n",
            "x2 y1\n",
            "x2 y2\n"
          ]
        }
      ]
    },
    {
      "cell_type": "code",
      "source": [
        "names = ['James', 'Robert', 'Lisa', 'Mary']\n",
        "scores = [95, 96, 97, 94]\n",
        "for k in range(len(names)):\n",
        "  print(names[k], scores[k])\n"
      ],
      "metadata": {
        "colab": {
          "base_uri": "https://localhost:8080/"
        },
        "id": "VaK65zaNvvcb",
        "outputId": "da436392-8c60-4beb-eed6-5d0d6f86a6a4"
      },
      "execution_count": null,
      "outputs": [
        {
          "output_type": "stream",
          "name": "stdout",
          "text": [
            "James 95\n",
            "Robert 96\n",
            "Lisa 97\n",
            "Mary 94\n"
          ]
        }
      ]
    },
    {
      "cell_type": "code",
      "source": [
        "# # 같은 길이의 데이터를 하나로 묶어주는 zip() 함수\n",
        "# for var1, var2, in zip(list1, list2):\n",
        "#   <코드블록>"
      ],
      "metadata": {
        "id": "LYvIIfaDzAx7"
      },
      "execution_count": null,
      "outputs": []
    },
    {
      "cell_type": "code",
      "source": [
        "for name, score in zip(names, scores):\n",
        "  print(name,score)"
      ],
      "metadata": {
        "colab": {
          "base_uri": "https://localhost:8080/"
        },
        "id": "W0caOG9BKQx0",
        "outputId": "dbccf5f7-0b5b-47e2-e88e-e937a9058e45"
      },
      "execution_count": null,
      "outputs": [
        {
          "output_type": "stream",
          "name": "stdout",
          "text": [
            "James 95\n",
            "Robert 96\n",
            "Lisa 97\n",
            "Mary 94\n"
          ]
        }
      ]
    },
    {
      "cell_type": "code",
      "source": [
        "#조건에 따라 반복하는 while 문"
      ],
      "metadata": {
        "id": "BBMGm-O7KY6e"
      },
      "execution_count": null,
      "outputs": []
    },
    {
      "cell_type": "code",
      "source": [
        "i= 0\n",
        "sum = 0 # 변수  초기화\n",
        "\n",
        "print ('i sum')\n",
        "while (sum < 20):   # 조건 검사\n",
        "  i = i + 1          # i 를 1 씩 증가\n",
        "  sum = sum + i     # 이전의 sum 과 현재 i 를 더해서 sum 갱신\n",
        "  print (i, sum)    # i와 sum을 출력"
      ],
      "metadata": {
        "colab": {
          "base_uri": "https://localhost:8080/"
        },
        "id": "VKHj_BwuNdNp",
        "outputId": "ec60d4bf-af62-4121-d2e4-cfb95e150912"
      },
      "execution_count": null,
      "outputs": [
        {
          "output_type": "stream",
          "name": "stdout",
          "text": [
            "i sum\n",
            "1 1\n",
            "2 3\n",
            "3 6\n",
            "4 10\n",
            "5 15\n",
            "6 21\n"
          ]
        }
      ]
    },
    {
      "cell_type": "code",
      "source": [
        "q = 0\n",
        "while (q < 30) :\n",
        "  q = q + 1\n",
        "  print(q)"
      ],
      "metadata": {
        "colab": {
          "base_uri": "https://localhost:8080/"
        },
        "id": "oIKqcSihXfM4",
        "outputId": "930c65cc-96f4-4545-b22f-f0fef706b505"
      },
      "execution_count": null,
      "outputs": [
        {
          "output_type": "stream",
          "name": "stdout",
          "text": [
            "1\n",
            "2\n",
            "3\n",
            "4\n",
            "5\n",
            "6\n",
            "7\n",
            "8\n",
            "9\n",
            "10\n",
            "11\n",
            "12\n",
            "13\n",
            "14\n",
            "15\n",
            "16\n",
            "17\n",
            "18\n",
            "19\n",
            "20\n",
            "21\n",
            "22\n",
            "23\n",
            "24\n",
            "25\n",
            "26\n",
            "27\n",
            "28\n",
            "29\n",
            "30\n"
          ]
        }
      ]
    },
    {
      "cell_type": "code",
      "source": [
        "# while 조건문\n",
        "k = 0\n",
        "while True:\n",
        "  k = k + 1\n",
        "\n",
        "  if (k > 3):\n",
        "    break\n",
        "\n",
        "  print(k)"
      ],
      "metadata": {
        "colab": {
          "base_uri": "https://localhost:8080/"
        },
        "id": "h7DGXRT5bZvF",
        "outputId": "3bc1f12a-8dd8-42c6-d4be-4a8d913475af"
      },
      "execution_count": null,
      "outputs": [
        {
          "output_type": "stream",
          "name": "stdout",
          "text": [
            "1\n",
            "2\n",
            "3\n"
          ]
        }
      ]
    },
    {
      "cell_type": "code",
      "source": [
        "# for 조건문\n",
        "for k in range (10):\n",
        "  if (k > 2) :\n",
        "    break\n",
        "  print(k)\n"
      ],
      "metadata": {
        "colab": {
          "base_uri": "https://localhost:8080/"
        },
        "id": "gIS6UU0Bbz3H",
        "outputId": "88806e7d-464d-4964-f097-8bf88d94e09b"
      },
      "execution_count": null,
      "outputs": [
        {
          "output_type": "stream",
          "name": "stdout",
          "text": [
            "0\n",
            "1\n",
            "2\n"
          ]
        }
      ]
    },
    {
      "cell_type": "code",
      "source": [
        "# for continue 조건문\n",
        "for k in range (5):\n",
        "  if (k == 2):\n",
        "    continue  # 조건을 만족해 2 출력하지않음\n",
        "  print(k)"
      ],
      "metadata": {
        "colab": {
          "base_uri": "https://localhost:8080/"
        },
        "id": "F7Z9mL5GcaYv",
        "outputId": "446de320-0c99-4cfa-c8d3-90a04d77e0d5"
      },
      "execution_count": null,
      "outputs": [
        {
          "output_type": "stream",
          "name": "stdout",
          "text": [
            "0\n",
            "1\n",
            "3\n",
            "4\n"
          ]
        }
      ]
    },
    {
      "cell_type": "code",
      "source": [
        "k = 0\n",
        "while True :\n",
        "    k = k + 1\n",
        "\n",
        "    if(k ==2 ):\n",
        "      print('continue next') # contitnue 는 반복문 건너뜀\n",
        "      continue\n",
        "    if(k > 4):\n",
        "      break\n",
        "\n",
        "    print(k)"
      ],
      "metadata": {
        "colab": {
          "base_uri": "https://localhost:8080/"
        },
        "id": "jTH7aL5AdLHG",
        "outputId": "5d7def4e-1011-49d8-a945-8a60f17e08dc"
      },
      "execution_count": null,
      "outputs": [
        {
          "output_type": "stream",
          "name": "stdout",
          "text": [
            "1\n",
            "continue next\n",
            "3\n",
            "4\n"
          ]
        }
      ]
    },
    {
      "cell_type": "code",
      "source": [
        "# 리스트 컴프레헨션 기본 구조\n",
        "# [<반복실행문> for <반복변수> in <반복범위>]"
      ],
      "metadata": {
        "id": "JlAyBAawgW5d"
      },
      "execution_count": 1,
      "outputs": []
    },
    {
      "cell_type": "code",
      "source": [
        "numbers = [1, 2, 3, 4, 5]\n",
        "square = []\n",
        "\n",
        "for i in numbers:\n",
        "  square.append(i**2)\n",
        "\n",
        "  print(square)"
      ],
      "metadata": {
        "colab": {
          "base_uri": "https://localhost:8080/"
        },
        "id": "J_FBQgzhY-Zm",
        "outputId": "5938fdd1-3b0a-468d-e4f1-64edf0f33803"
      },
      "execution_count": 4,
      "outputs": [
        {
          "output_type": "stream",
          "name": "stdout",
          "text": [
            "[1]\n",
            "[1, 4]\n",
            "[1, 4, 9]\n",
            "[1, 4, 9, 16]\n",
            "[1, 4, 9, 16, 25]\n"
          ]
        }
      ]
    },
    {
      "cell_type": "code",
      "source": [
        "numbers = [1, 2, 3, 4, 5]\n",
        "square = [i **2 for i in numbers]\n",
        "print(square)"
      ],
      "metadata": {
        "colab": {
          "base_uri": "https://localhost:8080/"
        },
        "id": "MZTk2hWzZN4w",
        "outputId": "37ae0d29-d03b-4fb4-b8b1-dbe37494de97"
      },
      "execution_count": 3,
      "outputs": [
        {
          "output_type": "stream",
          "name": "stdout",
          "text": [
            "[1, 4, 9, 16, 25]\n"
          ]
        }
      ]
    },
    {
      "cell_type": "code",
      "source": [
        "# 조건문을 포함한 리스트 컴프레헨션\n",
        "# [<반복 실행문> for <반복변수> in <반복범위> if <조건문>]"
      ],
      "metadata": {
        "id": "Bqdvr1sSZoOq"
      },
      "execution_count": 5,
      "outputs": []
    },
    {
      "cell_type": "code",
      "source": [
        "numbers = [1, 2, 3, 4, 5]\n",
        "square = []\n",
        "\n",
        "for i in numbers:\n",
        "  if i >= 3:\n",
        "    square.append(i**2)\n",
        "\n",
        "print(square)"
      ],
      "metadata": {
        "colab": {
          "base_uri": "https://localhost:8080/"
        },
        "id": "bR-xTR29aM0w",
        "outputId": "e72cb09a-c4c0-4ed8-ae8e-77e597e98f8c"
      },
      "execution_count": 6,
      "outputs": [
        {
          "output_type": "stream",
          "name": "stdout",
          "text": [
            "[9, 16, 25]\n"
          ]
        }
      ]
    },
    {
      "cell_type": "code",
      "source": [
        "numbers = [1, 2, 3, 4, 5]\n",
        "square = [i**2 for i in numbers if i >= 3]\n",
        "\n",
        "print(square)"
      ],
      "metadata": {
        "colab": {
          "base_uri": "https://localhost:8080/"
        },
        "id": "lSLr8MoDabqh",
        "outputId": "ed8e9f25-5140-4175-b532-09429bdc512b"
      },
      "execution_count": 8,
      "outputs": [
        {
          "output_type": "stream",
          "name": "stdout",
          "text": [
            "[9, 16, 25]\n"
          ]
        }
      ]
    },
    {
      "cell_type": "code",
      "source": [],
      "metadata": {
        "id": "hTY3vEhmcFH4"
      },
      "execution_count": null,
      "outputs": []
    }
  ]
}