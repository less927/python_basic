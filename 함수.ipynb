{
 "cells": [
  {
   "cell_type": "code",
   "execution_count": null,
   "metadata": {},
   "outputs": [],
   "source": [
    "q = open('myFile.txt, 'w')\n",
    "q.write('This is my first file')\n",
    "q.close()"
   ]
  },
  {
   "cell_type": "code",
   "execution_count": null,
   "metadata": {},
   "outputs": [],
   "source": [
    "f = open('file_name.txt', 'w')\n",
    "\n",
    "\n",
    "\n",
    "f.write(text_to_write)\n",
    "\n",
    "\n",
    "f.close()"
   ]
  },
  {
   "cell_type": "code",
   "execution_count": null,
   "metadata": {},
   "outputs": [],
   "source": [
    "a = open('file_name.txt', 'w')\n",
    "\n",
    "\n",
    "\n",
    "a.write('text_to_write')\n",
    "\n",
    "\n",
    "a.close()"
   ]
  },
  {
   "cell_type": "code",
   "execution_count": null,
   "metadata": {},
   "outputs": [],
   "source": [
    "b = open('file_name1.txt', 'w')\n",
    "\n",
    "\n",
    "\n",
    "b.write('text_to_write')\n",
    "\n",
    "\n",
    "b.close()"
   ]
  },
  {
   "cell_type": "code",
   "execution_count": null,
   "metadata": {},
   "outputs": [],
   "source": [
    "n = open('file.txt', 'w')\n",
    "n.write('nn')\n",
    "n.close()"
   ]
  },
  {
   "cell_type": "code",
   "execution_count": null,
   "metadata": {},
   "outputs": [],
   "source": [
    "n = open('file.txt', 'r')\n",
    "file = n.read()\n",
    "n.close()\n",
    "print(file)"
   ]
  },
  {
   "cell_type": "code",
   "execution_count": null,
   "metadata": {},
   "outputs": [],
   "source": [
    "#반복문 이용해 파일읽고 쓰기"
   ]
  },
  {
   "cell_type": "code",
   "execution_count": 35,
   "metadata": {},
   "outputs": [],
   "source": [
    " f= open ('two_times_table.txt','w')\n",
    " for num in range(1,6):\n",
    "     format_string = \"2 x {0} = {1}\\n\".format(num,2*num)\n",
    "     f.write(format_string)\n",
    "f.close()     "
   ]
  },
  {
   "cell_type": "code",
   "execution_count": 36,
   "metadata": {},
   "outputs": [
    {
     "name": "stdout",
     "output_type": "stream",
     "text": [
      "2 x 1 = 2\n",
      "2 x 2 = 4\n"
     ]
    }
   ],
   "source": [
    "f = open (\"two_times_table.txt\")\n",
    "line1 = f.readline()\n",
    "line2 = f.readline()\n",
    "f.close()\n",
    "print(line1, end=\"\")\n",
    "print(line2, end=\"\")"
   ]
  },
  {
   "cell_type": "code",
   "execution_count": 37,
   "metadata": {},
   "outputs": [
    {
     "name": "stdout",
     "output_type": "stream",
     "text": [
      "2 x 1 = 2\n",
      "2 x 2 = 4\n",
      "2 x 3 = 6\n",
      "2 x 4 = 8\n",
      "2 x 5 = 10\n"
     ]
    }
   ],
   "source": [
    "f= open ('two_times_table.txt')\n",
    "line = f.readline()\n",
    "while line:\n",
    "    print(line,end = '')\n",
    "    line = f.readline()\n",
    "f.close()    "
   ]
  },
  {
   "cell_type": "code",
   "execution_count": 38,
   "metadata": {},
   "outputs": [
    {
     "name": "stdout",
     "output_type": "stream",
     "text": [
      "['2 x 1 = 2\\n', '2 x 2 = 4\\n', '2 x 3 = 6\\n', '2 x 4 = 8\\n', '2 x 5 = 10\\n']\n"
     ]
    }
   ],
   "source": [
    "f = open('two_times_table.txt')\n",
    "lines = f.readlines()\n",
    "f.close()\n",
    "print(lines)"
   ]
  },
  {
   "cell_type": "code",
   "execution_count": 40,
   "metadata": {},
   "outputs": [
    {
     "name": "stdout",
     "output_type": "stream",
     "text": [
      "2 x 1 = 2\n",
      "2 x 2 = 4\n",
      "2 x 3 = 6\n",
      "2 x 4 = 8\n",
      "2 x 5 = 10\n"
     ]
    }
   ],
   "source": [
    "f = open('two_times_table.txt')\n",
    "lines = f.readlines()\n",
    "f.close()\n",
    "for line in lines:\n",
    "    print(line, end='')"
   ]
  },
  {
   "cell_type": "code",
   "execution_count": 41,
   "metadata": {},
   "outputs": [
    {
     "name": "stdout",
     "output_type": "stream",
     "text": [
      "2 x 1 = 2\n",
      "2 x 2 = 4\n",
      "2 x 3 = 6\n",
      "2 x 4 = 8\n",
      "2 x 5 = 10\n"
     ]
    }
   ],
   "source": [
    "f = open ('two_times_table.txt')\n",
    "for line in f.readlines():\n",
    "    print(line,end='')\n",
    "f.close()    "
   ]
  },
  {
   "cell_type": "code",
   "execution_count": 42,
   "metadata": {},
   "outputs": [
    {
     "name": "stdout",
     "output_type": "stream",
     "text": [
      "2 x 1 = 2\n",
      "2 x 2 = 4\n",
      "2 x 3 = 6\n",
      "2 x 4 = 8\n",
      "2 x 5 = 10\n"
     ]
    }
   ],
   "source": [
    "f = open ('two_times_table.txt')\n",
    "for line in f:\n",
    "    print(line, end='')\n",
    "f.close()    "
   ]
  },
  {
   "cell_type": "code",
   "execution_count": 43,
   "metadata": {},
   "outputs": [],
   "source": [
    "#with 문 이용해 파일읽고 쓰기"
   ]
  },
  {
   "cell_type": "code",
   "execution_count": 47,
   "metadata": {},
   "outputs": [
    {
     "name": "stderr",
     "output_type": "stream",
     "text": [
      "<>:1: SyntaxWarning: invalid escape sequence '\\c'\n",
      "<>:1: SyntaxWarning: invalid escape sequence '\\c'\n",
      "C:\\Users\\sonic\\AppData\\Local\\Temp\\ipykernel_16072\\2316737286.py:1: SyntaxWarning: invalid escape sequence '\\c'\n",
      "  with open('H:\\code\\python basic\\myTextFile2.txt', 'w') as f:\n"
     ]
    }
   ],
   "source": [
    "with open('H:\\code\\python basic\\myTextFile2.txt', 'w') as f:\n",
    "    f.write('File read/wtite test2: line1\\n')\n",
    "    f.write('File read/wtite test2: line2\\n')\n",
    "    f.write('File read/wtite test2: line3\\n')\n",
    "    "
   ]
  },
  {
   "cell_type": "code",
   "execution_count": 49,
   "metadata": {},
   "outputs": [
    {
     "name": "stdout",
     "output_type": "stream",
     "text": [
      "File read/wtite test2: line1\n",
      "File read/wtite test2: line2\n",
      "File read/wtite test2: line3\n",
      "\n"
     ]
    },
    {
     "name": "stderr",
     "output_type": "stream",
     "text": [
      "<>:1: SyntaxWarning: invalid escape sequence '\\c'\n",
      "<>:1: SyntaxWarning: invalid escape sequence '\\c'\n",
      "C:\\Users\\sonic\\AppData\\Local\\Temp\\ipykernel_16072\\4247118457.py:1: SyntaxWarning: invalid escape sequence '\\c'\n",
      "  with open('H:\\code\\python basic\\myTextFile2.txt')as f:\n"
     ]
    }
   ],
   "source": [
    "with open('H:\\code\\python basic\\myTextFile2.txt')as f:\n",
    "    file_string = f.read()\n",
    "    print(file_string)"
   ]
  },
  {
   "cell_type": "code",
   "execution_count": 58,
   "metadata": {},
   "outputs": [
    {
     "name": "stderr",
     "output_type": "stream",
     "text": [
      "<>:1: SyntaxWarning: invalid escape sequence '\\c'\n",
      "<>:1: SyntaxWarning: invalid escape sequence '\\c'\n",
      "C:\\Users\\sonic\\AppData\\Local\\Temp\\ipykernel_16072\\2320579301.py:1: SyntaxWarning: invalid escape sequence '\\c'\n",
      "  with open('H:\\code\\python basic\\myTextFile3.txt', 'w')as f:\n"
     ]
    }
   ],
   "source": [
    "with open('H:\\code\\python basic\\myTextFile3.txt', 'w')as f:\n",
    "    for num in range(1,6):\n",
    "        format_string = \"3 x {0} = {1}\\n\".format(num,3*num)\n",
    "        f.write(format_string)"
   ]
  },
  {
   "cell_type": "code",
   "execution_count": 59,
   "metadata": {},
   "outputs": [
    {
     "name": "stdout",
     "output_type": "stream",
     "text": [
      "3 x 1 = 3\n",
      "3 x 2 = 6\n",
      "3 x 3 = 9\n",
      "3 x 4 = 12\n",
      "3 x 5 = 15\n"
     ]
    },
    {
     "name": "stderr",
     "output_type": "stream",
     "text": [
      "<>:1: SyntaxWarning: invalid escape sequence '\\c'\n",
      "<>:1: SyntaxWarning: invalid escape sequence '\\c'\n",
      "C:\\Users\\sonic\\AppData\\Local\\Temp\\ipykernel_16072\\1120895728.py:1: SyntaxWarning: invalid escape sequence '\\c'\n",
      "  with open('H:\\code\\python basic\\myTextFile3.txt', 'r')as f:\n"
     ]
    }
   ],
   "source": [
    "with open('H:\\code\\python basic\\myTextFile3.txt', 'r')as f:\n",
    "    for line in f:\n",
    "        print(line,end='')"
   ]
  },
  {
   "cell_type": "code",
   "execution_count": null,
   "metadata": {},
   "outputs": [],
   "source": [
    "# 함수 정의와 호출"
   ]
  },
  {
   "cell_type": "code",
   "execution_count": 60,
   "metadata": {},
   "outputs": [],
   "source": [
    "def my_func():\n",
    "    print(\"My first function\")\n",
    "    print(\"This is a function\")\n"
   ]
  },
  {
   "cell_type": "code",
   "execution_count": 61,
   "metadata": {},
   "outputs": [
    {
     "name": "stdout",
     "output_type": "stream",
     "text": [
      "My first function\n",
      "This is a function\n"
     ]
    }
   ],
   "source": [
    "my_func()"
   ]
  },
  {
   "cell_type": "code",
   "execution_count": 62,
   "metadata": {},
   "outputs": [],
   "source": [
    "#인자는 있으나 반환값이 없는 함수"
   ]
  },
  {
   "cell_type": "code",
   "execution_count": 63,
   "metadata": {},
   "outputs": [],
   "source": [
    "def my_friend(friendName):\n",
    "    print(\"{}는 나의 친구입니다.\".format(friendName))"
   ]
  },
  {
   "cell_type": "code",
   "execution_count": 64,
   "metadata": {},
   "outputs": [
    {
     "name": "stdout",
     "output_type": "stream",
     "text": [
      "철수는 나의 친구입니다.\n",
      "영미는 나의 친구입니다.\n"
     ]
    }
   ],
   "source": [
    "my_friend(\"철수\")\n",
    "my_friend(\"영미\")"
   ]
  },
  {
   "cell_type": "code",
   "execution_count": 69,
   "metadata": {},
   "outputs": [],
   "source": [
    "def my_student_info(name, school_ID, phoneNumber):\n",
    "    print(\"-----------------------\")\n",
    "    print(\"학생이름:\", name)\n",
    "    print(\"-학급번호:\",school_ID)\n",
    "    print(\"-전화번호:\",phoneNumber)"
   ]
  },
  {
   "cell_type": "code",
   "execution_count": 71,
   "metadata": {},
   "outputs": [
    {
     "name": "stdout",
     "output_type": "stream",
     "text": [
      "-----------------------\n",
      "학생이름: 현아\n",
      "-학급번호: 01\n",
      "-전화번호: 01-234-5678\n",
      "-----------------------\n",
      "학생이름: 진수\n",
      "-학급번호: 02\n",
      "-전화번호: 02-987-6543\n"
     ]
    }
   ],
   "source": [
    "my_student_info(\"현아\", \"01\", \"01-234-5678\")\n",
    "my_student_info(\"진수\", \"02\", \"02-987-6543\")\n"
   ]
  },
  {
   "cell_type": "code",
   "execution_count": 72,
   "metadata": {},
   "outputs": [],
   "source": [
    "def my_calc(x,y):\n",
    "    z = x*y\n",
    "    return z"
   ]
  },
  {
   "cell_type": "code",
   "execution_count": 73,
   "metadata": {},
   "outputs": [
    {
     "data": {
      "text/plain": [
       "12"
      ]
     },
     "execution_count": 73,
     "metadata": {},
     "output_type": "execute_result"
    }
   ],
   "source": [
    "my_calc(3,4)"
   ]
  },
  {
   "cell_type": "code",
   "execution_count": 74,
   "metadata": {},
   "outputs": [],
   "source": [
    "def my_student_info_list(student_info):\n",
    "    print(\"***********************\")\n",
    "    print(\"*학생이름\",student_info[0])\n",
    "    print(\"*학생이름\",student_info[1])\n",
    "    print(\"*학생이름\",student_info[2])\n",
    "    print(\"************************\")\n",
    "    "
   ]
  },
  {
   "cell_type": "code",
   "execution_count": 76,
   "metadata": {},
   "outputs": [
    {
     "name": "stdout",
     "output_type": "stream",
     "text": [
      "***********************\n",
      "*학생이름 현아\n",
      "*학생이름 01\n",
      "*학생이름 01-234-5678\n",
      "************************\n"
     ]
    }
   ],
   "source": [
    "student1_info = [\"현아\", \"01\", \"01-234-5678\"]\n",
    "my_student_info_list(student1_info)                "
   ]
  },
  {
   "cell_type": "code",
   "execution_count": 77,
   "metadata": {},
   "outputs": [
    {
     "name": "stdout",
     "output_type": "stream",
     "text": [
      "***********************\n",
      "*학생이름 진수\n",
      "*학생이름 02\n",
      "*학생이름 01-987-6543\n",
      "************************\n"
     ]
    }
   ],
   "source": [
    "my_student_info_list([\"진수\", \"02\", \"01-987-6543\"])"
   ]
  },
  {
   "cell_type": "code",
   "execution_count": 9,
   "metadata": {},
   "outputs": [],
   "source": [
    "a = 5# 전역변수\n",
    "\n",
    "def func1():\n",
    "    a = 1\n",
    "    print(\"[func1] local a =\", a)\n",
    "    \n",
    "def func2():\n",
    "    a = 2\n",
    "    print(\"[func2] local a =\", a)\n",
    "    \n",
    "    \n",
    "def func3():\n",
    "    print(\"[func3] global a =\", a)        \n",
    "\n",
    "\n",
    "def func4():\n",
    "    a=4  # 전역변수 값 변경\n",
    "    print(\"[func4] global a = \",a)    \n",
    "    \n",
    "    \n",
    "    "
   ]
  },
  {
   "cell_type": "code",
   "execution_count": 10,
   "metadata": {},
   "outputs": [
    {
     "name": "stdout",
     "output_type": "stream",
     "text": [
      "[func1] local a = 1\n",
      "[func2] local a = 2\n",
      "global a = 5\n"
     ]
    }
   ],
   "source": [
    "func1()\n",
    "func2()\n",
    "print(\"global a =\", a)"
   ]
  },
  {
   "cell_type": "code",
   "execution_count": 11,
   "metadata": {},
   "outputs": [
    {
     "name": "stdout",
     "output_type": "stream",
     "text": [
      "[func3] global a = 5\n",
      "[func4] global a =  4\n",
      "[func3] global a = 5\n"
     ]
    }
   ],
   "source": [
    "func3()\n",
    "func4()\n",
    "func3()"
   ]
  },
  {
   "cell_type": "code",
   "execution_count": 13,
   "metadata": {},
   "outputs": [
    {
     "data": {
      "text/plain": [
       "9"
      ]
     },
     "execution_count": 13,
     "metadata": {},
     "output_type": "execute_result"
    }
   ],
   "source": [
    "# lambda함수\n",
    "(lambda x : x**2) (3)"
   ]
  },
  {
   "cell_type": "code",
   "execution_count": 18,
   "metadata": {},
   "outputs": [
    {
     "name": "stdout",
     "output_type": "stream",
     "text": [
      "4\n",
      "25\n"
     ]
    }
   ],
   "source": [
    "mySquare = lambda x : x **2\n",
    "print(mySquare(2))\n",
    "print(mySquare(5))"
   ]
  },
  {
   "cell_type": "code",
   "execution_count": 19,
   "metadata": {},
   "outputs": [
    {
     "data": {
      "text/plain": [
       "11"
      ]
     },
     "execution_count": 19,
     "metadata": {},
     "output_type": "execute_result"
    }
   ],
   "source": [
    "mySimpleFunc = lambda x,y,z : 2*x + 3*y + z\n",
    "mySimpleFunc(1,2,3)"
   ]
  },
  {
   "cell_type": "code",
   "execution_count": 20,
   "metadata": {},
   "outputs": [
    {
     "data": {
      "text/plain": [
       "[0, 3, -1]"
      ]
     },
     "execution_count": 20,
     "metadata": {},
     "output_type": "execute_result"
    }
   ],
   "source": [
    "# 형변환 함수\n",
    "\n",
    "[int(0.123), int(3.4556), int(-1.313131)]"
   ]
  },
  {
   "cell_type": "code",
   "execution_count": 21,
   "metadata": {},
   "outputs": [
    {
     "data": {
      "text/plain": [
       "[1234, 5678, '-9012']"
      ]
     },
     "execution_count": 21,
     "metadata": {},
     "output_type": "execute_result"
    }
   ],
   "source": [
    "[int ('1234'), int('5678'), ('-9012')]"
   ]
  },
  {
   "cell_type": "code",
   "execution_count": 22,
   "metadata": {},
   "outputs": [
    {
     "data": {
      "text/plain": [
       "[0.0, 123.0, -567.0]"
      ]
     },
     "execution_count": 22,
     "metadata": {},
     "output_type": "execute_result"
    }
   ],
   "source": [
    "[float(0), float(123), float(-567)]"
   ]
  },
  {
   "cell_type": "code",
   "execution_count": 23,
   "metadata": {},
   "outputs": [
    {
     "data": {
      "text/plain": [
       "[10.0, 0.123, -567.89]"
      ]
     },
     "execution_count": 23,
     "metadata": {},
     "output_type": "execute_result"
    }
   ],
   "source": [
    "[float('10'), float('0.123'), float('-567.89')]"
   ]
  },
  {
   "cell_type": "code",
   "execution_count": 25,
   "metadata": {},
   "outputs": [
    {
     "data": {
      "text/plain": [
       "['123', '45678', '-987']"
      ]
     },
     "execution_count": 25,
     "metadata": {},
     "output_type": "execute_result"
    }
   ],
   "source": [
    "[str(123), str(45678), str(-987)] #문자열 데이터"
   ]
  },
  {
   "cell_type": "code",
   "execution_count": 27,
   "metadata": {},
   "outputs": [
    {
     "data": {
      "text/plain": [
       "['0.123', '345.678', '-5.987']"
      ]
     },
     "execution_count": 27,
     "metadata": {},
     "output_type": "execute_result"
    }
   ],
   "source": [
    "[str(0.123), str(345.678), str(-5.987)]# 실수를 문자열 데이터로"
   ]
  },
  {
   "cell_type": "code",
   "execution_count": 28,
   "metadata": {},
   "outputs": [
    {
     "data": {
      "text/plain": [
       "[list, tuple, set]"
      ]
     },
     "execution_count": 28,
     "metadata": {},
     "output_type": "execute_result"
    }
   ],
   "source": [
    "list_data = ['abc', 1, 2, 'def']\n",
    "tuple_data = ('abc', 1, 2, 'def')\n",
    "set_data = {'abc', 1,2, 'def'}\n",
    "[type(list_data), type(tuple_data), type(set_data)]"
   ]
  },
  {
   "cell_type": "code",
   "execution_count": 30,
   "metadata": {},
   "outputs": [
    {
     "name": "stdout",
     "output_type": "stream",
     "text": [
      "리스트로 변환:  ['abc', 1, 2, 'def'] [1, 2, 'def', 'abc']\n",
      "튜플로 변환:  ('abc', 1, 2, 'def') (1, 2, 'def', 'abc')\n",
      "세트로 변환:  {1, 2, 'def', 'abc'} {1, 2, 'def', 'abc'}\n"
     ]
    }
   ],
   "source": [
    "print(\"리스트로 변환: \", list(tuple_data), list(set_data))\n",
    "print(\"튜플로 변환: \", tuple(list_data), tuple(set_data))\n",
    "print(\"세트로 변환: \", set(list_data), set (tuple_data))      "
   ]
  },
  {
   "cell_type": "code",
   "execution_count": 31,
   "metadata": {},
   "outputs": [],
   "source": [
    "#bool함수\n",
    "#숫자 0이면 False, 0이외의 숫자면True "
   ]
  },
  {
   "cell_type": "code",
   "execution_count": 32,
   "metadata": {},
   "outputs": [
    {
     "data": {
      "text/plain": [
       "False"
      ]
     },
     "execution_count": 32,
     "metadata": {},
     "output_type": "execute_result"
    }
   ],
   "source": [
    "bool(0) # 인자: 숫자 0"
   ]
  },
  {
   "cell_type": "code",
   "execution_count": 34,
   "metadata": {},
   "outputs": [
    {
     "data": {
      "text/plain": [
       "True"
      ]
     },
     "execution_count": 34,
     "metadata": {},
     "output_type": "execute_result"
    }
   ],
   "source": [
    "bool(1) # 인자: 양의 정수"
   ]
  },
  {
   "cell_type": "code",
   "execution_count": 36,
   "metadata": {},
   "outputs": [],
   "source": [
    "#문자열을 bool로\n",
    "#'a', ' ' 공백이나 문자가있으면 true\n",
    "#''m', 'None' 문자가 없다면 False"
   ]
  },
  {
   "cell_type": "code",
   "execution_count": null,
   "metadata": {},
   "outputs": [],
   "source": [
    "#bool 함수의 활용"
   ]
  },
  {
   "cell_type": "code",
   "execution_count": 37,
   "metadata": {},
   "outputs": [],
   "source": [
    "def print_name(name):\n",
    "    if bool(name):\n",
    "        print(\"입력된 이름:\", name)\n",
    "    else:\n",
    "        print(\"입력된 이름이 없습니다\") \n",
    "        "
   ]
  },
  {
   "cell_type": "code",
   "execution_count": 38,
   "metadata": {},
   "outputs": [
    {
     "name": "stdout",
     "output_type": "stream",
     "text": [
      "입력된 이름: James\n",
      "입력된 이름이 없습니다\n"
     ]
    }
   ],
   "source": [
    "print_name(\"James\")\n",
    "print_name(\"\")"
   ]
  },
  {
   "cell_type": "code",
   "execution_count": 40,
   "metadata": {},
   "outputs": [
    {
     "data": {
      "text/plain": [
       "[0, 99.5]"
      ]
     },
     "execution_count": 40,
     "metadata": {},
     "output_type": "execute_result"
    }
   ],
   "source": [
    "#최소값 최대값 구하는 함수\n",
    "myNum = [10, 5, 12, 0, 3.5, 99.5, 42]\n",
    "[min(myNum), max(myNum)] #min, max"
   ]
  },
  {
   "cell_type": "code",
   "execution_count": 41,
   "metadata": {},
   "outputs": [
    {
     "data": {
      "text/plain": [
       "['a', 'z']"
      ]
     },
     "execution_count": 41,
     "metadata": {},
     "output_type": "execute_result"
    }
   ],
   "source": [
    "# 문자열에도 적용\n",
    "myStr = 'zxyabc'\n",
    "[min(myStr), max(myStr)]"
   ]
  },
  {
   "cell_type": "code",
   "execution_count": 42,
   "metadata": {},
   "outputs": [
    {
     "data": {
      "text/plain": [
       "[0, 99.5]"
      ]
     },
     "execution_count": 42,
     "metadata": {},
     "output_type": "execute_result"
    }
   ],
   "source": [
    "# 튜플과 세트에서 최소값 최대값 구하기\n",
    "myNum = (10, 5, 12, 0, 3.5, 99.5, 42)\n",
    "[min(myNum), max(myNum)] #min, max"
   ]
  },
  {
   "cell_type": "code",
   "execution_count": 43,
   "metadata": {},
   "outputs": [
    {
     "data": {
      "text/plain": [
       "['Abc', 'efg']"
      ]
     },
     "execution_count": 43,
     "metadata": {},
     "output_type": "execute_result"
    }
   ],
   "source": [
    "myNum = {\"Abc\", \"abc\", \"bcd\", \"efg\"}\n",
    "[min(myNum), max(myNum)] #비교항목이 문자열일 경우 먼저 첫문자와  비교 같다면, 두번째 비교\n",
    "                         #대문자 > 소문자 문자 > 숫자"
   ]
  },
  {
   "cell_type": "code",
   "execution_count": 47,
   "metadata": {},
   "outputs": [
    {
     "name": "stdout",
     "output_type": "stream",
     "text": [
      "[10, 10]\n",
      "[2.45, 2.45]\n"
     ]
    }
   ],
   "source": [
    "#절대값과 전체합을 구하는 함수 abs()\n",
    "\n",
    "print([abs(10), abs(-10)])\n",
    "print([abs(2.45), abs(-2.45)])\n",
    "#절대값 구하기"
   ]
  },
  {
   "cell_type": "code",
   "execution_count": 48,
   "metadata": {},
   "outputs": [
    {
     "data": {
      "text/plain": [
       "55"
      ]
     },
     "execution_count": 48,
     "metadata": {},
     "output_type": "execute_result"
    }
   ],
   "source": [
    "# 합을 구하는 함수 sum()\n",
    "sumList = [1, 2, 3, 4, 5, 6, 7, 8, 9, 10]\n",
    "sum(sumList)"
   ]
  },
  {
   "cell_type": "code",
   "execution_count": 56,
   "metadata": {},
   "outputs": [
    {
     "name": "stdout",
     "output_type": "stream",
     "text": [
      "5\n",
      "8\n",
      "5\n",
      "4\n",
      "3\n"
     ]
    }
   ],
   "source": [
    "#항목의 개수를 구하는 함수len()\n",
    "print(len(\"ab cd\"))\n",
    "print(len([1, 2, 3, 4, 5, 6, 7, 8])) #리스트\n",
    "print(len((1, 2, 3, 4, 5))) #튜플\n",
    "print(len({'a', 'b', 'c', 'd'}))#세트\n",
    "print(len({1:\"thomas\", 2:\"Edward\", 3:\"henry\"})) #딕셔너리"
   ]
  },
  {
   "cell_type": "code",
   "execution_count": 58,
   "metadata": {},
   "outputs": [
    {
     "name": "stdout",
     "output_type": "stream",
     "text": [
      "총점:350, 평균:87.5\n"
     ]
    }
   ],
   "source": [
    "scores = [90, 80, 95, 85]#과목별 시험점수\n",
    "\n",
    "score_sum =0            #총점계산을 위한 초기값\n",
    "subject_num =0          #과목수계산을 위한 초기값 설정\n",
    "for score in scores:\n",
    "    score_sum = score_sum + score #과목별 점수 모두 더하기\n",
    "    subject_num =subject_num +1   #과목수 계산\n",
    "    \n",
    "    \n",
    "average =score_sum / subject_num # 평균 (총점/ 과목수) 구하기 \n",
    "\n",
    "print(\"총점:{0}, 평균:{1}\".format(score_sum,average))   \n",
    "    "
   ]
  },
  {
   "cell_type": "code",
   "execution_count": 64,
   "metadata": {},
   "outputs": [
    {
     "name": "stdout",
     "output_type": "stream",
     "text": [
      "총점:350, 평균:87.5,\n"
     ]
    }
   ],
   "source": [
    "scores = [90, 80, 95, 85]\n",
    "print(\"총점:{0}, 평균:{1},\".format(sum(scores), sum(scores)/len(scores)))"
   ]
  },
  {
   "cell_type": "code",
   "execution_count": 65,
   "metadata": {},
   "outputs": [
    {
     "name": "stdout",
     "output_type": "stream",
     "text": [
      "최하점수:80, 최고점수:95\n"
     ]
    }
   ],
   "source": [
    "print(\"최하점수:{0}, 최고점수:{1}\".format(min(scores), max(scores)))"
   ]
  },
  {
   "cell_type": "code",
   "execution_count": null,
   "metadata": {},
   "outputs": [],
   "source": []
  }
 ],
 "metadata": {
  "kernelspec": {
   "display_name": "venv",
   "language": "python",
   "name": "python3"
  },
  "language_info": {
   "codemirror_mode": {
    "name": "ipython",
    "version": 3
   },
   "file_extension": ".py",
   "mimetype": "text/x-python",
   "name": "python",
   "nbconvert_exporter": "python",
   "pygments_lexer": "ipython3",
   "version": "3.12.2"
  }
 },
 "nbformat": 4,
 "nbformat_minor": 2
}
