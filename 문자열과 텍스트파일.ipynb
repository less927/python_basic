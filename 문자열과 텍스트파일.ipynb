{
 "cells": [
  {
   "cell_type": "code",
   "execution_count": 19,
   "metadata": {},
   "outputs": [],
   "source": [
    "#문자열 분리하기\n",
    "#str.split([sep])"
   ]
  },
  {
   "cell_type": "code",
   "execution_count": 20,
   "metadata": {},
   "outputs": [
    {
     "data": {
      "text/plain": [
       "['에스프레소', '아메리카노', '카페라테', '카푸치노']"
      ]
     },
     "execution_count": 20,
     "metadata": {},
     "output_type": "execute_result"
    }
   ],
   "source": [
    "str = \"에스프레소 아메리카노 카페라테 카푸치노\"\n",
    "str.split()"
   ]
  },
  {
   "cell_type": "code",
   "execution_count": 22,
   "metadata": {},
   "outputs": [
    {
     "data": {
      "text/plain": [
       "['에스프레소', ' 아메리카노', ' 카페라테', ' 카푸치노']"
      ]
     },
     "execution_count": 22,
     "metadata": {},
     "output_type": "execute_result"
    }
   ],
   "source": [
    "coffee_menu_str = \"에스프레소, 아메리카노, 카페라테, 카푸치노\"\n",
    "coffee_menu_str.split(',')"
   ]
  },
  {
   "cell_type": "code",
   "execution_count": 25,
   "metadata": {},
   "outputs": [
    {
     "data": {
      "text/plain": [
       "['에스프레소', ' 아메리카노', ' 카페라테', ' 카푸치노']"
      ]
     },
     "execution_count": 25,
     "metadata": {},
     "output_type": "execute_result"
    }
   ],
   "source": [
    "\n",
    "\"에스프레소, 아메리카노, 카페라테, 카푸치노\".split(',')"
   ]
  },
  {
   "cell_type": "code",
   "execution_count": 34,
   "metadata": {},
   "outputs": [
    {
     "data": {
      "text/plain": [
       "['에스프레소', '아메리카노', '카페라테', '카푸치노']"
      ]
     },
     "execution_count": 34,
     "metadata": {},
     "output_type": "execute_result"
    }
   ],
   "source": [
    "\"에스프레소 아메리카노 카페라테 카푸치노\".split(' ')"
   ]
  },
  {
   "cell_type": "code",
   "execution_count": 37,
   "metadata": {},
   "outputs": [
    {
     "data": {
      "text/plain": [
       "['에스프레소', '아메리카노', '카페라테', '카푸치노']"
      ]
     },
     "execution_count": 37,
     "metadata": {},
     "output_type": "execute_result"
    }
   ],
   "source": [
    "\"에스프레소 아메리카노 카페라테 카푸치노\".split()"
   ]
  },
  {
   "cell_type": "code",
   "execution_count": 36,
   "metadata": {},
   "outputs": [
    {
     "data": {
      "text/plain": [
       "['에스프레소', '아메리카노', '카페라테', '카푸치노']"
      ]
     },
     "execution_count": 36,
     "metadata": {},
     "output_type": "execute_result"
    }
   ],
   "source": [
    "\"에스프레소 \\n\\n 아메리카노 \\n 카페라테 카푸치노 \\n\\n\".split()"
   ]
  },
  {
   "cell_type": "code",
   "execution_count": 41,
   "metadata": {},
   "outputs": [],
   "source": [
    "# str.split([sep ,] maxsplit=4)"
   ]
  },
  {
   "cell_type": "code",
   "execution_count": 42,
   "metadata": {},
   "outputs": [
    {
     "data": {
      "text/plain": [
       "['에스프레소', '아메리카노', '카페라테 카푸치노']"
      ]
     },
     "execution_count": 42,
     "metadata": {},
     "output_type": "execute_result"
    }
   ],
   "source": [
    "\"에스프레소 아메리카노 카페라테 카푸치노\".split(maxsplit=2)"
   ]
  },
  {
   "cell_type": "code",
   "execution_count": 45,
   "metadata": {},
   "outputs": [
    {
     "name": "stdout",
     "output_type": "stream",
     "text": [
      "['+82', '01-2345-6789']\n",
      "국내전화번호: 01-2345-6789\n"
     ]
    }
   ],
   "source": [
    "phone_number = \"+82-01-2345-6789\"\n",
    "split_num = phone_number.split(\"-\", 1)\n",
    "print(split_num)\n",
    "print(\"국내전화번호: {0}\".format(split_num[1]))"
   ]
  },
  {
   "cell_type": "code",
   "execution_count": 47,
   "metadata": {},
   "outputs": [],
   "source": [
    "#필요없는 문자열 삭제하기\n",
    "#str.strip([char])"
   ]
  },
  {
   "cell_type": "code",
   "execution_count": 96,
   "metadata": {},
   "outputs": [
    {
     "data": {
      "text/plain": [
       "'python'"
      ]
     },
     "execution_count": 96,
     "metadata": {},
     "output_type": "execute_result"
    }
   ],
   "source": [
    "str1 = \"python\"\n",
    "str.strip()"
   ]
  },
  {
   "cell_type": "code",
   "execution_count": 95,
   "metadata": {},
   "outputs": [
    {
     "data": {
      "text/plain": [
       "'Python'"
      ]
     },
     "execution_count": 95,
     "metadata": {},
     "output_type": "execute_result"
    }
   ],
   "source": [
    "\"aaaaPythonaaa\".strip('a')"
   ]
  },
  {
   "cell_type": "code",
   "execution_count": 65,
   "metadata": {},
   "outputs": [
    {
     "data": {
      "text/plain": [
       "'bbPythonBB'"
      ]
     },
     "execution_count": 65,
     "metadata": {},
     "output_type": "execute_result"
    }
   ],
   "source": [
    "test_str = \"aaaabbPythonBBaaa\"\n",
    "temp1 = test_str.strip('a')\n",
    "temp1"
   ]
  },
  {
   "cell_type": "code",
   "execution_count": 66,
   "metadata": {},
   "outputs": [
    {
     "data": {
      "text/plain": [
       "'PythonBB'"
      ]
     },
     "execution_count": 66,
     "metadata": {},
     "output_type": "execute_result"
    }
   ],
   "source": [
    "temp1.strip('b')"
   ]
  },
  {
   "cell_type": "code",
   "execution_count": 69,
   "metadata": {},
   "outputs": [
    {
     "data": {
      "text/plain": [
       "'Python'"
      ]
     },
     "execution_count": 69,
     "metadata": {},
     "output_type": "execute_result"
    }
   ],
   "source": [
    "temp1.strip('Bb')"
   ]
  },
  {
   "cell_type": "code",
   "execution_count": 71,
   "metadata": {},
   "outputs": [
    {
     "data": {
      "text/plain": [
       "' python is powerful '"
      ]
     },
     "execution_count": 71,
     "metadata": {},
     "output_type": "execute_result"
    }
   ],
   "source": [
    "test_str_multi =\"!@#$%^&* python is powerful !@#$\"\n",
    "test_str_multi.strip('!@#$%^*&')"
   ]
  },
  {
   "cell_type": "code",
   "execution_count": 72,
   "metadata": {},
   "outputs": [],
   "source": [
    "#좌,우 분리 스트립"
   ]
  },
  {
   "cell_type": "code",
   "execution_count": 74,
   "metadata": {},
   "outputs": [
    {
     "name": "stdout",
     "output_type": "stream",
     "text": [
      " Python is. \n",
      " Python is. 0000\n",
      "0000 Python is. \n"
     ]
    }
   ],
   "source": [
    "str_lr = \"0000 Python is. 0000\"\n",
    "print(str_lr.strip('0'))\n",
    "print(str_lr.lstrip('0'))\n",
    "print(str_lr.rstrip('0'))"
   ]
  },
  {
   "cell_type": "code",
   "execution_count": 76,
   "metadata": {},
   "outputs": [
    {
     "data": {
      "text/plain": [
       "['에스프레소', ' 아메리카노', ' 카페라테', ' 카푸치노']"
      ]
     },
     "execution_count": 76,
     "metadata": {},
     "output_type": "execute_result"
    }
   ],
   "source": [
    "coffee_menu = \"에스프레소, 아메리카노, 카페라테, 카푸치노\"\n",
    "coffee_menu_list = coffee_menu.split(',')\n",
    "coffee_menu_list\n",
    "\n"
   ]
  },
  {
   "cell_type": "code",
   "execution_count": 77,
   "metadata": {},
   "outputs": [
    {
     "name": "stdout",
     "output_type": "stream",
     "text": [
      "['에스프레소', '아메리카노', '카페라테', '카푸치노']\n"
     ]
    }
   ],
   "source": [
    "\n",
    "coffee_list = [] # empty list create\n",
    "for coffee in coffee_menu_list:\n",
    "    temp = coffee.strip() # delete void \n",
    "    coffee_list.append(temp)\n",
    "print(coffee_list)    "
   ]
  },
  {
   "cell_type": "code",
   "execution_count": 78,
   "metadata": {},
   "outputs": [],
   "source": [
    "#문자열 연결하기"
   ]
  },
  {
   "cell_type": "code",
   "execution_count": 80,
   "metadata": {},
   "outputs": [
    {
     "name": "stdout",
     "output_type": "stream",
     "text": [
      "철수님, 주소와 전화번호를 입력해주세요\n",
      "영미님, 주소와 전화번호를 입력해주세요\n"
     ]
    }
   ],
   "source": [
    "name1 = \"철수\"\n",
    "name2 = \"영미\"\n",
    "\n",
    "hello = \"님, 주소와 전화번호를 입력해주세요\"\n",
    "print(name1 + hello)\n",
    "print(name2 + hello)\n",
    "      "
   ]
  },
  {
   "cell_type": "code",
   "execution_count": 81,
   "metadata": {},
   "outputs": [],
   "source": [
    "# str.join(seq)"
   ]
  },
  {
   "cell_type": "code",
   "execution_count": 101,
   "metadata": {},
   "outputs": [
    {
     "data": {
      "text/plain": [
       "'서울시 서초구 반포대로 201'"
      ]
     },
     "execution_count": 101,
     "metadata": {},
     "output_type": "execute_result"
    }
   ],
   "source": [
    "str=' '\n",
    "seq = '서울시', '서초구', '반포대로', '201'\n",
    "str.join(seq)"
   ]
  },
  {
   "cell_type": "code",
   "execution_count": 102,
   "metadata": {},
   "outputs": [
    {
     "data": {
      "text/plain": [
       "['서울시', '서초구', '반포대로', '201']"
      ]
     },
     "execution_count": 102,
     "metadata": {},
     "output_type": "execute_result"
    }
   ],
   "source": [
    "address_list =['서울시', '서초구', '반포대로', '201']\n",
    "address_list"
   ]
  },
  {
   "cell_type": "code",
   "execution_count": 104,
   "metadata": {},
   "outputs": [
    {
     "data": {
      "text/plain": [
       "'서울시 서초구 반포대로 201'"
      ]
     },
     "execution_count": 104,
     "metadata": {},
     "output_type": "execute_result"
    }
   ],
   "source": [
    "a = ' '\n",
    "a. join (address_list)"
   ]
  },
  {
   "cell_type": "code",
   "execution_count": 106,
   "metadata": {},
   "outputs": [
    {
     "data": {
      "text/plain": [
       "'서울시 서초구 반포대로 201'"
      ]
     },
     "execution_count": 106,
     "metadata": {},
     "output_type": "execute_result"
    }
   ],
   "source": [
    "\"\".join(address_list)"
   ]
  },
  {
   "cell_type": "code",
   "execution_count": 123,
   "metadata": {},
   "outputs": [],
   "source": [
    "\n",
    "#문자열 다루기"
   ]
  },
  {
   "cell_type": "code",
   "execution_count": 124,
   "metadata": {},
   "outputs": [
    {
     "name": "stdout",
     "output_type": "stream",
     "text": [
      "찾는 문자열의 위치: 0\n",
      "찾는 문자열의 위치: 7\n",
      "찾는 문자열의 위치: 5\n",
      "찾는 문자열의 위치: -1\n"
     ]
    }
   ],
   "source": [
    "str_f = \"Python_code.\"\n",
    "print(\"찾는 문자열의 위치:\", str_f.find(\"Python\"))\n",
    "print(\"찾는 문자열의 위치:\", str_f.find(\"code\"))\n",
    "print(\"찾는 문자열의 위치:\", str_f.find(\"n\"))\n",
    "print(\"찾는 문자열의 위치:\", str_f.find(\"easy\"))"
   ]
  },
  {
   "cell_type": "code",
   "execution_count": 158,
   "metadata": {},
   "outputs": [],
   "source": [
    "# str.find(search_str, start, end)\n",
    "# str.find(search_str, start)\n"
   ]
  },
  {
   "cell_type": "code",
   "execution_count": 159,
   "metadata": {},
   "outputs": [
    {
     "ename": "SyntaxError",
     "evalue": "unterminated string literal (detected at line 3) (850678643.py, line 3)",
     "output_type": "error",
     "traceback": [
      "\u001b[1;36m  Cell \u001b[1;32mIn[159], line 3\u001b[1;36m\u001b[0m\n\u001b[1;33m    print(\"Python\"의 개수는?\", str_c.count(\"python\"))\u001b[0m\n\u001b[1;37m                                              ^\u001b[0m\n\u001b[1;31mSyntaxError\u001b[0m\u001b[1;31m:\u001b[0m unterminated string literal (detected at line 3)\n"
     ]
    }
   ],
   "source": [
    "str_f_se = \"python is powerful. Python is easy to learn = \"\n",
    "\n",
    "print(\"Python\"의 개수는?\", str_c.count(\"python\"))\n",
    "print(\"powerful\" 의 개수는?\", str_c.count(\"powerful\"))\n",
    "print(\"IPython\" 의개수는:?\",str_C_count(\"IPython)\")"
   ]
  },
  {
   "cell_type": "code",
   "execution_count": 157,
   "metadata": {},
   "outputs": [
    {
     "name": "stdout",
     "output_type": "stream",
     "text": [
      "20\n",
      "-1\n"
     ]
    }
   ],
   "source": [
    "str_c = \"python is powerful. Python is easy to learn.\"\n",
    "\n",
    "print(str_f_se.find(\"Python\", 10, 30)) #시작위치와 끝위치 지정\n",
    "print(str_f_se.find(\"Python\", 35))   ##찾기위한 시작위치 지정"
   ]
  },
  {
   "cell_type": "code",
   "execution_count": 165,
   "metadata": {},
   "outputs": [
    {
     "name": "stdout",
     "output_type": "stream",
     "text": [
      "python 으로 시작?: True\n",
      "is로 시작?: False\n",
      ".으로 끝? True\n",
      "learn으로 끝?: False\n"
     ]
    }
   ],
   "source": [
    "str_se = \"Python is powerful. python is easy to learn.\"\n",
    "print(\"python 으로 시작?:\", str_se.startswith(\"Python\"))\n",
    "print(\"is로 시작?:\", str_se.startswith(\"is\"))\n",
    "print(\".으로 끝?\", str_se.endswith(\".\"))\n",
    "print(\"learn으로 끝?:\", str_se.endswith(\"learn\"))"
   ]
  },
  {
   "cell_type": "code",
   "execution_count": 169,
   "metadata": {},
   "outputs": [
    {
     "name": "stdout",
     "output_type": "stream",
     "text": [
      "Ipython is Fast. Ipython is friendly. Ipython is open\n",
      "Ipython is Fast. Ipython is friendly. Python is open\n",
      "Ipython is Fast. Python is friendly. Python is open\n"
     ]
    }
   ],
   "source": [
    "#문자열 바꾸기\n",
    "#str.replace(old, new[, count])\n",
    "\n",
    "str_a = 'Python is Fast. Python is friendly. Python is open'\n",
    "print(str_a.replace('Python', 'Ipython'))\n",
    "print(str_a.replace('Python', 'Ipython',2))\n",
    "print(str_a.replace('Python', 'Ipython',1))"
   ]
  },
  {
   "cell_type": "code",
   "execution_count": 175,
   "metadata": {},
   "outputs": [
    {
     "name": "stdout",
     "output_type": "stream",
     "text": [
      "[Python][is][fast]\n",
      " Python] is] fast]\n",
      " Python  is  fast \n"
     ]
    }
   ],
   "source": [
    "str_b = '[Python][is][fast]'\n",
    "str_b1 = str_b.replace('[', ' ')             #문자열에서 [ 제거\n",
    "str_b2 = str_b1.replace(']', ' ')            # 결과 문자열에서 ] 제거         \n",
    "\n",
    "print(str_b)\n",
    "print(str_b1)\n",
    "print(str_b2)  "
   ]
  },
  {
   "cell_type": "code",
   "execution_count": 176,
   "metadata": {},
   "outputs": [],
   "source": [
    "#문자열의 구성 확인하기"
   ]
  },
  {
   "cell_type": "code",
   "execution_count": 178,
   "metadata": {},
   "outputs": [
    {
     "name": "stdout",
     "output_type": "stream",
     "text": [
      "True\n",
      "False\n"
     ]
    }
   ],
   "source": [
    "print('Python'.isalpha())\n",
    "print('Ver.3x'.isalpha())"
   ]
  },
  {
   "cell_type": "code",
   "execution_count": 181,
   "metadata": {},
   "outputs": [
    {
     "name": "stdout",
     "output_type": "stream",
     "text": [
      "True\n",
      "False\n"
     ]
    }
   ],
   "source": [
    "print('12345'.isdigit())\n",
    "print('1234avd'.isdigit())"
   ]
  },
  {
   "cell_type": "code",
   "execution_count": 183,
   "metadata": {},
   "outputs": [],
   "source": [
    "#대소문자로 변경하기\n",
    "#str.lower()\n",
    "#str.upper()"
   ]
  },
  {
   "cell_type": "code",
   "execution_count": 185,
   "metadata": {},
   "outputs": [
    {
     "name": "stdout",
     "output_type": "stream",
     "text": [
      "python is powerful. python is easy to learn.\n",
      "PYTHON IS POWERFUL. PYTHON IS EASY TO LEARN.\n"
     ]
    }
   ],
   "source": [
    "string1 = 'Python is powerful. PYTHON IS EASY TO LEARN.'\n",
    "print(string1.lower())\n",
    "print(string1.upper())"
   ]
  },
  {
   "cell_type": "code",
   "execution_count": 16,
   "metadata": {},
   "outputs": [
    {
     "name": "stderr",
     "output_type": "stream",
     "text": [
      "<>:1: SyntaxWarning: invalid escape sequence '\\c'\n",
      "<>:1: SyntaxWarning: invalid escape sequence '\\c'\n",
      "C:\\Users\\sonic\\AppData\\Local\\Temp\\ipykernel_24972\\3359538875.py:1: SyntaxWarning: invalid escape sequence '\\c'\n",
      "  file_path = 'H:\\code\\python basic\\two_times_table.txt'\n"
     ]
    }
   ],
   "source": [
    "file_path = 'H:\\code\\python basic\\two_times_table.txt'"
   ]
  },
  {
   "cell_type": "code",
   "execution_count": 18,
   "metadata": {},
   "outputs": [
    {
     "name": "stdout",
     "output_type": "stream",
     "text": [
      "2 x 1 = 2\n",
      "2 x 2 = 4\n",
      "2 x 3 = 6\n",
      "2 x 4 = 8\n",
      "2 x 5 = 10\n"
     ]
    }
   ],
   "source": [
    "file_name = 'H:/code/python basic/two_times_table.txt'\n",
    "\n",
    "f = open(file_name)\n",
    "for line in f :\n",
    "    print(line, end='')\n",
    "\n",
    "f.close()\n",
    "    "
   ]
  },
  {
   "cell_type": "code",
   "execution_count": 20,
   "metadata": {},
   "outputs": [
    {
     "data": {
      "text/plain": [
       "'2 x 1 = 2\\n'"
      ]
     },
     "execution_count": 20,
     "metadata": {},
     "output_type": "execute_result"
    }
   ],
   "source": [
    "f = open(file_name)\n",
    "header = f.readline()\n",
    "f.close()\n",
    "\n",
    "header"
   ]
  },
  {
   "cell_type": "code",
   "execution_count": 21,
   "metadata": {},
   "outputs": [
    {
     "data": {
      "text/plain": [
       "['2', 'x', '1', '=', '2']"
      ]
     },
     "execution_count": 21,
     "metadata": {},
     "output_type": "execute_result"
    }
   ],
   "source": [
    "header_list = header.split() #첫줄의 문자열을 분리후 리스트로 변환\n",
    "header_list"
   ]
  },
  {
   "cell_type": "code",
   "execution_count": 23,
   "metadata": {},
   "outputs": [
    {
     "name": "stdout",
     "output_type": "stream",
     "text": [
      "['2', 'x', '2', '=', '4']\n",
      "['2', 'x', '3', '=', '6']\n",
      "['2', 'x', '4', '=', '8']\n",
      "['2', 'x', '5', '=', '10']\n"
     ]
    },
    {
     "data": {
      "text/plain": [
       "<function TextIOWrapper.close()>"
      ]
     },
     "execution_count": 23,
     "metadata": {},
     "output_type": "execute_result"
    }
   ],
   "source": [
    "f = open(file_name)          #파일 열기\n",
    "header = f.readline()        #데이터의 첫번째 줄을 읽음\n",
    "header_list = header.split() #첫줄의 문자열을 분리한후 리스트로 변환\n",
    "\n",
    "for line in f :               #두번째 줄부터 데이터를 읽어서 반복적으로 처리\n",
    "    data_list =line.split()   #문자열을 분리해서 리스트로 변환\n",
    "    print(data_list)          #결과확인을 위해 데이터 출력\n",
    "    \n",
    "    \n",
    "f.close    \n"
   ]
  },
  {
   "cell_type": "code",
   "execution_count": 26,
   "metadata": {},
   "outputs": [
    {
     "ename": "ValueError",
     "evalue": "invalid literal for int() with base 10: 'x'",
     "output_type": "error",
     "traceback": [
      "\u001b[1;31m---------------------------------------------------------------------------\u001b[0m",
      "\u001b[1;31mValueError\u001b[0m                                Traceback (most recent call last)",
      "Cell \u001b[1;32mIn[26], line 14\u001b[0m\n\u001b[0;32m     11\u001b[0m \u001b[38;5;28;01mfor\u001b[39;00m line \u001b[38;5;129;01min\u001b[39;00m f:                   \u001b[38;5;66;03m#두번째 줄부터 반복\u001b[39;00m\n\u001b[0;32m     12\u001b[0m     dataList \u001b[38;5;241m=\u001b[39m line\u001b[38;5;241m.\u001b[39msplit()      \u001b[38;5;66;03m#문자열 공백 제거 및 리스트로 변환\u001b[39;00m\n\u001b[1;32m---> 14\u001b[0m     espresso\u001b[38;5;241m.\u001b[39mappend(\u001b[38;5;28;43mint\u001b[39;49m\u001b[43m(\u001b[49m\u001b[43mdataList\u001b[49m\u001b[43m[\u001b[49m\u001b[38;5;241;43m1\u001b[39;49m\u001b[43m]\u001b[49m\u001b[43m)\u001b[49m)\n\u001b[0;32m     15\u001b[0m     americaco\u001b[38;5;241m.\u001b[39mappend(\u001b[38;5;28mint\u001b[39m(dataList[\u001b[38;5;241m2\u001b[39m]))\n\u001b[0;32m     16\u001b[0m     caferatte\u001b[38;5;241m.\u001b[39mappend(\u001b[38;5;28mint\u001b[39m(dataList[\u001b[38;5;241m3\u001b[39m]))\n",
      "\u001b[1;31mValueError\u001b[0m: invalid literal for int() with base 10: 'x'"
     ]
    }
   ],
   "source": [
    "f = open (file_name)            #파일열기\n",
    "header = f.readline()           #첫줄 읽기\n",
    "header_list = header.split()    #첫출 문자열 분리 리스트로 전환\n",
    "\n",
    "espresso = []                   # 커피 종류별로 빈 리스트 생성\n",
    "americaco = []\n",
    "caferatte = []\n",
    "capuccino = []\n",
    "\n",
    "\n",
    "for line in f:                   #두번째 줄부터 반복\n",
    "    dataList = line.split()      #문자열 공백 제거 및 리스트로 변환\n",
    "    \n",
    "    espresso.append(int(dataList[1]))\n",
    "    americaco.append(int(dataList[2]))\n",
    "    caferatte.append(int(dataList[3]))\n",
    "    capuccino.append(int(dataList[4]))\n",
    "    \n",
    "    "
   ]
  },
  {
   "cell_type": "code",
   "execution_count": null,
   "metadata": {},
   "outputs": [],
   "source": []
  }
 ],
 "metadata": {
  "kernelspec": {
   "display_name": "Python 3",
   "language": "python",
   "name": "python3"
  },
  "language_info": {
   "codemirror_mode": {
    "name": "ipython",
    "version": 3
   },
   "file_extension": ".py",
   "mimetype": "text/x-python",
   "name": "python",
   "nbconvert_exporter": "python",
   "pygments_lexer": "ipython3",
   "version": "3.12.2"
  }
 },
 "nbformat": 4,
 "nbformat_minor": 2
}
