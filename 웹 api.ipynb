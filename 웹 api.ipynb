{
 "cells": [
  {
   "cell_type": "code",
   "execution_count": 1,
   "metadata": {},
   "outputs": [
    {
     "data": {
      "text/plain": [
       "dict"
      ]
     },
     "execution_count": 1,
     "metadata": {},
     "output_type": "execute_result"
    }
   ],
   "source": [
    "import json\n",
    "\n",
    "python_dict = {\n",
    "    \"이름\"    : \"홍길동\",\n",
    "    \"나이\"    : \"25\",\n",
    "    \"거주지\"  : \"서울\",\n",
    "    \"신체정보\": {\"키\":175.4,\n",
    "                \"몸무게\" : 71.2},\n",
    "    \"취미\":[\"등산\", \"자전거타기\", \"독서\"]}\n",
    "type(python_dict)\n"
   ]
  },
  {
   "cell_type": "code",
   "execution_count": 2,
   "metadata": {},
   "outputs": [
    {
     "data": {
      "text/plain": [
       "str"
      ]
     },
     "execution_count": 2,
     "metadata": {},
     "output_type": "execute_result"
    }
   ],
   "source": [
    "json_data = json.dumps(python_dict)\n",
    "type(json_data)"
   ]
  },
  {
   "cell_type": "code",
   "execution_count": 3,
   "metadata": {},
   "outputs": [
    {
     "name": "stdout",
     "output_type": "stream",
     "text": [
      "{\"\\uc774\\ub984\": \"\\ud64d\\uae38\\ub3d9\", \"\\ub098\\uc774\": \"25\", \"\\uac70\\uc8fc\\uc9c0\": \"\\uc11c\\uc6b8\", \"\\uc2e0\\uccb4\\uc815\\ubcf4\": {\"\\ud0a4\": 175.4, \"\\ubab8\\ubb34\\uac8c\": 71.2}, \"\\ucde8\\ubbf8\": [\"\\ub4f1\\uc0b0\", \"\\uc790\\uc804\\uac70\\ud0c0\\uae30\", \"\\ub3c5\\uc11c\"]}\n"
     ]
    }
   ],
   "source": [
    "print(json_data)"
   ]
  },
  {
   "cell_type": "code",
   "execution_count": 4,
   "metadata": {},
   "outputs": [
    {
     "name": "stdout",
     "output_type": "stream",
     "text": [
      "{\n",
      "   \"거주지\": \"서울\",\n",
      "   \"나이\": \"25\",\n",
      "   \"신체정보\": {\n",
      "      \"몸무게\": 71.2,\n",
      "      \"키\": 175.4\n",
      "   },\n",
      "   \"이름\": \"홍길동\",\n",
      "   \"취미\": [\n",
      "      \"등산\",\n",
      "      \"자전거타기\",\n",
      "      \"독서\"\n",
      "   ]\n",
      "}\n"
     ]
    }
   ],
   "source": [
    "json_data =json.dumps(python_dict, indent=3, sort_keys=True, ensure_ascii=False)\n",
    "print(json_data)"
   ]
  },
  {
   "cell_type": "code",
   "execution_count": 5,
   "metadata": {},
   "outputs": [
    {
     "data": {
      "text/plain": [
       "dict"
      ]
     },
     "execution_count": 5,
     "metadata": {},
     "output_type": "execute_result"
    }
   ],
   "source": [
    "json_dict = json.loads(json_data)\n",
    "type(json_dict)"
   ]
  },
  {
   "cell_type": "code",
   "execution_count": 6,
   "metadata": {},
   "outputs": [
    {
     "data": {
      "text/plain": [
       "71.2"
      ]
     },
     "execution_count": 6,
     "metadata": {},
     "output_type": "execute_result"
    }
   ],
   "source": [
    "json_dict['신체정보']['몸무게']"
   ]
  },
  {
   "cell_type": "code",
   "execution_count": 7,
   "metadata": {},
   "outputs": [
    {
     "data": {
      "text/plain": [
       "['등산', '자전거타기', '독서']"
      ]
     },
     "execution_count": 7,
     "metadata": {},
     "output_type": "execute_result"
    }
   ],
   "source": [
    "json_dict['취미']"
   ]
  },
  {
   "cell_type": "code",
   "execution_count": 8,
   "metadata": {},
   "outputs": [
    {
     "data": {
      "text/plain": [
       "'등산'"
      ]
     },
     "execution_count": 8,
     "metadata": {},
     "output_type": "execute_result"
    }
   ],
   "source": [
    "json_dict['취미'][0]"
   ]
  },
  {
   "cell_type": "code",
   "execution_count": 9,
   "metadata": {},
   "outputs": [
    {
     "name": "stdout",
     "output_type": "stream",
     "text": [
      "Requirement already satisfied: xmltodict in h:\\code\\python basic\\venv\\lib\\site-packages (0.13.0)\n",
      "Note: you may need to restart the kernel to use updated packages.\n"
     ]
    },
    {
     "name": "stderr",
     "output_type": "stream",
     "text": [
      "\n",
      "[notice] A new release of pip is available: 23.3.2 -> 24.0\n",
      "[notice] To update, run: python.exe -m pip install --upgrade pip\n"
     ]
    }
   ],
   "source": [
    "pip install xmltodict"
   ]
  },
  {
   "cell_type": "code",
   "execution_count": 10,
   "metadata": {},
   "outputs": [],
   "source": [
    "#xml 형식의 데이터"
   ]
  },
  {
   "cell_type": "code",
   "execution_count": 11,
   "metadata": {},
   "outputs": [
    {
     "name": "stdout",
     "output_type": "stream",
     "text": [
      "Requirement already satisfied: requests in h:\\code\\python basic\\venv\\lib\\site-packages (2.31.0)\n",
      "Requirement already satisfied: charset-normalizer<4,>=2 in h:\\code\\python basic\\venv\\lib\\site-packages (from requests) (3.3.2)\n",
      "Requirement already satisfied: idna<4,>=2.5 in h:\\code\\python basic\\venv\\lib\\site-packages (from requests) (3.6)\n",
      "Requirement already satisfied: urllib3<3,>=1.21.1 in h:\\code\\python basic\\venv\\lib\\site-packages (from requests) (2.2.1)\n",
      "Requirement already satisfied: certifi>=2017.4.17 in h:\\code\\python basic\\venv\\lib\\site-packages (from requests) (2024.2.2)\n",
      "Note: you may need to restart the kernel to use updated packages.\n"
     ]
    },
    {
     "name": "stderr",
     "output_type": "stream",
     "text": [
      "\n",
      "[notice] A new release of pip is available: 23.3.2 -> 24.0\n",
      "[notice] To update, run: python.exe -m pip install --upgrade pip\n"
     ]
    }
   ],
   "source": [
    "pip install requests"
   ]
  },
  {
   "cell_type": "code",
   "execution_count": 12,
   "metadata": {},
   "outputs": [
    {
     "name": "stdout",
     "output_type": "stream",
     "text": [
      "<?xml version =\"1.0\" encoding=\"UTF-8\" ?>\n",
      "<사용자정보>\n",
      "    <이름>홍길동</이름>\n",
      "    <나이>25</나이>\n",
      "    <거주지>서울</거주지>\n",
      "    <신체정보>\n",
      "        <키 unit = \"cm\">175.4</키>\n",
      "        <몸무게 unit = \"kg\">71.2</몸무게>\n",
      "    </신체정보>\n",
      "    <취미>등산</취미>\n",
      "    <취미>자전거타기</취미>\n",
      "    <취미>독서</취미>\n",
      "</사용자정보>\n",
      "\n"
     ]
    }
   ],
   "source": [
    "xml_data = \"\"\"<?xml version =\"1.0\" encoding=\"UTF-8\" ?>\n",
    "<사용자정보>\n",
    "    <이름>홍길동</이름>\n",
    "    <나이>25</나이>\n",
    "    <거주지>서울</거주지>\n",
    "    <신체정보>\n",
    "        <키 unit = \"cm\">175.4</키>\n",
    "        <몸무게 unit = \"kg\">71.2</몸무게>\n",
    "    </신체정보>\n",
    "    <취미>등산</취미>\n",
    "    <취미>자전거타기</취미>\n",
    "    <취미>독서</취미>\n",
    "</사용자정보>\n",
    "\"\"\"\n",
    "\n",
    "print(xml_data)"
   ]
  },
  {
   "cell_type": "code",
   "execution_count": 13,
   "metadata": {},
   "outputs": [],
   "source": [
    "#딕셔너리 형식으로 변환"
   ]
  },
  {
   "cell_type": "code",
   "execution_count": 14,
   "metadata": {},
   "outputs": [
    {
     "data": {
      "text/plain": [
       "{'사용자정보': {'이름': '홍길동',\n",
       "  '나이': '25',\n",
       "  '거주지': '서울',\n",
       "  '신체정보': {'키': {'@unit': 'cm', '#text': '175.4'},\n",
       "   '몸무게': {'@unit': 'kg', '#text': '71.2'}},\n",
       "  '취미': ['등산', '자전거타기', '독서']}}"
      ]
     },
     "execution_count": 14,
     "metadata": {},
     "output_type": "execute_result"
    }
   ],
   "source": [
    "import xmltodict\n",
    "\n",
    "dict_data = xmltodict.parse(xml_data, xml_attribs=True)\n",
    "dict_data"
   ]
  },
  {
   "cell_type": "code",
   "execution_count": 15,
   "metadata": {},
   "outputs": [
    {
     "data": {
      "text/plain": [
       "'홍길동'"
      ]
     },
     "execution_count": 15,
     "metadata": {},
     "output_type": "execute_result"
    }
   ],
   "source": [
    "dict_data['사용자정보']['이름']"
   ]
  },
  {
   "cell_type": "code",
   "execution_count": 16,
   "metadata": {},
   "outputs": [
    {
     "data": {
      "text/plain": [
       "{'키': {'@unit': 'cm', '#text': '175.4'},\n",
       " '몸무게': {'@unit': 'kg', '#text': '71.2'}}"
      ]
     },
     "execution_count": 16,
     "metadata": {},
     "output_type": "execute_result"
    }
   ],
   "source": [
    "dict_data['사용자정보']['신체정보']"
   ]
  },
  {
   "cell_type": "code",
   "execution_count": 17,
   "metadata": {},
   "outputs": [
    {
     "data": {
      "text/plain": [
       "'cm'"
      ]
     },
     "execution_count": 17,
     "metadata": {},
     "output_type": "execute_result"
    }
   ],
   "source": [
    "dict_data['사용자정보']['신체정보']['키']['@unit']"
   ]
  },
  {
   "cell_type": "code",
   "execution_count": 18,
   "metadata": {},
   "outputs": [
    {
     "data": {
      "text/plain": [
       "'175.4'"
      ]
     },
     "execution_count": 18,
     "metadata": {},
     "output_type": "execute_result"
    }
   ],
   "source": [
    "dict_data['사용자정보']['신체정보']['키']['#text']"
   ]
  },
  {
   "cell_type": "code",
   "execution_count": 19,
   "metadata": {},
   "outputs": [],
   "source": [
    "#XML 형식의 데이터에서  원하는데이터 추출 활용방법"
   ]
  },
  {
   "cell_type": "code",
   "execution_count": 20,
   "metadata": {},
   "outputs": [
    {
     "name": "stdout",
     "output_type": "stream",
     "text": [
      "[사용자 홍길동의 신체정보]\n",
      "*키: 175.4cm\n",
      "*몸무게: 71.2kg\n"
     ]
    }
   ],
   "source": [
    "import xmltodict\n",
    "\n",
    "dict_data =xmltodict.parse (xml_data)\n",
    "\n",
    "user_name = dict_data['사용자정보']['이름']\n",
    "body_data = dict_data['사용자정보']['신체정보']\n",
    "\n",
    "height = body_data['키']['#text']\n",
    "height_unit = body_data['키']['@unit']\n",
    "\n",
    "weight = body_data['몸무게']['#text']\n",
    "weight_unit = body_data['몸무게']['@unit']\n",
    "\n",
    "print((\"[사용자 {0}의 신체정보]\").format(user_name))\n",
    "print(\"*키: {0}{1}\".format(height, height_unit))\n",
    "print(\"*몸무게: {0}{1}\".format(weight,weight_unit))\n",
    "\n",
    "\n",
    "\n",
    "\n",
    "\n",
    "\n",
    "\n",
    "\n"
   ]
  },
  {
   "cell_type": "code",
   "execution_count": 21,
   "metadata": {},
   "outputs": [
    {
     "data": {
      "text/plain": [
       "{'사용자정보': {'이름': '홍길동',\n",
       "  '나이': '25',\n",
       "  '거주지': '서울',\n",
       "  '신체정보': {'키': '175.4', '몸무게': '71.2'},\n",
       "  '취미': ['등산', '자전거타기', '독서']}}"
      ]
     },
     "execution_count": 21,
     "metadata": {},
     "output_type": "execute_result"
    }
   ],
   "source": [
    "dict_data2 = xmltodict.parse(xml_data, xml_attribs=False) # xml데이터를 딕셔너리로 변환\n",
    "dict_data2"
   ]
  },
  {
   "cell_type": "code",
   "execution_count": 22,
   "metadata": {},
   "outputs": [],
   "source": [
    "#웹사이트 주소에 부가정보 추가"
   ]
  },
  {
   "cell_type": "code",
   "execution_count": 23,
   "metadata": {},
   "outputs": [
    {
     "name": "stdout",
     "output_type": "stream",
     "text": [
      "https://api.github.comevents\n"
     ]
    }
   ],
   "source": [
    "base_url  = \"https://api.github.com\"\n",
    "sub_dir = \"events\"\n",
    "url = base_url + sub_dir\n",
    "print(url)"
   ]
  },
  {
   "cell_type": "code",
   "execution_count": 24,
   "metadata": {},
   "outputs": [
    {
     "name": "stdout",
     "output_type": "stream",
     "text": [
      "https://api.github.com/events\n",
      "https://api.github.com/user\n",
      "https://api.github.com/emails\n"
     ]
    }
   ],
   "source": [
    "import requests\n",
    "\n",
    "base_url = \"https://api.github.com/\"\n",
    "sub_dirs = [\"events\", \"user\", \"emails\"]\n",
    "\n",
    "for sub_dir in sub_dirs:\n",
    "    url_dir = base_url + sub_dir\n",
    "    r = requests.get(url_dir)\n",
    "    print(r.url)\n"
   ]
  },
  {
   "cell_type": "code",
   "execution_count": 25,
   "metadata": {},
   "outputs": [],
   "source": [
    "#웹사이트에 매개변수 추가하기"
   ]
  },
  {
   "cell_type": "code",
   "execution_count": 26,
   "metadata": {},
   "outputs": [
    {
     "name": "stdout",
     "output_type": "stream",
     "text": [
      "http://api.openweathermap.org/data/2.5/weather?lat=37.57&lon=126.98&appid=b235c57pc357fb68acr1e81&units=metric\n"
     ]
    }
   ],
   "source": [
    "import requests\n",
    "\n",
    "LAT = '37.57'\n",
    "LON = '126.98'\n",
    "API_KEY ='b235c57pc357fb68acr1e81'\n",
    "UNIT = 'metric'\n",
    "\n",
    "site_url = \"http://api.openweathermap.org/data/2.5/weather\"\n",
    "parameter = \"?lat=%s&lon=%s&appid=%s&units=%s\"%(LAT, LON, API_KEY, UNIT)\n",
    "url_para = site_url + parameter\n",
    "r = requests.get(url_para)\n",
    "\n",
    "print(r.url)"
   ]
  },
  {
   "cell_type": "code",
   "execution_count": 27,
   "metadata": {},
   "outputs": [
    {
     "name": "stdout",
     "output_type": "stream",
     "text": [
      "http://api.openweathermap.org/data/2.5/weather?lat=37.57&lon=126.98&appid=b235c57pc357fb68acr1e81&units=metric\n"
     ]
    }
   ],
   "source": [
    "#url 요청주소와 매개변수 분리\n",
    "\n",
    "import requests\n",
    "\n",
    "LAT = '37.57'\n",
    "LON = '126.98'\n",
    "API_KEY ='b235c57pc357fb68acr1e81'\n",
    "UNIT = 'metric'\n",
    "\n",
    "req_url = \"http://api.openweathermap.org/data/2.5/weather\"\n",
    "req_parameter = {\"lat\":LAT, \"lon\":LON, \"appid\": API_KEY, \"units\":UNIT}\n",
    "r = requests.get(req_url, params=req_parameter)\n",
    "\n",
    "print(r.url)"
   ]
  },
  {
   "cell_type": "code",
   "execution_count": 28,
   "metadata": {},
   "outputs": [],
   "source": [
    "#웹사이트 주소의 인코딩 디코딩"
   ]
  },
  {
   "cell_type": "code",
   "execution_count": 29,
   "metadata": {},
   "outputs": [
    {
     "ename": "ConnectionError",
     "evalue": "HTTPSConnectionPool(host='api.open-notify.org', port=443): Max retries exceeded with url: /iss-now.json (Caused by NewConnectionError('<urllib3.connection.HTTPSConnection object at 0x0000019F5A48F830>: Failed to establish a new connection: [WinError 10061] 대상 컴퓨터에서 연결을 거부했으므로 연결하지 못했습니다'))",
     "output_type": "error",
     "traceback": [
      "\u001b[1;31m---------------------------------------------------------------------------\u001b[0m",
      "\u001b[1;31mConnectionRefusedError\u001b[0m                    Traceback (most recent call last)",
      "File \u001b[1;32mh:\\code\\python basic\\venv\\Lib\\site-packages\\urllib3\\connection.py:198\u001b[0m, in \u001b[0;36mHTTPConnection._new_conn\u001b[1;34m(self)\u001b[0m\n\u001b[0;32m    197\u001b[0m \u001b[38;5;28;01mtry\u001b[39;00m:\n\u001b[1;32m--> 198\u001b[0m     sock \u001b[38;5;241m=\u001b[39m \u001b[43mconnection\u001b[49m\u001b[38;5;241;43m.\u001b[39;49m\u001b[43mcreate_connection\u001b[49m\u001b[43m(\u001b[49m\n\u001b[0;32m    199\u001b[0m \u001b[43m        \u001b[49m\u001b[43m(\u001b[49m\u001b[38;5;28;43mself\u001b[39;49m\u001b[38;5;241;43m.\u001b[39;49m\u001b[43m_dns_host\u001b[49m\u001b[43m,\u001b[49m\u001b[43m \u001b[49m\u001b[38;5;28;43mself\u001b[39;49m\u001b[38;5;241;43m.\u001b[39;49m\u001b[43mport\u001b[49m\u001b[43m)\u001b[49m\u001b[43m,\u001b[49m\n\u001b[0;32m    200\u001b[0m \u001b[43m        \u001b[49m\u001b[38;5;28;43mself\u001b[39;49m\u001b[38;5;241;43m.\u001b[39;49m\u001b[43mtimeout\u001b[49m\u001b[43m,\u001b[49m\n\u001b[0;32m    201\u001b[0m \u001b[43m        \u001b[49m\u001b[43msource_address\u001b[49m\u001b[38;5;241;43m=\u001b[39;49m\u001b[38;5;28;43mself\u001b[39;49m\u001b[38;5;241;43m.\u001b[39;49m\u001b[43msource_address\u001b[49m\u001b[43m,\u001b[49m\n\u001b[0;32m    202\u001b[0m \u001b[43m        \u001b[49m\u001b[43msocket_options\u001b[49m\u001b[38;5;241;43m=\u001b[39;49m\u001b[38;5;28;43mself\u001b[39;49m\u001b[38;5;241;43m.\u001b[39;49m\u001b[43msocket_options\u001b[49m\u001b[43m,\u001b[49m\n\u001b[0;32m    203\u001b[0m \u001b[43m    \u001b[49m\u001b[43m)\u001b[49m\n\u001b[0;32m    204\u001b[0m \u001b[38;5;28;01mexcept\u001b[39;00m socket\u001b[38;5;241m.\u001b[39mgaierror \u001b[38;5;28;01mas\u001b[39;00m e:\n",
      "File \u001b[1;32mh:\\code\\python basic\\venv\\Lib\\site-packages\\urllib3\\util\\connection.py:85\u001b[0m, in \u001b[0;36mcreate_connection\u001b[1;34m(address, timeout, source_address, socket_options)\u001b[0m\n\u001b[0;32m     84\u001b[0m \u001b[38;5;28;01mtry\u001b[39;00m:\n\u001b[1;32m---> 85\u001b[0m     \u001b[38;5;28;01mraise\u001b[39;00m err\n\u001b[0;32m     86\u001b[0m \u001b[38;5;28;01mfinally\u001b[39;00m:\n\u001b[0;32m     87\u001b[0m     \u001b[38;5;66;03m# Break explicitly a reference cycle\u001b[39;00m\n",
      "File \u001b[1;32mh:\\code\\python basic\\venv\\Lib\\site-packages\\urllib3\\util\\connection.py:73\u001b[0m, in \u001b[0;36mcreate_connection\u001b[1;34m(address, timeout, source_address, socket_options)\u001b[0m\n\u001b[0;32m     72\u001b[0m     sock\u001b[38;5;241m.\u001b[39mbind(source_address)\n\u001b[1;32m---> 73\u001b[0m \u001b[43msock\u001b[49m\u001b[38;5;241;43m.\u001b[39;49m\u001b[43mconnect\u001b[49m\u001b[43m(\u001b[49m\u001b[43msa\u001b[49m\u001b[43m)\u001b[49m\n\u001b[0;32m     74\u001b[0m \u001b[38;5;66;03m# Break explicitly a reference cycle\u001b[39;00m\n",
      "\u001b[1;31mConnectionRefusedError\u001b[0m: [WinError 10061] 대상 컴퓨터에서 연결을 거부했으므로 연결하지 못했습니다",
      "\nThe above exception was the direct cause of the following exception:\n",
      "\u001b[1;31mNewConnectionError\u001b[0m                        Traceback (most recent call last)",
      "File \u001b[1;32mh:\\code\\python basic\\venv\\Lib\\site-packages\\urllib3\\connectionpool.py:793\u001b[0m, in \u001b[0;36mHTTPConnectionPool.urlopen\u001b[1;34m(self, method, url, body, headers, retries, redirect, assert_same_host, timeout, pool_timeout, release_conn, chunked, body_pos, preload_content, decode_content, **response_kw)\u001b[0m\n\u001b[0;32m    792\u001b[0m \u001b[38;5;66;03m# Make the request on the HTTPConnection object\u001b[39;00m\n\u001b[1;32m--> 793\u001b[0m response \u001b[38;5;241m=\u001b[39m \u001b[38;5;28;43mself\u001b[39;49m\u001b[38;5;241;43m.\u001b[39;49m\u001b[43m_make_request\u001b[49m\u001b[43m(\u001b[49m\n\u001b[0;32m    794\u001b[0m \u001b[43m    \u001b[49m\u001b[43mconn\u001b[49m\u001b[43m,\u001b[49m\n\u001b[0;32m    795\u001b[0m \u001b[43m    \u001b[49m\u001b[43mmethod\u001b[49m\u001b[43m,\u001b[49m\n\u001b[0;32m    796\u001b[0m \u001b[43m    \u001b[49m\u001b[43murl\u001b[49m\u001b[43m,\u001b[49m\n\u001b[0;32m    797\u001b[0m \u001b[43m    \u001b[49m\u001b[43mtimeout\u001b[49m\u001b[38;5;241;43m=\u001b[39;49m\u001b[43mtimeout_obj\u001b[49m\u001b[43m,\u001b[49m\n\u001b[0;32m    798\u001b[0m \u001b[43m    \u001b[49m\u001b[43mbody\u001b[49m\u001b[38;5;241;43m=\u001b[39;49m\u001b[43mbody\u001b[49m\u001b[43m,\u001b[49m\n\u001b[0;32m    799\u001b[0m \u001b[43m    \u001b[49m\u001b[43mheaders\u001b[49m\u001b[38;5;241;43m=\u001b[39;49m\u001b[43mheaders\u001b[49m\u001b[43m,\u001b[49m\n\u001b[0;32m    800\u001b[0m \u001b[43m    \u001b[49m\u001b[43mchunked\u001b[49m\u001b[38;5;241;43m=\u001b[39;49m\u001b[43mchunked\u001b[49m\u001b[43m,\u001b[49m\n\u001b[0;32m    801\u001b[0m \u001b[43m    \u001b[49m\u001b[43mretries\u001b[49m\u001b[38;5;241;43m=\u001b[39;49m\u001b[43mretries\u001b[49m\u001b[43m,\u001b[49m\n\u001b[0;32m    802\u001b[0m \u001b[43m    \u001b[49m\u001b[43mresponse_conn\u001b[49m\u001b[38;5;241;43m=\u001b[39;49m\u001b[43mresponse_conn\u001b[49m\u001b[43m,\u001b[49m\n\u001b[0;32m    803\u001b[0m \u001b[43m    \u001b[49m\u001b[43mpreload_content\u001b[49m\u001b[38;5;241;43m=\u001b[39;49m\u001b[43mpreload_content\u001b[49m\u001b[43m,\u001b[49m\n\u001b[0;32m    804\u001b[0m \u001b[43m    \u001b[49m\u001b[43mdecode_content\u001b[49m\u001b[38;5;241;43m=\u001b[39;49m\u001b[43mdecode_content\u001b[49m\u001b[43m,\u001b[49m\n\u001b[0;32m    805\u001b[0m \u001b[43m    \u001b[49m\u001b[38;5;241;43m*\u001b[39;49m\u001b[38;5;241;43m*\u001b[39;49m\u001b[43mresponse_kw\u001b[49m\u001b[43m,\u001b[49m\n\u001b[0;32m    806\u001b[0m \u001b[43m\u001b[49m\u001b[43m)\u001b[49m\n\u001b[0;32m    808\u001b[0m \u001b[38;5;66;03m# Everything went great!\u001b[39;00m\n",
      "File \u001b[1;32mh:\\code\\python basic\\venv\\Lib\\site-packages\\urllib3\\connectionpool.py:491\u001b[0m, in \u001b[0;36mHTTPConnectionPool._make_request\u001b[1;34m(self, conn, method, url, body, headers, retries, timeout, chunked, response_conn, preload_content, decode_content, enforce_content_length)\u001b[0m\n\u001b[0;32m    490\u001b[0m         new_e \u001b[38;5;241m=\u001b[39m _wrap_proxy_error(new_e, conn\u001b[38;5;241m.\u001b[39mproxy\u001b[38;5;241m.\u001b[39mscheme)\n\u001b[1;32m--> 491\u001b[0m     \u001b[38;5;28;01mraise\u001b[39;00m new_e\n\u001b[0;32m    493\u001b[0m \u001b[38;5;66;03m# conn.request() calls http.client.*.request, not the method in\u001b[39;00m\n\u001b[0;32m    494\u001b[0m \u001b[38;5;66;03m# urllib3.request. It also calls makefile (recv) on the socket.\u001b[39;00m\n",
      "File \u001b[1;32mh:\\code\\python basic\\venv\\Lib\\site-packages\\urllib3\\connectionpool.py:467\u001b[0m, in \u001b[0;36mHTTPConnectionPool._make_request\u001b[1;34m(self, conn, method, url, body, headers, retries, timeout, chunked, response_conn, preload_content, decode_content, enforce_content_length)\u001b[0m\n\u001b[0;32m    466\u001b[0m \u001b[38;5;28;01mtry\u001b[39;00m:\n\u001b[1;32m--> 467\u001b[0m     \u001b[38;5;28;43mself\u001b[39;49m\u001b[38;5;241;43m.\u001b[39;49m\u001b[43m_validate_conn\u001b[49m\u001b[43m(\u001b[49m\u001b[43mconn\u001b[49m\u001b[43m)\u001b[49m\n\u001b[0;32m    468\u001b[0m \u001b[38;5;28;01mexcept\u001b[39;00m (SocketTimeout, BaseSSLError) \u001b[38;5;28;01mas\u001b[39;00m e:\n",
      "File \u001b[1;32mh:\\code\\python basic\\venv\\Lib\\site-packages\\urllib3\\connectionpool.py:1099\u001b[0m, in \u001b[0;36mHTTPSConnectionPool._validate_conn\u001b[1;34m(self, conn)\u001b[0m\n\u001b[0;32m   1098\u001b[0m \u001b[38;5;28;01mif\u001b[39;00m conn\u001b[38;5;241m.\u001b[39mis_closed:\n\u001b[1;32m-> 1099\u001b[0m     \u001b[43mconn\u001b[49m\u001b[38;5;241;43m.\u001b[39;49m\u001b[43mconnect\u001b[49m\u001b[43m(\u001b[49m\u001b[43m)\u001b[49m\n\u001b[0;32m   1101\u001b[0m \u001b[38;5;66;03m# TODO revise this, see https://github.com/urllib3/urllib3/issues/2791\u001b[39;00m\n",
      "File \u001b[1;32mh:\\code\\python basic\\venv\\Lib\\site-packages\\urllib3\\connection.py:616\u001b[0m, in \u001b[0;36mHTTPSConnection.connect\u001b[1;34m(self)\u001b[0m\n\u001b[0;32m    615\u001b[0m sock: socket\u001b[38;5;241m.\u001b[39msocket \u001b[38;5;241m|\u001b[39m ssl\u001b[38;5;241m.\u001b[39mSSLSocket\n\u001b[1;32m--> 616\u001b[0m \u001b[38;5;28mself\u001b[39m\u001b[38;5;241m.\u001b[39msock \u001b[38;5;241m=\u001b[39m sock \u001b[38;5;241m=\u001b[39m \u001b[38;5;28;43mself\u001b[39;49m\u001b[38;5;241;43m.\u001b[39;49m\u001b[43m_new_conn\u001b[49m\u001b[43m(\u001b[49m\u001b[43m)\u001b[49m\n\u001b[0;32m    617\u001b[0m server_hostname: \u001b[38;5;28mstr\u001b[39m \u001b[38;5;241m=\u001b[39m \u001b[38;5;28mself\u001b[39m\u001b[38;5;241m.\u001b[39mhost\n",
      "File \u001b[1;32mh:\\code\\python basic\\venv\\Lib\\site-packages\\urllib3\\connection.py:213\u001b[0m, in \u001b[0;36mHTTPConnection._new_conn\u001b[1;34m(self)\u001b[0m\n\u001b[0;32m    212\u001b[0m \u001b[38;5;28;01mexcept\u001b[39;00m \u001b[38;5;167;01mOSError\u001b[39;00m \u001b[38;5;28;01mas\u001b[39;00m e:\n\u001b[1;32m--> 213\u001b[0m     \u001b[38;5;28;01mraise\u001b[39;00m NewConnectionError(\n\u001b[0;32m    214\u001b[0m         \u001b[38;5;28mself\u001b[39m, \u001b[38;5;124mf\u001b[39m\u001b[38;5;124m\"\u001b[39m\u001b[38;5;124mFailed to establish a new connection: \u001b[39m\u001b[38;5;132;01m{\u001b[39;00me\u001b[38;5;132;01m}\u001b[39;00m\u001b[38;5;124m\"\u001b[39m\n\u001b[0;32m    215\u001b[0m     ) \u001b[38;5;28;01mfrom\u001b[39;00m \u001b[38;5;21;01me\u001b[39;00m\n\u001b[0;32m    217\u001b[0m \u001b[38;5;66;03m# Audit hooks are only available in Python 3.8+\u001b[39;00m\n",
      "\u001b[1;31mNewConnectionError\u001b[0m: <urllib3.connection.HTTPSConnection object at 0x0000019F5A48F830>: Failed to establish a new connection: [WinError 10061] 대상 컴퓨터에서 연결을 거부했으므로 연결하지 못했습니다",
      "\nThe above exception was the direct cause of the following exception:\n",
      "\u001b[1;31mMaxRetryError\u001b[0m                             Traceback (most recent call last)",
      "File \u001b[1;32mh:\\code\\python basic\\venv\\Lib\\site-packages\\requests\\adapters.py:486\u001b[0m, in \u001b[0;36mHTTPAdapter.send\u001b[1;34m(self, request, stream, timeout, verify, cert, proxies)\u001b[0m\n\u001b[0;32m    485\u001b[0m \u001b[38;5;28;01mtry\u001b[39;00m:\n\u001b[1;32m--> 486\u001b[0m     resp \u001b[38;5;241m=\u001b[39m \u001b[43mconn\u001b[49m\u001b[38;5;241;43m.\u001b[39;49m\u001b[43murlopen\u001b[49m\u001b[43m(\u001b[49m\n\u001b[0;32m    487\u001b[0m \u001b[43m        \u001b[49m\u001b[43mmethod\u001b[49m\u001b[38;5;241;43m=\u001b[39;49m\u001b[43mrequest\u001b[49m\u001b[38;5;241;43m.\u001b[39;49m\u001b[43mmethod\u001b[49m\u001b[43m,\u001b[49m\n\u001b[0;32m    488\u001b[0m \u001b[43m        \u001b[49m\u001b[43murl\u001b[49m\u001b[38;5;241;43m=\u001b[39;49m\u001b[43murl\u001b[49m\u001b[43m,\u001b[49m\n\u001b[0;32m    489\u001b[0m \u001b[43m        \u001b[49m\u001b[43mbody\u001b[49m\u001b[38;5;241;43m=\u001b[39;49m\u001b[43mrequest\u001b[49m\u001b[38;5;241;43m.\u001b[39;49m\u001b[43mbody\u001b[49m\u001b[43m,\u001b[49m\n\u001b[0;32m    490\u001b[0m \u001b[43m        \u001b[49m\u001b[43mheaders\u001b[49m\u001b[38;5;241;43m=\u001b[39;49m\u001b[43mrequest\u001b[49m\u001b[38;5;241;43m.\u001b[39;49m\u001b[43mheaders\u001b[49m\u001b[43m,\u001b[49m\n\u001b[0;32m    491\u001b[0m \u001b[43m        \u001b[49m\u001b[43mredirect\u001b[49m\u001b[38;5;241;43m=\u001b[39;49m\u001b[38;5;28;43;01mFalse\u001b[39;49;00m\u001b[43m,\u001b[49m\n\u001b[0;32m    492\u001b[0m \u001b[43m        \u001b[49m\u001b[43massert_same_host\u001b[49m\u001b[38;5;241;43m=\u001b[39;49m\u001b[38;5;28;43;01mFalse\u001b[39;49;00m\u001b[43m,\u001b[49m\n\u001b[0;32m    493\u001b[0m \u001b[43m        \u001b[49m\u001b[43mpreload_content\u001b[49m\u001b[38;5;241;43m=\u001b[39;49m\u001b[38;5;28;43;01mFalse\u001b[39;49;00m\u001b[43m,\u001b[49m\n\u001b[0;32m    494\u001b[0m \u001b[43m        \u001b[49m\u001b[43mdecode_content\u001b[49m\u001b[38;5;241;43m=\u001b[39;49m\u001b[38;5;28;43;01mFalse\u001b[39;49;00m\u001b[43m,\u001b[49m\n\u001b[0;32m    495\u001b[0m \u001b[43m        \u001b[49m\u001b[43mretries\u001b[49m\u001b[38;5;241;43m=\u001b[39;49m\u001b[38;5;28;43mself\u001b[39;49m\u001b[38;5;241;43m.\u001b[39;49m\u001b[43mmax_retries\u001b[49m\u001b[43m,\u001b[49m\n\u001b[0;32m    496\u001b[0m \u001b[43m        \u001b[49m\u001b[43mtimeout\u001b[49m\u001b[38;5;241;43m=\u001b[39;49m\u001b[43mtimeout\u001b[49m\u001b[43m,\u001b[49m\n\u001b[0;32m    497\u001b[0m \u001b[43m        \u001b[49m\u001b[43mchunked\u001b[49m\u001b[38;5;241;43m=\u001b[39;49m\u001b[43mchunked\u001b[49m\u001b[43m,\u001b[49m\n\u001b[0;32m    498\u001b[0m \u001b[43m    \u001b[49m\u001b[43m)\u001b[49m\n\u001b[0;32m    500\u001b[0m \u001b[38;5;28;01mexcept\u001b[39;00m (ProtocolError, \u001b[38;5;167;01mOSError\u001b[39;00m) \u001b[38;5;28;01mas\u001b[39;00m err:\n",
      "File \u001b[1;32mh:\\code\\python basic\\venv\\Lib\\site-packages\\urllib3\\connectionpool.py:847\u001b[0m, in \u001b[0;36mHTTPConnectionPool.urlopen\u001b[1;34m(self, method, url, body, headers, retries, redirect, assert_same_host, timeout, pool_timeout, release_conn, chunked, body_pos, preload_content, decode_content, **response_kw)\u001b[0m\n\u001b[0;32m    845\u001b[0m     new_e \u001b[38;5;241m=\u001b[39m ProtocolError(\u001b[38;5;124m\"\u001b[39m\u001b[38;5;124mConnection aborted.\u001b[39m\u001b[38;5;124m\"\u001b[39m, new_e)\n\u001b[1;32m--> 847\u001b[0m retries \u001b[38;5;241m=\u001b[39m \u001b[43mretries\u001b[49m\u001b[38;5;241;43m.\u001b[39;49m\u001b[43mincrement\u001b[49m\u001b[43m(\u001b[49m\n\u001b[0;32m    848\u001b[0m \u001b[43m    \u001b[49m\u001b[43mmethod\u001b[49m\u001b[43m,\u001b[49m\u001b[43m \u001b[49m\u001b[43murl\u001b[49m\u001b[43m,\u001b[49m\u001b[43m \u001b[49m\u001b[43merror\u001b[49m\u001b[38;5;241;43m=\u001b[39;49m\u001b[43mnew_e\u001b[49m\u001b[43m,\u001b[49m\u001b[43m \u001b[49m\u001b[43m_pool\u001b[49m\u001b[38;5;241;43m=\u001b[39;49m\u001b[38;5;28;43mself\u001b[39;49m\u001b[43m,\u001b[49m\u001b[43m \u001b[49m\u001b[43m_stacktrace\u001b[49m\u001b[38;5;241;43m=\u001b[39;49m\u001b[43msys\u001b[49m\u001b[38;5;241;43m.\u001b[39;49m\u001b[43mexc_info\u001b[49m\u001b[43m(\u001b[49m\u001b[43m)\u001b[49m\u001b[43m[\u001b[49m\u001b[38;5;241;43m2\u001b[39;49m\u001b[43m]\u001b[49m\n\u001b[0;32m    849\u001b[0m \u001b[43m\u001b[49m\u001b[43m)\u001b[49m\n\u001b[0;32m    850\u001b[0m retries\u001b[38;5;241m.\u001b[39msleep()\n",
      "File \u001b[1;32mh:\\code\\python basic\\venv\\Lib\\site-packages\\urllib3\\util\\retry.py:515\u001b[0m, in \u001b[0;36mRetry.increment\u001b[1;34m(self, method, url, response, error, _pool, _stacktrace)\u001b[0m\n\u001b[0;32m    514\u001b[0m     reason \u001b[38;5;241m=\u001b[39m error \u001b[38;5;129;01mor\u001b[39;00m ResponseError(cause)\n\u001b[1;32m--> 515\u001b[0m     \u001b[38;5;28;01mraise\u001b[39;00m MaxRetryError(_pool, url, reason) \u001b[38;5;28;01mfrom\u001b[39;00m \u001b[38;5;21;01mreason\u001b[39;00m  \u001b[38;5;66;03m# type: ignore[arg-type]\u001b[39;00m\n\u001b[0;32m    517\u001b[0m log\u001b[38;5;241m.\u001b[39mdebug(\u001b[38;5;124m\"\u001b[39m\u001b[38;5;124mIncremented Retry for (url=\u001b[39m\u001b[38;5;124m'\u001b[39m\u001b[38;5;132;01m%s\u001b[39;00m\u001b[38;5;124m'\u001b[39m\u001b[38;5;124m): \u001b[39m\u001b[38;5;132;01m%r\u001b[39;00m\u001b[38;5;124m\"\u001b[39m, url, new_retry)\n",
      "\u001b[1;31mMaxRetryError\u001b[0m: HTTPSConnectionPool(host='api.open-notify.org', port=443): Max retries exceeded with url: /iss-now.json (Caused by NewConnectionError('<urllib3.connection.HTTPSConnection object at 0x0000019F5A48F830>: Failed to establish a new connection: [WinError 10061] 대상 컴퓨터에서 연결을 거부했으므로 연결하지 못했습니다'))",
      "\nDuring handling of the above exception, another exception occurred:\n",
      "\u001b[1;31mConnectionError\u001b[0m                           Traceback (most recent call last)",
      "Cell \u001b[1;32mIn[29], line 7\u001b[0m\n\u001b[0;32m      3\u001b[0m \u001b[38;5;28;01mimport\u001b[39;00m \u001b[38;5;21;01mjson\u001b[39;00m\n\u001b[0;32m      5\u001b[0m url \u001b[38;5;241m=\u001b[39m \u001b[38;5;124m\"\u001b[39m\u001b[38;5;124mhttps://api.open-notify.org/iss-now.json\u001b[39m\u001b[38;5;124m\"\u001b[39m\n\u001b[1;32m----> 7\u001b[0m r \u001b[38;5;241m=\u001b[39m \u001b[43mrequests\u001b[49m\u001b[38;5;241;43m.\u001b[39;49m\u001b[43mget\u001b[49m\u001b[43m(\u001b[49m\u001b[43murl\u001b[49m\u001b[43m)\u001b[49m\n\u001b[0;32m      9\u001b[0m \u001b[38;5;28mprint\u001b[39m(r\u001b[38;5;241m.\u001b[39mtext)\n",
      "File \u001b[1;32mh:\\code\\python basic\\venv\\Lib\\site-packages\\requests\\api.py:73\u001b[0m, in \u001b[0;36mget\u001b[1;34m(url, params, **kwargs)\u001b[0m\n\u001b[0;32m     62\u001b[0m \u001b[38;5;28;01mdef\u001b[39;00m \u001b[38;5;21mget\u001b[39m(url, params\u001b[38;5;241m=\u001b[39m\u001b[38;5;28;01mNone\u001b[39;00m, \u001b[38;5;241m*\u001b[39m\u001b[38;5;241m*\u001b[39mkwargs):\n\u001b[0;32m     63\u001b[0m \u001b[38;5;250m    \u001b[39m\u001b[38;5;124mr\u001b[39m\u001b[38;5;124;03m\"\"\"Sends a GET request.\u001b[39;00m\n\u001b[0;32m     64\u001b[0m \n\u001b[0;32m     65\u001b[0m \u001b[38;5;124;03m    :param url: URL for the new :class:`Request` object.\u001b[39;00m\n\u001b[1;32m   (...)\u001b[0m\n\u001b[0;32m     70\u001b[0m \u001b[38;5;124;03m    :rtype: requests.Response\u001b[39;00m\n\u001b[0;32m     71\u001b[0m \u001b[38;5;124;03m    \"\"\"\u001b[39;00m\n\u001b[1;32m---> 73\u001b[0m     \u001b[38;5;28;01mreturn\u001b[39;00m \u001b[43mrequest\u001b[49m\u001b[43m(\u001b[49m\u001b[38;5;124;43m\"\u001b[39;49m\u001b[38;5;124;43mget\u001b[39;49m\u001b[38;5;124;43m\"\u001b[39;49m\u001b[43m,\u001b[49m\u001b[43m \u001b[49m\u001b[43murl\u001b[49m\u001b[43m,\u001b[49m\u001b[43m \u001b[49m\u001b[43mparams\u001b[49m\u001b[38;5;241;43m=\u001b[39;49m\u001b[43mparams\u001b[49m\u001b[43m,\u001b[49m\u001b[43m \u001b[49m\u001b[38;5;241;43m*\u001b[39;49m\u001b[38;5;241;43m*\u001b[39;49m\u001b[43mkwargs\u001b[49m\u001b[43m)\u001b[49m\n",
      "File \u001b[1;32mh:\\code\\python basic\\venv\\Lib\\site-packages\\requests\\api.py:59\u001b[0m, in \u001b[0;36mrequest\u001b[1;34m(method, url, **kwargs)\u001b[0m\n\u001b[0;32m     55\u001b[0m \u001b[38;5;66;03m# By using the 'with' statement we are sure the session is closed, thus we\u001b[39;00m\n\u001b[0;32m     56\u001b[0m \u001b[38;5;66;03m# avoid leaving sockets open which can trigger a ResourceWarning in some\u001b[39;00m\n\u001b[0;32m     57\u001b[0m \u001b[38;5;66;03m# cases, and look like a memory leak in others.\u001b[39;00m\n\u001b[0;32m     58\u001b[0m \u001b[38;5;28;01mwith\u001b[39;00m sessions\u001b[38;5;241m.\u001b[39mSession() \u001b[38;5;28;01mas\u001b[39;00m session:\n\u001b[1;32m---> 59\u001b[0m     \u001b[38;5;28;01mreturn\u001b[39;00m \u001b[43msession\u001b[49m\u001b[38;5;241;43m.\u001b[39;49m\u001b[43mrequest\u001b[49m\u001b[43m(\u001b[49m\u001b[43mmethod\u001b[49m\u001b[38;5;241;43m=\u001b[39;49m\u001b[43mmethod\u001b[49m\u001b[43m,\u001b[49m\u001b[43m \u001b[49m\u001b[43murl\u001b[49m\u001b[38;5;241;43m=\u001b[39;49m\u001b[43murl\u001b[49m\u001b[43m,\u001b[49m\u001b[43m \u001b[49m\u001b[38;5;241;43m*\u001b[39;49m\u001b[38;5;241;43m*\u001b[39;49m\u001b[43mkwargs\u001b[49m\u001b[43m)\u001b[49m\n",
      "File \u001b[1;32mh:\\code\\python basic\\venv\\Lib\\site-packages\\requests\\sessions.py:589\u001b[0m, in \u001b[0;36mSession.request\u001b[1;34m(self, method, url, params, data, headers, cookies, files, auth, timeout, allow_redirects, proxies, hooks, stream, verify, cert, json)\u001b[0m\n\u001b[0;32m    584\u001b[0m send_kwargs \u001b[38;5;241m=\u001b[39m {\n\u001b[0;32m    585\u001b[0m     \u001b[38;5;124m\"\u001b[39m\u001b[38;5;124mtimeout\u001b[39m\u001b[38;5;124m\"\u001b[39m: timeout,\n\u001b[0;32m    586\u001b[0m     \u001b[38;5;124m\"\u001b[39m\u001b[38;5;124mallow_redirects\u001b[39m\u001b[38;5;124m\"\u001b[39m: allow_redirects,\n\u001b[0;32m    587\u001b[0m }\n\u001b[0;32m    588\u001b[0m send_kwargs\u001b[38;5;241m.\u001b[39mupdate(settings)\n\u001b[1;32m--> 589\u001b[0m resp \u001b[38;5;241m=\u001b[39m \u001b[38;5;28;43mself\u001b[39;49m\u001b[38;5;241;43m.\u001b[39;49m\u001b[43msend\u001b[49m\u001b[43m(\u001b[49m\u001b[43mprep\u001b[49m\u001b[43m,\u001b[49m\u001b[43m \u001b[49m\u001b[38;5;241;43m*\u001b[39;49m\u001b[38;5;241;43m*\u001b[39;49m\u001b[43msend_kwargs\u001b[49m\u001b[43m)\u001b[49m\n\u001b[0;32m    591\u001b[0m \u001b[38;5;28;01mreturn\u001b[39;00m resp\n",
      "File \u001b[1;32mh:\\code\\python basic\\venv\\Lib\\site-packages\\requests\\sessions.py:703\u001b[0m, in \u001b[0;36mSession.send\u001b[1;34m(self, request, **kwargs)\u001b[0m\n\u001b[0;32m    700\u001b[0m start \u001b[38;5;241m=\u001b[39m preferred_clock()\n\u001b[0;32m    702\u001b[0m \u001b[38;5;66;03m# Send the request\u001b[39;00m\n\u001b[1;32m--> 703\u001b[0m r \u001b[38;5;241m=\u001b[39m \u001b[43madapter\u001b[49m\u001b[38;5;241;43m.\u001b[39;49m\u001b[43msend\u001b[49m\u001b[43m(\u001b[49m\u001b[43mrequest\u001b[49m\u001b[43m,\u001b[49m\u001b[43m \u001b[49m\u001b[38;5;241;43m*\u001b[39;49m\u001b[38;5;241;43m*\u001b[39;49m\u001b[43mkwargs\u001b[49m\u001b[43m)\u001b[49m\n\u001b[0;32m    705\u001b[0m \u001b[38;5;66;03m# Total elapsed time of the request (approximately)\u001b[39;00m\n\u001b[0;32m    706\u001b[0m elapsed \u001b[38;5;241m=\u001b[39m preferred_clock() \u001b[38;5;241m-\u001b[39m start\n",
      "File \u001b[1;32mh:\\code\\python basic\\venv\\Lib\\site-packages\\requests\\adapters.py:519\u001b[0m, in \u001b[0;36mHTTPAdapter.send\u001b[1;34m(self, request, stream, timeout, verify, cert, proxies)\u001b[0m\n\u001b[0;32m    515\u001b[0m     \u001b[38;5;28;01mif\u001b[39;00m \u001b[38;5;28misinstance\u001b[39m(e\u001b[38;5;241m.\u001b[39mreason, _SSLError):\n\u001b[0;32m    516\u001b[0m         \u001b[38;5;66;03m# This branch is for urllib3 v1.22 and later.\u001b[39;00m\n\u001b[0;32m    517\u001b[0m         \u001b[38;5;28;01mraise\u001b[39;00m SSLError(e, request\u001b[38;5;241m=\u001b[39mrequest)\n\u001b[1;32m--> 519\u001b[0m     \u001b[38;5;28;01mraise\u001b[39;00m \u001b[38;5;167;01mConnectionError\u001b[39;00m(e, request\u001b[38;5;241m=\u001b[39mrequest)\n\u001b[0;32m    521\u001b[0m \u001b[38;5;28;01mexcept\u001b[39;00m ClosedPoolError \u001b[38;5;28;01mas\u001b[39;00m e:\n\u001b[0;32m    522\u001b[0m     \u001b[38;5;28;01mraise\u001b[39;00m \u001b[38;5;167;01mConnectionError\u001b[39;00m(e, request\u001b[38;5;241m=\u001b[39mrequest)\n",
      "\u001b[1;31mConnectionError\u001b[0m: HTTPSConnectionPool(host='api.open-notify.org', port=443): Max retries exceeded with url: /iss-now.json (Caused by NewConnectionError('<urllib3.connection.HTTPSConnection object at 0x0000019F5A48F830>: Failed to establish a new connection: [WinError 10061] 대상 컴퓨터에서 연결을 거부했으므로 연결하지 못했습니다'))"
     ]
    }
   ],
   "source": [
    "#API 키를 사용하지않고 데이터 가져오기\n",
    "import requests\n",
    "import json\n",
    "\n",
    "url = \"https://api.open-notify.org/iss-now.json\"\n",
    "\n",
    "r = requests.get(url)\n",
    "\n",
    "print(r.text)"
   ]
  },
  {
   "cell_type": "code",
   "execution_count": null,
   "metadata": {},
   "outputs": [],
   "source": [
    "#국가정보 가져오기"
   ]
  },
  {
   "cell_type": "code",
   "execution_count": null,
   "metadata": {},
   "outputs": [
    {
     "name": "stdout",
     "output_type": "stream",
     "text": [
      "[{\"name\":{\"common\":\"South Korea\",\"official\":\"Republic of Korea\",\"nativeName\":{\"kor\":{\"official\":\"대한민국\",\"common\":\"한국\"}}},\"tld\":[\".kr\",\".한국\"],\"cca2\":\"KR\",\"ccn3\":\"410\",\"cca3\":\"KOR\",\"cioc\":\"KOR\",\"independent\":true,\"status\":\"officially-assigned\",\"unMember\":true,\"currencies\":{\"KRW\":{\"name\":\"South Korean won\",\"symbol\":\"₩\"}},\"idd\":{\"root\":\"+8\",\"suffixes\":[\"2\"]},\"capital\":[\"Seoul\"],\"altSpellings\":[\"KR\",\"Korea, Republic of\",\"Republic of Korea\",\"남한\",\"남조선\"],\"region\":\"Asia\",\"subregion\":\"Eastern Asia\",\"languages\":{\"kor\":\"Korean\"},\"translations\":{\"ara\":{\"official\":\"جمهورية كوريا\",\"common\":\"كوريا الجنوبية\"},\"bre\":{\"official\":\"Republik Korea\",\"common\":\"Korea ar Su\"},\"ces\":{\"official\":\"Korejská republika\",\"common\":\"Jižní Korea\"},\"cym\":{\"official\":\"Republic of Korea\",\"common\":\"South Korea\"},\"deu\":{\"official\":\"Republik Korea\",\"common\":\"Südkorea\"},\"est\":{\"official\":\"Korea Vabariik\",\"common\":\"Lõuna-Korea\"},\"fin\":{\"official\":\"Korean tasavalta\",\"common\":\"Etelä-Korea\"},\"fra\":{\"official\":\"République de Corée\",\"common\":\"Corée du Sud\"},\"hrv\":{\"official\":\"Republika Koreja\",\"common\":\"Južna Koreja\"},\"hun\":{\"official\":\"Koreai Köztársaság\",\"common\":\"Dél-Korea\"},\"ita\":{\"official\":\"Repubblica di Corea\",\"common\":\"Corea del Sud\"},\"jpn\":{\"official\":\"大韓民国\",\"common\":\"韓国\"},\"kor\":{\"official\":\"대한민국\",\"common\":\"한국\"},\"nld\":{\"official\":\"Republiek Korea\",\"common\":\"Zuid-Korea\"},\"per\":{\"official\":\"جمهوری کره\",\"common\":\"کرهٔ جنوبی\"},\"pol\":{\"official\":\"Republika Korei\",\"common\":\"Korea Południowa\"},\"por\":{\"official\":\"República da Coreia\",\"common\":\"Coreia do Sul\"},\"rus\":{\"official\":\"Республика Корея\",\"common\":\"Южная Корея\"},\"slk\":{\"official\":\"Kórejská republika\",\"common\":\"Južná Kórea\"},\"spa\":{\"official\":\"República de Corea\",\"common\":\"Corea del Sur\"},\"srp\":{\"official\":\"Република Кореја\",\"common\":\"Јужна Кореја\"},\"swe\":{\"official\":\"Republiken Korea\",\"common\":\"Sydkorea\"},\"tur\":{\"official\":\"Kore Cumhuriyeti\",\"common\":\"Güney Kore\"},\"urd\":{\"official\":\"جمہوریہ کوریا \",\"common\":\"جنوبی کوریا\"},\"zho\":{\"official\":\"大韩民国\",\"common\":\"韩国\"}},\"latlng\":[37.0,127.5],\"landlocked\":false,\"borders\":[\"PRK\"],\"area\":100210.0,\"demonyms\":{\"eng\":{\"f\":\"South Korean\",\"m\":\"South Korean\"},\"fra\":{\"f\":\"Sud-coréenne\",\"m\":\"Sud-coréen\"}},\"flag\":\"\\uD83C\\uDDF0\\uD83C\\uDDF7\",\"maps\":{\"googleMaps\":\"https://goo.gl/maps/7ecjaJXefjAQhxjGA\",\"openStreetMaps\":\"https://www.openstreetmap.org/relation/307756\"},\"population\":51780579,\"gini\":{\"2016\":31.4},\"fifa\":\"KOR\",\"car\":{\"signs\":[\"ROK\"],\"side\":\"right\"},\"timezones\":[\"UTC+09:00\"],\"continents\":[\"Asia\"],\"flags\":{\"png\":\"https://flagcdn.com/w320/kr.png\",\"svg\":\"https://flagcdn.com/kr.svg\",\"alt\":\"The flag of South Korea has a white field, at the center of which is a red and blue Taegeuk circle surrounded by four black trigrams, one in each corner.\"},\"coatOfArms\":{\"png\":\"https://mainfacts.com/media/images/coats_of_arms/kr.png\",\"svg\":\"https://mainfacts.com/media/images/coats_of_arms/kr.svg\"},\"startOfWeek\":\"monday\",\"capitalInfo\":{\"latlng\":[37.55,126.98]},\"postalCode\":{\"format\":\"SEOUL ###-###\",\"regex\":\"^(?:SEOUL)*(\\\\d{6})$\"}}]\n"
     ]
    }
   ],
   "source": [
    "import requests\n",
    "\n",
    "url_temp = \"https://restcountries.com/v3.1/name/\"\n",
    "contry = \"south Korea\"\n",
    "\n",
    "url = url_temp + contry\n",
    "\n",
    "r = requests.get(url)\n",
    "\n",
    "print (r.text)\n"
   ]
  },
  {
   "cell_type": "code",
   "execution_count": null,
   "metadata": {},
   "outputs": [
    {
     "data": {
      "text/plain": [
       "[{'name': {'common': 'South Korea',\n",
       "   'official': 'Republic of Korea',\n",
       "   'nativeName': {'kor': {'official': '대한민국', 'common': '한국'}}},\n",
       "  'tld': ['.kr', '.한국'],\n",
       "  'cca2': 'KR',\n",
       "  'ccn3': '410',\n",
       "  'cca3': 'KOR',\n",
       "  'cioc': 'KOR',\n",
       "  'independent': True,\n",
       "  'status': 'officially-assigned',\n",
       "  'unMember': True,\n",
       "  'currencies': {'KRW': {'name': 'South Korean won', 'symbol': '₩'}},\n",
       "  'idd': {'root': '+8', 'suffixes': ['2']},\n",
       "  'capital': ['Seoul'],\n",
       "  'altSpellings': ['KR',\n",
       "   'Korea, Republic of',\n",
       "   'Republic of Korea',\n",
       "   '남한',\n",
       "   '남조선'],\n",
       "  'region': 'Asia',\n",
       "  'subregion': 'Eastern Asia',\n",
       "  'languages': {'kor': 'Korean'},\n",
       "  'translations': {'ara': {'official': 'جمهورية كوريا',\n",
       "    'common': 'كوريا الجنوبية'},\n",
       "   'bre': {'official': 'Republik Korea', 'common': 'Korea ar Su'},\n",
       "   'ces': {'official': 'Korejská republika', 'common': 'Jižní Korea'},\n",
       "   'cym': {'official': 'Republic of Korea', 'common': 'South Korea'},\n",
       "   'deu': {'official': 'Republik Korea', 'common': 'Südkorea'},\n",
       "   'est': {'official': 'Korea Vabariik', 'common': 'Lõuna-Korea'},\n",
       "   'fin': {'official': 'Korean tasavalta', 'common': 'Etelä-Korea'},\n",
       "   'fra': {'official': 'République de Corée', 'common': 'Corée du Sud'},\n",
       "   'hrv': {'official': 'Republika Koreja', 'common': 'Južna Koreja'},\n",
       "   'hun': {'official': 'Koreai Köztársaság', 'common': 'Dél-Korea'},\n",
       "   'ita': {'official': 'Repubblica di Corea', 'common': 'Corea del Sud'},\n",
       "   'jpn': {'official': '大韓民国', 'common': '韓国'},\n",
       "   'kor': {'official': '대한민국', 'common': '한국'},\n",
       "   'nld': {'official': 'Republiek Korea', 'common': 'Zuid-Korea'},\n",
       "   'per': {'official': 'جمهوری کره', 'common': 'کرهٔ جنوبی'},\n",
       "   'pol': {'official': 'Republika Korei', 'common': 'Korea Południowa'},\n",
       "   'por': {'official': 'República da Coreia', 'common': 'Coreia do Sul'},\n",
       "   'rus': {'official': 'Республика Корея', 'common': 'Южная Корея'},\n",
       "   'slk': {'official': 'Kórejská republika', 'common': 'Južná Kórea'},\n",
       "   'spa': {'official': 'República de Corea', 'common': 'Corea del Sur'},\n",
       "   'srp': {'official': 'Република Кореја', 'common': 'Јужна Кореја'},\n",
       "   'swe': {'official': 'Republiken Korea', 'common': 'Sydkorea'},\n",
       "   'tur': {'official': 'Kore Cumhuriyeti', 'common': 'Güney Kore'},\n",
       "   'urd': {'official': 'جمہوریہ کوریا ', 'common': 'جنوبی کوریا'},\n",
       "   'zho': {'official': '大韩民国', 'common': '韩国'}},\n",
       "  'latlng': [37.0, 127.5],\n",
       "  'landlocked': False,\n",
       "  'borders': ['PRK'],\n",
       "  'area': 100210.0,\n",
       "  'demonyms': {'eng': {'f': 'South Korean', 'm': 'South Korean'},\n",
       "   'fra': {'f': 'Sud-coréenne', 'm': 'Sud-coréen'}},\n",
       "  'flag': '🇰🇷',\n",
       "  'maps': {'googleMaps': 'https://goo.gl/maps/7ecjaJXefjAQhxjGA',\n",
       "   'openStreetMaps': 'https://www.openstreetmap.org/relation/307756'},\n",
       "  'population': 51780579,\n",
       "  'gini': {'2016': 31.4},\n",
       "  'fifa': 'KOR',\n",
       "  'car': {'signs': ['ROK'], 'side': 'right'},\n",
       "  'timezones': ['UTC+09:00'],\n",
       "  'continents': ['Asia'],\n",
       "  'flags': {'png': 'https://flagcdn.com/w320/kr.png',\n",
       "   'svg': 'https://flagcdn.com/kr.svg',\n",
       "   'alt': 'The flag of South Korea has a white field, at the center of which is a red and blue Taegeuk circle surrounded by four black trigrams, one in each corner.'},\n",
       "  'coatOfArms': {'png': 'https://mainfacts.com/media/images/coats_of_arms/kr.png',\n",
       "   'svg': 'https://mainfacts.com/media/images/coats_of_arms/kr.svg'},\n",
       "  'startOfWeek': 'monday',\n",
       "  'capitalInfo': {'latlng': [37.55, 126.98]},\n",
       "  'postalCode': {'format': 'SEOUL ###-###', 'regex': '^(?:SEOUL)*(\\\\d{6})$'}}]"
      ]
     },
     "execution_count": 99,
     "metadata": {},
     "output_type": "execute_result"
    }
   ],
   "source": [
    "json_to_list = requests.get(url).json()\n",
    "json_to_list"
   ]
  },
  {
   "cell_type": "code",
   "execution_count": null,
   "metadata": {},
   "outputs": [
    {
     "data": {
      "text/plain": [
       "['Seoul']"
      ]
     },
     "execution_count": 100,
     "metadata": {},
     "output_type": "execute_result"
    }
   ],
   "source": [
    "json_to_list [0]['capital']"
   ]
  },
  {
   "cell_type": "code",
   "execution_count": null,
   "metadata": {},
   "outputs": [
    {
     "name": "stdout",
     "output_type": "stream",
     "text": [
      "*South korea:['Seoul']\n",
      "*United states of America:['Washington, D.C.']\n",
      "*United Kingdom:['London']\n",
      "*France:['Paris']\n",
      "*Germany:['Berlin']\n"
     ]
    }
   ],
   "source": [
    "import requests\n",
    "import json\n",
    "\n",
    "countries = [\"South korea\", \"United states of America\", \"United Kingdom\", \"France\", \"Germany\"]\n",
    "\n",
    "def country_to_capital(country):\n",
    "    url_temp = \"https://restcountries.com/v3.1/name/\"\n",
    "    url = url_temp + country\n",
    "    json_to_list = requests.get(url).json()\n",
    "    return json_to_list[0][\"capital\"]\n",
    "\n",
    "\n",
    "for country in countries:\n",
    "    capital =country_to_capital(country)\n",
    "    print(\"*{0}:{1}\".format(country, capital)) "
   ]
  },
  {
   "cell_type": "code",
   "execution_count": null,
   "metadata": {},
   "outputs": [],
   "source": [
    "#트위터"
   ]
  },
  {
   "cell_type": "code",
   "execution_count": null,
   "metadata": {},
   "outputs": [],
   "source": [
    "#정부의 공공 데이터 가져오기"
   ]
  },
  {
   "cell_type": "code",
   "execution_count": null,
   "metadata": {},
   "outputs": [
    {
     "data": {
      "text/plain": [
       "'NY4r14IU2Wsofcgoe9FJwT5SMRs/5K2PKhugD0WwUIPrfrryWlNzkPqDDpgf/FHP2tC8IaSgm6dOocvC872Jbw=='"
      ]
     },
     "execution_count": 102,
     "metadata": {},
     "output_type": "execute_result"
    }
   ],
   "source": [
    "import requests\n",
    "\n",
    "API_KEY = 'NY4r14IU2Wsofcgoe9FJwT5SMRs%2F5K2PKhugD0WwUIPrfrryWlNzkPqDDpgf%2FFHP2tC8IaSgm6dOocvC872Jbw%3D%3D'\n",
    "API_KEY_decode = requests.utils.unquote(API_KEY)\n",
    "API_KEY_decode"
   ]
  },
  {
   "cell_type": "code",
   "execution_count": null,
   "metadata": {},
   "outputs": [
    {
     "name": "stdout",
     "output_type": "stream",
     "text": [
      "<?xml version=\"1.0\" encoding=\"UTF-8\" standalone=\"yes\"?><NewAddressListResponse><cmmMsgHeader><requestMsgId></requestMsgId><responseMsgId></responseMsgId><responseTime>20240303:165556803</responseTime><successYN>Y</successYN><returnCode>00</returnCode><errMsg></errMsg><totalCount>1</totalCount><countPerPage>10</countPerPage><totalPage>1</totalPage><currentPage></currentPage></cmmMsgHeader><newAddressListAreaCd><zipNo>06579</zipNo><lnmAdres>서울특별시 서초구 반포대로 201 (반포동, 국립중앙도서관)</lnmAdres><rnAdres>서울특별시 서초구 반포동 산60-1 국립중앙도서관</rnAdres></newAddressListAreaCd></NewAddressListResponse>\n"
     ]
    }
   ],
   "source": [
    "req_url = \"http://openapi.epost.go.kr/postal/retrieveNewAdressAreaCdService/retrieveNewAdressAreaCdService/getNewAddressListAreaCd\"\n",
    "\n",
    "search_Se = \"road\"\n",
    "srch_wrd = \"반포대로 201\"\n",
    "\n",
    "req_parameter =  {\"ServiceKey\":API_KEY_decode, \"searchSe\":search_Se, \"srchwrd\":srch_wrd}\n",
    "\n",
    "r= requests.get(req_url, params= req_parameter)\n",
    "xml_data = r.text\n",
    "print(xml_data)\n"
   ]
  },
  {
   "cell_type": "code",
   "execution_count": null,
   "metadata": {},
   "outputs": [
    {
     "data": {
      "text/plain": [
       "{'NewAddressListResponse': {'cmmMsgHeader': {'requestMsgId': None,\n",
       "   'responseMsgId': None,\n",
       "   'responseTime': '20240303:165556803',\n",
       "   'successYN': 'Y',\n",
       "   'returnCode': '00',\n",
       "   'errMsg': None,\n",
       "   'totalCount': '1',\n",
       "   'countPerPage': '10',\n",
       "   'totalPage': '1',\n",
       "   'currentPage': None},\n",
       "  'newAddressListAreaCd': {'zipNo': '06579',\n",
       "   'lnmAdres': '서울특별시 서초구 반포대로 201 (반포동, 국립중앙도서관)',\n",
       "   'rnAdres': '서울특별시 서초구 반포동 산60-1 국립중앙도서관'}}}"
      ]
     },
     "execution_count": 104,
     "metadata": {},
     "output_type": "execute_result"
    }
   ],
   "source": [
    "import xmltodict\n",
    "dict_data = xmltodict.parse(xml_data)\n",
    "dict_data # dict 데이터롤 변환"
   ]
  },
  {
   "cell_type": "code",
   "execution_count": null,
   "metadata": {},
   "outputs": [],
   "source": [
    "#dict_data 딕셔너리로 변환된 변수 결과를 분석해 요소 추출 하기"
   ]
  },
  {
   "cell_type": "code",
   "execution_count": null,
   "metadata": {},
   "outputs": [
    {
     "name": "stdout",
     "output_type": "stream",
     "text": [
      "[입력한 도로명 주소] 반포대로 201\n",
      "[응답 데이터에서 추출한 결과]\n",
      "- 우편번호: 06579\n",
      "- 도로면주소: 서울특별시 서초구 반포대로 201 (반포동, 국립중앙도서관)\n",
      "- 지번주소: 서울특별시 서초구 반포동 산60-1 국립중앙도서관\n"
     ]
    }
   ],
   "source": [
    "address_list = dict_data['NewAddressListResponse']['newAddressListAreaCd']\n",
    "\n",
    "print(\"[입력한 도로명 주소]\", srch_wrd)\n",
    "print(\"[응답 데이터에서 추출한 결과]\")\n",
    "print(\"- 우편번호:\",address_list['zipNo'])\n",
    "print(\"- 도로면주소:\", address_list['lnmAdres'])\n",
    "print(\"- 지번주소:\", address_list['rnAdres'])                               "
   ]
  },
  {
   "cell_type": "code",
   "execution_count": null,
   "metadata": {},
   "outputs": [],
   "source": [
    "#날씨 실황조회"
   ]
  },
  {
   "cell_type": "code",
   "execution_count": null,
   "metadata": {},
   "outputs": [
    {
     "data": {
      "text/plain": [
       "'NY4r14IU2Wsofcgoe9FJwT5SMRs/5K2PKhugD0WwUIPrfrryWlNzkPqDDpgf/FHP2tC8IaSgm6dOocvC872Jbw=='"
      ]
     },
     "execution_count": 133,
     "metadata": {},
     "output_type": "execute_result"
    }
   ],
   "source": [
    "import requests\n",
    "\n",
    "API_KEY = \"NY4r14IU2Wsofcgoe9FJwT5SMRs%2F5K2PKhugD0WwUIPrfrryWlNzkPqDDpgf%2FFHP2tC8IaSgm6dOocvC872Jbw%3D%3D\"\n",
    "API_KEY_decode = requests.utils.unquote(API_KEY)\n",
    "API_KEY_decode"
   ]
  },
  {
   "cell_type": "code",
   "execution_count": null,
   "metadata": {},
   "outputs": [
    {
     "data": {
      "text/plain": [
       "{'response': {'header': {'resultCode': '00', 'resultMsg': 'NORMAL_SERVICE'},\n",
       "  'body': {'dataType': 'JSON',\n",
       "   'items': {'item': [{'baseDate': '20240303',\n",
       "      'baseTime': '2300',\n",
       "      'category': 'PTY',\n",
       "      'nx': 60,\n",
       "      'ny': 127,\n",
       "      'obsrValue': '0'},\n",
       "     {'baseDate': '20240303',\n",
       "      'baseTime': '2300',\n",
       "      'category': 'REH',\n",
       "      'nx': 60,\n",
       "      'ny': 127,\n",
       "      'obsrValue': '81'},\n",
       "     {'baseDate': '20240303',\n",
       "      'baseTime': '2300',\n",
       "      'category': 'RN1',\n",
       "      'nx': 60,\n",
       "      'ny': 127,\n",
       "      'obsrValue': '0'},\n",
       "     {'baseDate': '20240303',\n",
       "      'baseTime': '2300',\n",
       "      'category': 'T1H',\n",
       "      'nx': 60,\n",
       "      'ny': 127,\n",
       "      'obsrValue': '2'},\n",
       "     {'baseDate': '20240303',\n",
       "      'baseTime': '2300',\n",
       "      'category': 'UUU',\n",
       "      'nx': 60,\n",
       "      'ny': 127,\n",
       "      'obsrValue': '1.4'},\n",
       "     {'baseDate': '20240303',\n",
       "      'baseTime': '2300',\n",
       "      'category': 'VEC',\n",
       "      'nx': 60,\n",
       "      'ny': 127,\n",
       "      'obsrValue': '266'}]},\n",
       "   'pageNo': 1,\n",
       "   'numOfRows': 6,\n",
       "   'totalCount': 8}}}"
      ]
     },
     "execution_count": 134,
     "metadata": {},
     "output_type": "execute_result"
    }
   ],
   "source": [
    "import json\n",
    "import datetime\n",
    "\n",
    "now =datetime.datetime.now()\n",
    "\n",
    "\n",
    "date = \"{:%Y%m%d}\".format(now)\n",
    "\n",
    "\n",
    "\n",
    "time = \"{:%H00}\".format(now)\n",
    "\n",
    "\n",
    "if (now.minute >= 30):\n",
    "    time = \"{0}00\".format(now.hour)\n",
    "\n",
    "else:\n",
    "    time = \"{0}00\".format(now.hour -1)\n",
    "    \n",
    "    \n",
    "\n",
    "#요청 주소 및 요청 변수 지정\n",
    "req_url = \"http://apis.data.go.kr/1360000/VilageFcstInfoService_2.0/getUltraSrtNcst\"\n",
    "\n",
    "baseDate = date\n",
    "baseTime = time\n",
    "\n",
    "nx_val = 60\n",
    "ny_val = 127\n",
    "\n",
    "\n",
    "num_of_rows = 6\n",
    "page_no =1\n",
    "\n",
    "output_type = \"JSON\"\n",
    "\n",
    "req_parameter = {\"ServiceKey\":API_KEY_decode,\n",
    "                 \"nx\": nx_val, \"ny\": ny_val,\n",
    "                 \"base_date\":baseDate, \"base_time\":baseTime,\n",
    "                 \"pageNo\":page_no, \"numOfRows\":num_of_rows,\n",
    "                 \"dataType\":output_type}\n",
    "                 \n",
    "                 \n",
    "r = requests.get(req_url, params=req_parameter)\n",
    "\n",
    "dict_data = r.json()\n",
    "dict_data"
   ]
  },
  {
   "cell_type": "code",
   "execution_count": null,
   "metadata": {},
   "outputs": [],
   "source": [
    "#json 형식 데이터에서 원하는 데이터 추출"
   ]
  },
  {
   "cell_type": "code",
   "execution_count": null,
   "metadata": {},
   "outputs": [
    {
     "name": "stdout",
     "output_type": "stream",
     "text": [
      "[발표날짜: 20240303 ]\n",
      "[발표시간: 2300 ]\n",
      "*습도:81 [%]\n",
      "* 기온:2 [c]\n"
     ]
    }
   ],
   "source": [
    "weather_items = dict_data['response']['body']['items']['item']\n",
    "\n",
    "\n",
    "print(\"[발표날짜: {} ]\".format(weather_items[0]['baseDate']))\n",
    "print(\"[발표시간: {} ]\".format(weather_items[0]['baseTime']))\n",
    "\n",
    "for k in range(len(weather_items)):\n",
    "    weather_item = weather_items[k]\n",
    "    obsrValue = weather_item['obsrValue']\n",
    "    if(weather_item['category'] == 'T1H'):\n",
    "        print(\"* 기온:{} [c]\".format(obsrValue))\n",
    "        \n",
    "    elif(weather_item['category'] =='REH'):\n",
    "        print(\"*습도:{} [%]\".format(obsrValue))\n",
    "    elif(weather_item['category'] == 'RN'):\n",
    "        print(*\" 1시간 강수량: {}[mm]\".format(obsrValue))       "
   ]
  },
  {
   "cell_type": "code",
   "execution_count": 6,
   "metadata": {},
   "outputs": [
    {
     "name": "stdout",
     "output_type": "stream",
     "text": [
      "{'response': {'header': {'resultCode': '00', 'resultMsg': 'NORMAL_SERVICE'}, 'body': {'dataType': 'JSON', 'items': {'item': [{'baseDate': '20240304', 'baseTime': '1400', 'category': 'PTY', 'nx': 60, 'ny': 127, 'obsrValue': '0'}, {'baseDate': '20240304', 'baseTime': '1400', 'category': 'REH', 'nx': 60, 'ny': 127, 'obsrValue': '19'}, {'baseDate': '20240304', 'baseTime': '1400', 'category': 'RN1', 'nx': 60, 'ny': 127, 'obsrValue': '0'}, {'baseDate': '20240304', 'baseTime': '1400', 'category': 'T1H', 'nx': 60, 'ny': 127, 'obsrValue': '11.1'}, {'baseDate': '20240304', 'baseTime': '1400', 'category': 'UUU', 'nx': 60, 'ny': 127, 'obsrValue': '0.3'}, {'baseDate': '20240304', 'baseTime': '1400', 'category': 'VEC', 'nx': 60, 'ny': 127, 'obsrValue': '186'}, {'baseDate': '20240304', 'baseTime': '1400', 'category': 'VVV', 'nx': 60, 'ny': 127, 'obsrValue': '2.7'}, {'baseDate': '20240304', 'baseTime': '1400', 'category': 'WSD', 'nx': 60, 'ny': 127, 'obsrValue': '2.7'}]}, 'pageNo': 1, 'numOfRows': 30, 'totalCount': 8}}}\n",
      "[ 발표날짜:20240304 ]\n",
      "[ 발표시간:1400 ]\n",
      "[ 초단기 일기 예보 ]\n",
      "{'baseDate': '20240304', 'baseTime': '1400', 'category': 'PTY', 'nx': 60, 'ny': 127, 'obsrValue': '0'}\n"
     ]
    },
    {
     "ename": "NameError",
     "evalue": "name 'fcstTime' is not defined",
     "output_type": "error",
     "traceback": [
      "\u001b[1;31m---------------------------------------------------------------------------\u001b[0m",
      "\u001b[1;31mNameError\u001b[0m                                 Traceback (most recent call last)",
      "Cell \u001b[1;32mIn[6], line 69\u001b[0m\n\u001b[0;32m     67\u001b[0m     \u001b[38;5;28mprint\u001b[39m(\u001b[38;5;124m\"\u001b[39m\u001b[38;5;124m* 시각: \u001b[39m\u001b[38;5;132;01m{0}\u001b[39;00m\u001b[38;5;124m, 하늘상태: \u001b[39m\u001b[38;5;132;01m{1}\u001b[39;00m\u001b[38;5;124m\"\u001b[39m\u001b[38;5;241m.\u001b[39mformat(fcstTime, sky_cond[\u001b[38;5;28mint\u001b[39m(fcstValue)\u001b[38;5;241m-\u001b[39m\u001b[38;5;241m1\u001b[39m]))\n\u001b[0;32m     68\u001b[0m \u001b[38;5;28;01melif\u001b[39;00m(weather_item[\u001b[38;5;124m'\u001b[39m\u001b[38;5;124mcategory\u001b[39m\u001b[38;5;124m'\u001b[39m] \u001b[38;5;241m==\u001b[39m \u001b[38;5;124m'\u001b[39m\u001b[38;5;124mPTY\u001b[39m\u001b[38;5;124m'\u001b[39m):\n\u001b[1;32m---> 69\u001b[0m     \u001b[38;5;28mprint\u001b[39m(\u001b[38;5;124m\"\u001b[39m\u001b[38;5;124m* 시각: \u001b[39m\u001b[38;5;132;01m{0}\u001b[39;00m\u001b[38;5;124m, 강수 형태: \u001b[39m\u001b[38;5;132;01m{1}\u001b[39;00m\u001b[38;5;124m\"\u001b[39m\u001b[38;5;241m.\u001b[39mformat(\u001b[43mfcstTime\u001b[49m, rain_type[\u001b[38;5;28mint\u001b[39m(fcstValue)]))\n\u001b[0;32m     70\u001b[0m \u001b[38;5;28;01melif\u001b[39;00m(weather_item[\u001b[38;5;124m'\u001b[39m\u001b[38;5;124mcategory\u001b[39m\u001b[38;5;124m'\u001b[39m] \u001b[38;5;241m==\u001b[39m \u001b[38;5;124m'\u001b[39m\u001b[38;5;124mRN1\u001b[39m\u001b[38;5;124m'\u001b[39m):\n\u001b[0;32m     71\u001b[0m     \u001b[38;5;28mprint\u001b[39m(\u001b[38;5;124m\"\u001b[39m\u001b[38;5;124m* 시각: \u001b[39m\u001b[38;5;132;01m{0}\u001b[39;00m\u001b[38;5;124m, 1시간 강수량: \u001b[39m\u001b[38;5;132;01m{1}\u001b[39;00m\u001b[38;5;124m [mm]\u001b[39m\u001b[38;5;124m\"\u001b[39m\u001b[38;5;241m.\u001b[39mformat(fcstTime,fcstValue))\n",
      "\u001b[1;31mNameError\u001b[0m: name 'fcstTime' is not defined"
     ]
    }
   ],
   "source": [
    "import json\n",
    "import datetime\n",
    "\n",
    "now = datetime.datetime.now()\n",
    "\n",
    "date= \"{:%Y%m%d}\".format(now)\n",
    "time= \"{:%H00}\".format(now)\n",
    "\n",
    "if (now.minute >= 30):\n",
    "    time = \"{0}00\".format(now.hour)\n",
    "    \n",
    "else:\n",
    "    time = \"{0}00\".format(now.hour-1)    \n",
    "    \n",
    "    \n",
    "    \n",
    "req_url = \"http://apis.data.go.kr/1360000/VilageFcstInfoService_2.0/getUltraSrtNcst\"\n",
    "\n",
    "baseDate = date\n",
    "baseTime = time\n",
    "\n",
    "nx_val = 60\n",
    "ny_val =127\n",
    "\n",
    "num_of_rows = 30\n",
    "page_no = 1\n",
    "\n",
    "output_type = \"json\"\n",
    "\n",
    "req_parameter = {\"ServiceKey\":API_KEY_decode,\n",
    "                 \"nx\":nx_val, \"ny\":ny_val,\n",
    "                 \"base_date\":baseDate, \"base_time\":baseTime,\n",
    "                 \"pageNo\":page_no, \"numOfRows\":num_of_rows,\n",
    "                 \"dataType\":output_type}\n",
    "\n",
    "\n",
    "\n",
    "r = requests.get(req_url, params=req_parameter)\n",
    "\n",
    "dict_data = r.json()\n",
    "\n",
    "weather_items = dict_data['response']['body']['items']['item']\n",
    "print (dict_data)\n",
    "\n",
    "sky_cond = ['맑음', '구름조금', '구름많음', '흐림']\n",
    "rain_type = ['없음', '비', '비/눈', '눈', '소나기', '빗방울', '빗방울/눈날림']\n",
    "\n",
    "print(\"[ 발표날짜:{} ]\".format(weather_items[0]['baseDate']))\n",
    "print(\"[ 발표시간:{} ]\".format(weather_items[0]['baseTime']))\n",
    "\n",
    "print(\"[ 초단기 일기 예보 ]\")\n",
    "\n",
    "\n",
    "for k in range(len(weather_items)):\n",
    "    weather_item = weather_items[k]\n",
    "    \n",
    "    print(weather_item)\n",
    "\n",
    "    \n",
    "    fcstTime = weather_item['fcstTime']\n",
    "    fcstValue = weather_item['fcstValue']\n",
    "    \n",
    "    \n",
    "    if(weather_item['category'] == 'T1H'):\n",
    "        print(\" 시각:: {0}, 기온: {1} [C]\".format(fcstTime, fcstValue))\n",
    "    elif(weather_item['category'] == 'REH'):\n",
    "        print(\"* 시각: {0}, 습도: {1} [%]\".format(fcstTime,fcstValue))\n",
    "    elif(weather_item['category'] == 'SKY'):\n",
    "        print(\"* 시각: {0}, 하늘상태: {1}\".format(fcstTime, sky_cond[int(fcstValue)-1]))\n",
    "    elif(weather_item['category'] == 'PTY'):\n",
    "        print(\"* 시각: {0}, 강수 형태: {1}\".format(fcstTime, rain_type[int(fcstValue)]))\n",
    "    elif(weather_item['category'] == 'RN1'):\n",
    "        print(\"* 시각: {0}, 1시간 강수량: {1} [mm]\".format(fcstTime,fcstValue))\n"
   ]
  },
  {
   "cell_type": "code",
   "execution_count": null,
   "metadata": {},
   "outputs": [],
   "source": [
    "#대기 오염 정보 가져오기"
   ]
  },
  {
   "cell_type": "code",
   "execution_count": null,
   "metadata": {},
   "outputs": [],
   "source": [
    "#근접 측정소ㅓ 목록 가져오기"
   ]
  },
  {
   "cell_type": "code",
   "execution_count": 2,
   "metadata": {},
   "outputs": [
    {
     "data": {
      "text/plain": [
       "'NY4r14IU2Wsofcgoe9FJwT5SMRs/5K2PKhugD0WwUIPrfrryWlNzkPqDDpgf/FHP2tC8IaSgm6dOocvC872Jbw=='"
      ]
     },
     "execution_count": 2,
     "metadata": {},
     "output_type": "execute_result"
    }
   ],
   "source": [
    "import requests\n",
    "API_KEY = \"NY4r14IU2Wsofcgoe9FJwT5SMRs%2F5K2PKhugD0WwUIPrfrryWlNzkPqDDpgf%2FFHP2tC8IaSgm6dOocvC872Jbw%3D%3D\"\n",
    "API_KEY_decode = requests.utils.unquote(API_KEY)\n",
    "API_KEY_decode"
   ]
  },
  {
   "cell_type": "code",
   "execution_count": 3,
   "metadata": {},
   "outputs": [
    {
     "ename": "JSONDecodeError",
     "evalue": "Expecting value: line 1 column 1 (char 0)",
     "output_type": "error",
     "traceback": [
      "\u001b[1;31m---------------------------------------------------------------------------\u001b[0m",
      "\u001b[1;31mJSONDecodeError\u001b[0m                           Traceback (most recent call last)",
      "File \u001b[1;32mh:\\code\\python basic\\venv\\Lib\\site-packages\\requests\\models.py:971\u001b[0m, in \u001b[0;36mResponse.json\u001b[1;34m(self, **kwargs)\u001b[0m\n\u001b[0;32m    970\u001b[0m \u001b[38;5;28;01mtry\u001b[39;00m:\n\u001b[1;32m--> 971\u001b[0m     \u001b[38;5;28;01mreturn\u001b[39;00m \u001b[43mcomplexjson\u001b[49m\u001b[38;5;241;43m.\u001b[39;49m\u001b[43mloads\u001b[49m\u001b[43m(\u001b[49m\u001b[38;5;28;43mself\u001b[39;49m\u001b[38;5;241;43m.\u001b[39;49m\u001b[43mtext\u001b[49m\u001b[43m,\u001b[49m\u001b[43m \u001b[49m\u001b[38;5;241;43m*\u001b[39;49m\u001b[38;5;241;43m*\u001b[39;49m\u001b[43mkwargs\u001b[49m\u001b[43m)\u001b[49m\n\u001b[0;32m    972\u001b[0m \u001b[38;5;28;01mexcept\u001b[39;00m JSONDecodeError \u001b[38;5;28;01mas\u001b[39;00m e:\n\u001b[0;32m    973\u001b[0m     \u001b[38;5;66;03m# Catch JSON-related errors and raise as requests.JSONDecodeError\u001b[39;00m\n\u001b[0;32m    974\u001b[0m     \u001b[38;5;66;03m# This aliases json.JSONDecodeError and simplejson.JSONDecodeError\u001b[39;00m\n",
      "File \u001b[1;32m~\\AppData\\Local\\Programs\\Python\\Python312\\Lib\\json\\__init__.py:346\u001b[0m, in \u001b[0;36mloads\u001b[1;34m(s, cls, object_hook, parse_float, parse_int, parse_constant, object_pairs_hook, **kw)\u001b[0m\n\u001b[0;32m    343\u001b[0m \u001b[38;5;28;01mif\u001b[39;00m (\u001b[38;5;28mcls\u001b[39m \u001b[38;5;129;01mis\u001b[39;00m \u001b[38;5;28;01mNone\u001b[39;00m \u001b[38;5;129;01mand\u001b[39;00m object_hook \u001b[38;5;129;01mis\u001b[39;00m \u001b[38;5;28;01mNone\u001b[39;00m \u001b[38;5;129;01mand\u001b[39;00m\n\u001b[0;32m    344\u001b[0m         parse_int \u001b[38;5;129;01mis\u001b[39;00m \u001b[38;5;28;01mNone\u001b[39;00m \u001b[38;5;129;01mand\u001b[39;00m parse_float \u001b[38;5;129;01mis\u001b[39;00m \u001b[38;5;28;01mNone\u001b[39;00m \u001b[38;5;129;01mand\u001b[39;00m\n\u001b[0;32m    345\u001b[0m         parse_constant \u001b[38;5;129;01mis\u001b[39;00m \u001b[38;5;28;01mNone\u001b[39;00m \u001b[38;5;129;01mand\u001b[39;00m object_pairs_hook \u001b[38;5;129;01mis\u001b[39;00m \u001b[38;5;28;01mNone\u001b[39;00m \u001b[38;5;129;01mand\u001b[39;00m \u001b[38;5;129;01mnot\u001b[39;00m kw):\n\u001b[1;32m--> 346\u001b[0m     \u001b[38;5;28;01mreturn\u001b[39;00m \u001b[43m_default_decoder\u001b[49m\u001b[38;5;241;43m.\u001b[39;49m\u001b[43mdecode\u001b[49m\u001b[43m(\u001b[49m\u001b[43ms\u001b[49m\u001b[43m)\u001b[49m\n\u001b[0;32m    347\u001b[0m \u001b[38;5;28;01mif\u001b[39;00m \u001b[38;5;28mcls\u001b[39m \u001b[38;5;129;01mis\u001b[39;00m \u001b[38;5;28;01mNone\u001b[39;00m:\n",
      "File \u001b[1;32m~\\AppData\\Local\\Programs\\Python\\Python312\\Lib\\json\\decoder.py:337\u001b[0m, in \u001b[0;36mJSONDecoder.decode\u001b[1;34m(self, s, _w)\u001b[0m\n\u001b[0;32m    333\u001b[0m \u001b[38;5;250m\u001b[39m\u001b[38;5;124;03m\"\"\"Return the Python representation of ``s`` (a ``str`` instance\u001b[39;00m\n\u001b[0;32m    334\u001b[0m \u001b[38;5;124;03mcontaining a JSON document).\u001b[39;00m\n\u001b[0;32m    335\u001b[0m \n\u001b[0;32m    336\u001b[0m \u001b[38;5;124;03m\"\"\"\u001b[39;00m\n\u001b[1;32m--> 337\u001b[0m obj, end \u001b[38;5;241m=\u001b[39m \u001b[38;5;28;43mself\u001b[39;49m\u001b[38;5;241;43m.\u001b[39;49m\u001b[43mraw_decode\u001b[49m\u001b[43m(\u001b[49m\u001b[43ms\u001b[49m\u001b[43m,\u001b[49m\u001b[43m \u001b[49m\u001b[43midx\u001b[49m\u001b[38;5;241;43m=\u001b[39;49m\u001b[43m_w\u001b[49m\u001b[43m(\u001b[49m\u001b[43ms\u001b[49m\u001b[43m,\u001b[49m\u001b[43m \u001b[49m\u001b[38;5;241;43m0\u001b[39;49m\u001b[43m)\u001b[49m\u001b[38;5;241;43m.\u001b[39;49m\u001b[43mend\u001b[49m\u001b[43m(\u001b[49m\u001b[43m)\u001b[49m\u001b[43m)\u001b[49m\n\u001b[0;32m    338\u001b[0m end \u001b[38;5;241m=\u001b[39m _w(s, end)\u001b[38;5;241m.\u001b[39mend()\n",
      "File \u001b[1;32m~\\AppData\\Local\\Programs\\Python\\Python312\\Lib\\json\\decoder.py:355\u001b[0m, in \u001b[0;36mJSONDecoder.raw_decode\u001b[1;34m(self, s, idx)\u001b[0m\n\u001b[0;32m    354\u001b[0m \u001b[38;5;28;01mexcept\u001b[39;00m \u001b[38;5;167;01mStopIteration\u001b[39;00m \u001b[38;5;28;01mas\u001b[39;00m err:\n\u001b[1;32m--> 355\u001b[0m     \u001b[38;5;28;01mraise\u001b[39;00m JSONDecodeError(\u001b[38;5;124m\"\u001b[39m\u001b[38;5;124mExpecting value\u001b[39m\u001b[38;5;124m\"\u001b[39m, s, err\u001b[38;5;241m.\u001b[39mvalue) \u001b[38;5;28;01mfrom\u001b[39;00m \u001b[38;5;28;01mNone\u001b[39;00m\n\u001b[0;32m    356\u001b[0m \u001b[38;5;28;01mreturn\u001b[39;00m obj, end\n",
      "\u001b[1;31mJSONDecodeError\u001b[0m: Expecting value: line 1 column 1 (char 0)",
      "\nDuring handling of the above exception, another exception occurred:\n",
      "\u001b[1;31mJSONDecodeError\u001b[0m                           Traceback (most recent call last)",
      "Cell \u001b[1;32mIn[3], line 13\u001b[0m\n\u001b[0;32m      7\u001b[0m output_type \u001b[38;5;241m=\u001b[39m \u001b[38;5;124m\"\u001b[39m\u001b[38;5;124mjson\u001b[39m\u001b[38;5;124m\"\u001b[39m\n\u001b[0;32m      9\u001b[0m req_parameter \u001b[38;5;241m=\u001b[39m {\u001b[38;5;124m\"\u001b[39m\u001b[38;5;124mServiceKey\u001b[39m\u001b[38;5;124m\"\u001b[39m:API_KEY_decode, \u001b[38;5;124m\"\u001b[39m\u001b[38;5;124mumdName\u001b[39m\u001b[38;5;124m\"\u001b[39m:umd_name,\n\u001b[0;32m     10\u001b[0m                  \u001b[38;5;124m\"\u001b[39m\u001b[38;5;124mpageNo\u001b[39m\u001b[38;5;124m\"\u001b[39m:page_no, \u001b[38;5;124m\"\u001b[39m\u001b[38;5;124mnumOfRows\u001b[39m\u001b[38;5;124m\"\u001b[39m:num_of_rows,\n\u001b[0;32m     11\u001b[0m                  \u001b[38;5;124m\"\u001b[39m\u001b[38;5;124m_returnType\u001b[39m\u001b[38;5;124m\"\u001b[39m:output_type}\n\u001b[1;32m---> 13\u001b[0m dict_data \u001b[38;5;241m=\u001b[39m \u001b[43mrequests\u001b[49m\u001b[38;5;241;43m.\u001b[39;49m\u001b[43mget\u001b[49m\u001b[43m(\u001b[49m\u001b[43mreq_url\u001b[49m\u001b[43m,\u001b[49m\u001b[43m \u001b[49m\u001b[43mparams\u001b[49m\u001b[38;5;241;43m=\u001b[39;49m\u001b[43m \u001b[49m\u001b[43mreq_parameter\u001b[49m\u001b[43m)\u001b[49m\u001b[38;5;241;43m.\u001b[39;49m\u001b[43mjson\u001b[49m\u001b[43m(\u001b[49m\u001b[43m)\u001b[49m\n\u001b[0;32m     14\u001b[0m dict_data[\u001b[38;5;124m'\u001b[39m\u001b[38;5;124mtotalCount\u001b[39m\u001b[38;5;124m'\u001b[39m]\n",
      "File \u001b[1;32mh:\\code\\python basic\\venv\\Lib\\site-packages\\requests\\models.py:975\u001b[0m, in \u001b[0;36mResponse.json\u001b[1;34m(self, **kwargs)\u001b[0m\n\u001b[0;32m    971\u001b[0m     \u001b[38;5;28;01mreturn\u001b[39;00m complexjson\u001b[38;5;241m.\u001b[39mloads(\u001b[38;5;28mself\u001b[39m\u001b[38;5;241m.\u001b[39mtext, \u001b[38;5;241m*\u001b[39m\u001b[38;5;241m*\u001b[39mkwargs)\n\u001b[0;32m    972\u001b[0m \u001b[38;5;28;01mexcept\u001b[39;00m JSONDecodeError \u001b[38;5;28;01mas\u001b[39;00m e:\n\u001b[0;32m    973\u001b[0m     \u001b[38;5;66;03m# Catch JSON-related errors and raise as requests.JSONDecodeError\u001b[39;00m\n\u001b[0;32m    974\u001b[0m     \u001b[38;5;66;03m# This aliases json.JSONDecodeError and simplejson.JSONDecodeError\u001b[39;00m\n\u001b[1;32m--> 975\u001b[0m     \u001b[38;5;28;01mraise\u001b[39;00m RequestsJSONDecodeError(e\u001b[38;5;241m.\u001b[39mmsg, e\u001b[38;5;241m.\u001b[39mdoc, e\u001b[38;5;241m.\u001b[39mpos)\n",
      "\u001b[1;31mJSONDecodeError\u001b[0m: Expecting value: line 1 column 1 (char 0)"
     ]
    }
   ],
   "source": [
    "req_url = \"http://apis.data.go.kr/B552584/MsrstnInfoInqireSvc/getMsrstnList\"\n",
    "\n",
    "umd_name = \"논현동\"\n",
    "num_of_rows = 10\n",
    "page_no = 1\n",
    "\n",
    "output_type = \"json\"\n",
    "\n",
    "req_parameter = {\"ServiceKey\":API_KEY_decode, \"umdName\":umd_name,\n",
    "                 \"pageNo\":page_no, \"numOfRows\":num_of_rows,\n",
    "                 \"_returnType\":output_type}\n",
    "\n",
    "dict_data = requests.get(req_url, params= req_parameter).json()\n",
    "dict_data['totalCount']"
   ]
  },
  {
   "cell_type": "code",
   "execution_count": null,
   "metadata": {},
   "outputs": [],
   "source": []
  }
 ],
 "metadata": {
  "kernelspec": {
   "display_name": "Python 3",
   "language": "python",
   "name": "python3"
  },
  "language_info": {
   "codemirror_mode": {
    "name": "ipython",
    "version": 3
   },
   "file_extension": ".py",
   "mimetype": "text/x-python",
   "name": "python",
   "nbconvert_exporter": "python",
   "pygments_lexer": "ipython3",
   "version": "3.12.2"
  }
 },
 "nbformat": 4,
 "nbformat_minor": 2
}
